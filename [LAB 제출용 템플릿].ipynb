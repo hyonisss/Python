{
 "cells": [
  {
   "cell_type": "code",
   "execution_count": null,
   "metadata": {},
   "outputs": [],
   "source": [
    "from IPython.core.interactiveshell import InteractiveShell\n",
    "InteractiveShell.ast_node_interactivity = \"all\"\n",
    "\n",
    "# html을 이용하여 가로방향으로 여러 DF을 인쇄\n",
    "class disp(object):\n",
    "    template = '<div style=\"float: left;padding:10px;\"> <b>[{0}]</b> {1}</div>'\n",
    "    def __init__(self, *args):\n",
    "        self.args = args\n",
    "        \n",
    "    def _repr_html_(self):\n",
    "        return '\\n'.join(self.template.format(a, eval(a)._repr_html_())\n",
    "                         for a in self.args )"
   ]
  },
  {
   "cell_type": "markdown",
   "metadata": {},
   "source": [
    "##### codexpert의 코드를 복사한후 작성하고 제출하시오\n",
    "##### Kernel 메뉴에서 \"Restart & Clear Output\" 수행후 결과 확인 바람"
   ]
  },
  {
   "cell_type": "code",
   "execution_count": 3,
   "metadata": {},
   "outputs": [
    {
     "name": "stdout",
     "output_type": "stream",
     "text": [
      "      sex partner  cnt\n",
      "0  female   sibsp    1\n",
      "1  female   sibsp    0\n",
      "2  female   sibsp    1\n",
      "        sex partner  cnt\n",
      "681  female   parch    1\n",
      "682  female   parch    0\n",
      "683    male   parch    0\n"
     ]
    }
   ],
   "source": [
    "# [1]\n",
    "import pandas as pd \n",
    "import numpy as np\n",
    "import seaborn as sns\n",
    "\n",
    "# 채점시스템 제출시는 아래 변수 값을 1로 수정하여 제출하세요 #\n",
    "# 0: seaborn에서 데이터 로드, 1: 채점시스템에서 로드\n",
    "\n",
    "test = 0\n",
    "\n",
    "if test == 1 :\n",
    "    t = eval(input())\n",
    "    titanic = pd.DataFrame(t[1:], columns = t[0])\n",
    "else :\n",
    "    titanic = sns.load_dataset('titanic')\n",
    "    #titanic = pd.read_csv('data/titanic.csv')\n",
    "\n",
    "titanic.head()\n",
    "# ---------------------------------------------------------------------------------\n",
    "\n",
    "col = ['sex', 'sibsp', 'parch']\n",
    "df = titanic.query('survived==1')[col]\n",
    "df.head()\n",
    "\n",
    "df1 = df.melt(id_vars='sex', var_name='partner', value_name = 'cnt')\n",
    "print(df1.head(3))\n",
    "print(df1.tail(3))"
   ]
  },
  {
   "cell_type": "code",
   "execution_count": 9,
   "metadata": {},
   "outputs": [
    {
     "name": "stdout",
     "output_type": "stream",
     "text": [
      "cnt       0    1    2    3    4     5\n",
      "sex                                  \n",
      "female  1.0  3.0  5.0  7.0  8.0  10.0\n",
      "male    2.0  4.0  6.0  NaN  9.0   NaN\n"
     ]
    }
   ],
   "source": [
    "# [2]\n",
    "import pandas as pd \n",
    "import numpy as np\n",
    "import seaborn as sns\n",
    "\n",
    "# 채점시스템 제출시는 아래 변수 값을 1로 수정하여 제출하세요 #\n",
    "# 0: seaborn에서 데이터 로드, 1: 채점시스템에서 로드\n",
    "\n",
    "test = 0\n",
    "\n",
    "if test == 1 :\n",
    "    t = eval(input())\n",
    "    titanic = pd.DataFrame(t[1:], columns = t[0])\n",
    "else :\n",
    "    titanic = sns.load_dataset('titanic')\n",
    "    #titanic = pd.read_csv('data/titanic.csv')\n",
    "\n",
    "titanic.head()\n",
    "col = ['sex', 'sibsp', 'parch']\n",
    "df = titanic.query('survived==1')[col]\n",
    "df.head()\n",
    "df1 = df.melt(id_vars='sex', var_name='partner', value_name='cnt')\n",
    "# ---------------------------------------------------------------------------------\n",
    "\n",
    "# [2] \n",
    "IDdf = df1[['sex', 'cnt']].drop_duplicates()\n",
    "IDdf = IDdf.sort_values(['cnt','sex'])\n",
    "IDdf['id'] = range(1, len(IDdf)+1)\n",
    "IDdf\n",
    "\n",
    "df2 = IDdf.pivot(index='sex',columns='cnt',values='id')\n",
    "print(df2)"
   ]
  },
  {
   "cell_type": "code",
   "execution_count": 11,
   "metadata": {},
   "outputs": [
    {
     "name": "stdout",
     "output_type": "stream",
     "text": [
      "smoker  Yes   No  All\n",
      "sex                  \n",
      "Male     60   97  157\n",
      "Female   33   54   87\n",
      "All      93  151  244\n"
     ]
    }
   ],
   "source": [
    "# [1]\n",
    "import pandas as pd \n",
    "import numpy as np\n",
    "import seaborn as sns\n",
    "\n",
    "# 채점시스템 제출시는 test변수를 1로 수정하여 제출하세요 #\n",
    "# 0: seaborn에서 데이터 로드, 1: 채점시스템에서 로드\n",
    "\n",
    "test = 0\n",
    "\n",
    "if test == 1 :\n",
    "    t = eval(input())\n",
    "    df = pd.DataFrame(t[1:], columns = t[0])\n",
    "    df['sex'] = pd.Categorical(df['sex'], categories=['Male', 'Female'], ordered=True)\n",
    "    df['smoker'] = pd.Categorical(df['smoker'], categories=['Yes', 'No'], ordered=True)\n",
    "else :\n",
    "    df = sns.load_dataset('tips')\n",
    "    #df = pd.read_pickle('data/tips.pickle')\n",
    "\n",
    "df['tip_pct'] = (df['tip']/df['total_bill']).mul(100).round()\n",
    "df.head()\n",
    "# --------------------------------------------------------------------------\n",
    "\n",
    "r1 = pd.pivot_table(df,index='sex', columns='smoker', values='tip', aggfunc='count', margins=True)\n",
    "print(r1)"
   ]
  },
  {
   "cell_type": "code",
   "execution_count": 14,
   "metadata": {},
   "outputs": [
    {
     "name": "stdout",
     "output_type": "stream",
     "text": [
      "       tip tip_pct      \n",
      "     count     max   min\n",
      "day                     \n",
      "Thur    62    27.0   7.0\n",
      "Fri     19    26.0  10.0\n",
      "Sat     87    33.0   4.0\n",
      "Sun     76    71.0   6.0\n"
     ]
    }
   ],
   "source": [
    "# [2] \n",
    "import pandas as pd \n",
    "import numpy as np\n",
    "import seaborn as sns\n",
    "\n",
    "# 채점시스템 제출시는 test변수를 1로 수정하여 제출하세요 #\n",
    "# 0: seaborn에서 데이터 로드, 1: 채점시스템에서 로드\n",
    "\n",
    "test = 0\n",
    "\n",
    "if test == 1 :\n",
    "    t = eval(input())\n",
    "    df = pd.DataFrame(t[1:], columns = t[0])\n",
    "    df['day'] = pd.Categorical(df['day'], categories=['Thur', 'Fri', 'Sat', 'Sun'], ordered=True)\n",
    "else :\n",
    "    df = sns.load_dataset('tips')\n",
    "    #df = pd.read_pickle('data/tips.pickle')\n",
    "\n",
    "df['tip_pct'] = (df['tip']/df['total_bill']).mul(100).round()\n",
    "df.head()\n",
    "# --------------------------------------------------------------------------\n",
    "\n",
    "r2 = pd.pivot_table(df, index='day',aggfunc={'tip':'count', 'tip_pct':['max', 'min']})\n",
    "print(r2)\n"
   ]
  },
  {
   "cell_type": "code",
   "execution_count": 20,
   "metadata": {},
   "outputs": [
    {
     "name": "stdout",
     "output_type": "stream",
     "text": [
      "size         1   2   3   4  5  6\n",
      "day  time                       \n",
      "Thur Lunch   1  47   4   5  1  3\n",
      "     Dinner  0   1   0   0  0  0\n",
      "Fri  Lunch   1   5   1   0  0  0\n",
      "     Dinner  0  11   0   1  0  0\n",
      "Sat  Dinner  2  53  18  13  1  0\n",
      "Sun  Dinner  0  39  15  18  3  1\n"
     ]
    }
   ],
   "source": [
    "# [3] \n",
    "import pandas as pd \n",
    "import numpy as np\n",
    "import seaborn as sns\n",
    "\n",
    "# 채점시스템 제출시는 test변수를 1로 수정하여 제출하세요 #\n",
    "# 0: seaborn에서 데이터 로드, 1: 채점시스템에서 로드\n",
    "\n",
    "test = 0\n",
    "\n",
    "if test == 1 :\n",
    "    t = eval(input())\n",
    "    df = pd.DataFrame(t[1:], columns = t[0])\n",
    "    df['day'] = pd.Categorical(df['day'], categories=['Thur', 'Fri', 'Sat', 'Sun'], ordered=True)\n",
    "    df['time'] = pd.Categorical(df['time'], categories=['Lunch', 'Dinner'], ordered=True)\n",
    "else :\n",
    "    df = sns.load_dataset('tips')\n",
    "    #df = pd.read_pickle('data/tips.pickle')\n",
    "\n",
    "df['tip_pct'] = (df['tip']/df['total_bill']).mul(100).round()\n",
    "df.head()\n",
    "# --------------------------------------------------------------------------\n",
    "\n",
    "r3 = pd.pivot_table(df, index=['day', 'time'], columns='size', values='tip', aggfunc='count', fill_value=0)\n",
    "print(r3)"
   ]
  },
  {
   "cell_type": "code",
   "execution_count": 21,
   "metadata": {},
   "outputs": [
    {
     "name": "stdout",
     "output_type": "stream",
     "text": [
      "survived    0    1\n",
      "sex               \n",
      "female     81  233\n",
      "male      468  109\n"
     ]
    }
   ],
   "source": [
    "# [1]\n",
    "\n",
    "import pandas as pd \n",
    "import numpy as np\n",
    "import seaborn as sns\n",
    "\n",
    "# 채점시스템 제출시는 아래 변수 test를 1로 수정하여 제출하세요 #\n",
    "# 0: seaborn에서 데이터 로드, 1: 채점시스템에서 로드\n",
    "\n",
    "test = 0\n",
    "\n",
    "if test == 1 :\n",
    "    t = eval(input())\n",
    "    df = pd.DataFrame(t[1:], columns = t[0])[['survived','pclass','sex']]\n",
    "else :\n",
    "    #df = sns.load_dataset('titanic')[['survived','pclass','sex']]\n",
    "    df = pd.read_csv('data/titanic.csv', usecols=['survived','pclass','sex'])\n",
    "\n",
    "df.head()\n",
    "# ---------------------------------------------------------------------------------\n",
    "\n",
    "r1 = pd.pivot_table(df, index='sex', columns='survived', values='pclass', aggfunc='count')\n",
    "print(r1)"
   ]
  },
  {
   "cell_type": "code",
   "execution_count": 24,
   "metadata": {},
   "outputs": [
    {
     "name": "stdout",
     "output_type": "stream",
     "text": [
      "        survived\n",
      "pclass          \n",
      "1            136\n",
      "2             87\n",
      "3            119\n"
     ]
    }
   ],
   "source": [
    "# [2]\n",
    "\n",
    "import pandas as pd \n",
    "import numpy as np\n",
    "import seaborn as sns\n",
    "\n",
    "# 채점시스템 제출시는 아래 변수 값을 1로 수정하여 제출하세요 #\n",
    "# 0: seaborn에서 데이터 로드, 1: 채점시스템에서 로드\n",
    "\n",
    "test = 0\n",
    "\n",
    "if test == 1 :\n",
    "    t = eval(input())\n",
    "    df = pd.DataFrame(t[1:], columns = t[0])[['survived','pclass','sex']]\n",
    "else :\n",
    "    df = sns.load_dataset('titanic')[['survived','pclass','sex']]\n",
    "\n",
    "df.head()\n",
    "#--------------------------------------------------------------------------------\n",
    "\n",
    "r2 = pd.pivot_table(df, index='pclass', aggfunc={'survived':'sum'})\n",
    "print(r2)"
   ]
  },
  {
   "cell_type": "code",
   "execution_count": 25,
   "metadata": {},
   "outputs": [
    {
     "name": "stdout",
     "output_type": "stream",
     "text": [
      "sex     female  male  All\n",
      "pclass                   \n",
      "1           91    45  136\n",
      "2           70    17   87\n",
      "3           72    47  119\n",
      "All        233   109  342\n"
     ]
    }
   ],
   "source": [
    "# [3]\n",
    "import pandas as pd \n",
    "import numpy as np\n",
    "import seaborn as sns\n",
    "\n",
    "# 채점시스템 제출시는 아래 변수 값을 1로 수정하여 제출하세요 #\n",
    "# 0: seaborn에서 데이터 로드, 1: 채점시스템에서 로드\n",
    "\n",
    "test = 0\n",
    "\n",
    "if test == 1 :\n",
    "    t = eval(input())\n",
    "    df = pd.DataFrame(t[1:], columns = t[0])[['survived','pclass','sex']]\n",
    "else :\n",
    "    df = sns.load_dataset('titanic')[['survived','pclass','sex']]\n",
    "\n",
    "df.head()\n",
    "#--------------------------------------------------------------------------------\n",
    "\n",
    "r3 = pd.pivot_table(df, index='pclass', columns='sex', values='survived', aggfunc='sum', margins=True)\n",
    "print(r3)"
   ]
  },
  {
   "cell_type": "code",
   "execution_count": null,
   "metadata": {},
   "outputs": [],
   "source": []
  },
  {
   "cell_type": "code",
   "execution_count": 27,
   "metadata": {},
   "outputs": [
    {
     "name": "stdout",
     "output_type": "stream",
     "text": [
      "                 pclass\n",
      "sex    survived        \n",
      "female 0             81\n",
      "       1            233\n",
      "male   0            468\n",
      "       1            109\n"
     ]
    }
   ],
   "source": [
    "# [4]\n",
    "import pandas as pd \n",
    "import numpy as np\n",
    "import seaborn as sns\n",
    "\n",
    "# 채점시스템 제출시는 아래 변수 값을 1로 수정하여 제출하세요 #\n",
    "# 0: seaborn에서 데이터 로드, 1: 채점시스템에서 로드\n",
    "\n",
    "test = 0\n",
    "\n",
    "if test == 1 :\n",
    "    t = eval(input())\n",
    "    df = pd.DataFrame(t[1:], columns = t[0])[['survived','pclass','sex']]\n",
    "else :\n",
    "    df = sns.load_dataset('titanic')[['survived','pclass','sex']]\n",
    "\n",
    "df.head()\n",
    "#--------------------------------------------------------------------------------\n",
    "\n",
    "r4 = pd.pivot_table(df, index=['sex', 'survived'], aggfunc={'pclass': 'count'})\n",
    "print(r4)"
   ]
  },
  {
   "cell_type": "code",
   "execution_count": 28,
   "metadata": {},
   "outputs": [
    {
     "data": {
      "text/html": [
       "<div>\n",
       "<style scoped>\n",
       "    .dataframe tbody tr th:only-of-type {\n",
       "        vertical-align: middle;\n",
       "    }\n",
       "\n",
       "    .dataframe tbody tr th {\n",
       "        vertical-align: top;\n",
       "    }\n",
       "\n",
       "    .dataframe thead th {\n",
       "        text-align: right;\n",
       "    }\n",
       "</style>\n",
       "<table border=\"1\" class=\"dataframe\">\n",
       "  <thead>\n",
       "    <tr style=\"text-align: right;\">\n",
       "      <th></th>\n",
       "      <th>grade</th>\n",
       "      <th>class</th>\n",
       "      <th>kor</th>\n",
       "      <th>eng</th>\n",
       "      <th>math</th>\n",
       "    </tr>\n",
       "  </thead>\n",
       "  <tbody>\n",
       "    <tr>\n",
       "      <th>0</th>\n",
       "      <td>1</td>\n",
       "      <td>A</td>\n",
       "      <td>100</td>\n",
       "      <td>50</td>\n",
       "      <td>60</td>\n",
       "    </tr>\n",
       "    <tr>\n",
       "      <th>2</th>\n",
       "      <td>1</td>\n",
       "      <td>A</td>\n",
       "      <td>60</td>\n",
       "      <td>60</td>\n",
       "      <td>40</td>\n",
       "    </tr>\n",
       "  </tbody>\n",
       "</table>\n",
       "</div>"
      ],
      "text/plain": [
       "   grade class  kor  eng  math\n",
       "0      1     A  100   50    60\n",
       "2      1     A   60   60    40"
      ]
     },
     "execution_count": 28,
     "metadata": {},
     "output_type": "execute_result"
    }
   ],
   "source": [
    "# [1]\n",
    "\n",
    "import pandas as pd \n",
    "import numpy as np\n",
    "\n",
    "df = pd.DataFrame({'grade':[1,1,1,2,2], 'class':list('ABABB'),\n",
    "                  'kor':[100,80,60,90,80], 'eng':[50,100,60,80,70],\n",
    "                  'math':[60,50,40,100,50]})\n",
    "df\n",
    "r1 = df.groupby('class').get_group('A')\n",
    "r1"
   ]
  },
  {
   "cell_type": "code",
   "execution_count": null,
   "metadata": {},
   "outputs": [],
   "source": [
    "# [2]\n",
    "\n",
    "import pandas as pd \n",
    "import numpy as np\n",
    "\n",
    "df = pd.DataFrame({'grade':[1,1,1,2,2], 'class':list('ABABB'),\n",
    "                  'kor':[100,80,60,90,80], 'eng':[50,100,60,80,70],\n",
    "                  'math':[60,50,40,100,50]})\n",
    "df\n",
    "\n",
    "r2 = df.groupby('class')['kor'].count()\n",
    "print(r2)"
   ]
  },
  {
   "cell_type": "code",
   "execution_count": null,
   "metadata": {},
   "outputs": [],
   "source": [
    "# [3] \n",
    "\n",
    "import pandas as pd \n",
    "import numpy as np\n",
    "\n",
    "df = pd.DataFrame({'grade':[1,1,1,2,2], 'class':list('ABABB'),\n",
    "                  'kor':[100,80,60,90,80], 'eng':[50,100,60,80,70],\n",
    "                  'math':[60,50,40,100,50]})\n",
    "df\n",
    "\n",
    "r3 = df.groupby('class')[['kor', 'eng', 'math']].sum()\n",
    "print(r3)"
   ]
  },
  {
   "cell_type": "code",
   "execution_count": null,
   "metadata": {},
   "outputs": [],
   "source": [
    "\n",
    "# [4] \n",
    "\n",
    "import pandas as pd \n",
    "import numpy as np\n",
    "\n",
    "df = pd.DataFrame({'grade':[1,1,1,2,2], 'class':list('ABABB'),\n",
    "                  'kor':[100,80,60,90,80], 'eng':[50,100,60,80,70],\n",
    "                  'math':[60,50,40,100,50]})\n",
    "df\n",
    "\n",
    "r4 = df.groupby(['grade', 'class']).max()\n",
    "print(r4)"
   ]
  },
  {
   "cell_type": "code",
   "execution_count": 32,
   "metadata": {},
   "outputs": [
    {
     "name": "stdout",
     "output_type": "stream",
     "text": [
      "smoker  Yes  No\n",
      "sex            \n",
      "Male     60  97\n",
      "Female   33  54\n"
     ]
    }
   ],
   "source": [
    "# [1]\n",
    "import pandas as pd \n",
    "import numpy as np\n",
    "import seaborn as sns\n",
    "\n",
    "# 채점시스템 제출시는 test변수를 1로 수정하여 제출하세요 #\n",
    "# 0: seaborn에서 데이터 로드, 1: 채점시스템에서 로드\n",
    "\n",
    "test = 0\n",
    "\n",
    "if test == 1 :\n",
    "    t = eval(input())\n",
    "    df = pd.DataFrame(t[1:], columns = t[0])\n",
    "    df['sex'] = pd.Categorical(df['sex'], categories=['Male', 'Female'], ordered=True)\n",
    "    df['smoker'] = pd.Categorical(df['smoker'], categories=['Yes', 'No'], ordered=True)\n",
    "else :\n",
    "    df = sns.load_dataset('tips')\n",
    "    #df = pd.read_pickle('data/tips.pickle')\n",
    "\n",
    "df.head()\n",
    "#--------------------------------------------------------------\n",
    "\n",
    "sr1 = df.groupby(['sex', 'smoker'])['tip'].count()\n",
    "r1 = sr1.unstack()\n",
    "print(r1)"
   ]
  },
  {
   "cell_type": "code",
   "execution_count": 55,
   "metadata": {},
   "outputs": [
    {
     "name": "stdout",
     "output_type": "stream",
     "text": [
      "day     Thur  Fri  Sat  Sun\n",
      "sex                        \n",
      "Male      73   21  156  163\n",
      "Female    79   19   63   53\n"
     ]
    }
   ],
   "source": [
    "# [2]\n",
    "import pandas as pd \n",
    "import numpy as np\n",
    "import seaborn as sns\n",
    "\n",
    "# 채점시스템 제출시는 test변수를 1로 수정하여 제출하세요 #\n",
    "# 0: seaborn에서 데이터 로드, 1: 채점시스템에서 로드\n",
    "\n",
    "test = 0\n",
    "\n",
    "if test == 1 :\n",
    "    t = eval(input())\n",
    "    df = pd.DataFrame(t[1:], columns = t[0])\n",
    "    df['sex'] = pd.Categorical(df['sex'], categories=['Male', 'Female'], ordered=True)\n",
    "    df['day'] = pd.Categorical(df['day'], categories=['Thur', 'Fri', 'Sat', 'Sun'], ordered=True)\n",
    "else :\n",
    "    df = sns.load_dataset('tips')\n",
    "    #df = pd.read_pickle('data/tips.pickle')\n",
    "\n",
    "df.head()\n",
    "#--------------------------------------------------------------\n",
    "\n",
    "df2 = df.pivot_table(index='sex', columns='day', values='size', aggfunc='sum')\n",
    "r2 = df.groupby(['sex', 'day'])['size'].sum().unstack()\n",
    "print(r2)"
   ]
  },
  {
   "cell_type": "code",
   "execution_count": 57,
   "metadata": {},
   "outputs": [
    {
     "name": "stdout",
     "output_type": "stream",
     "text": [
      "size  1   2   3   4  5  6\n",
      "week  2  92  33  31  4  1\n",
      "work  2  64   5   6  1  3\n"
     ]
    }
   ],
   "source": [
    "# [1]\n",
    "import pandas as pd \n",
    "import numpy as np\n",
    "import seaborn as sns\n",
    "\n",
    "# 채점시스템 제출시는 test변수를 1로 수정하여 제출하세요 #\n",
    "# 0: seaborn에서 데이터 로드, 1: 채점시스템에서 로드\n",
    "\n",
    "test = 0\n",
    "\n",
    "if test == 1 :\n",
    "    t = eval(input())\n",
    "    tips = pd.DataFrame(t[1:], columns = t[0])\n",
    "    tips['day'] = pd.Categorical(tips['day'], categories=['Thur', 'Fri', 'Sat', 'Sun'], ordered=True)\n",
    "else :\n",
    "    tips = sns.load_dataset('tips')\n",
    "    #tips = pd.read_pickle('data/tips.pickle')  \n",
    "\n",
    "df = tips.pivot_table(index='day', columns='size', values='tip', aggfunc='count', fill_value=0)\n",
    "df\n",
    "#-----------------------------------------------------------\n",
    "\n",
    "li = ['work', 'work', 'week', 'week']\n",
    "r1 = df.groupby(li).sum()\n",
    "print(r1)\n"
   ]
  },
  {
   "cell_type": "code",
   "execution_count": 121,
   "metadata": {},
   "outputs": [
    {
     "name": "stdout",
     "output_type": "stream",
     "text": [
      "size  1   2   3   4  5  6\n",
      "day                      \n",
      "Thur  1  48   4   5  1  3\n",
      "Fri   1  16   1   1  0  0\n",
      "Sat   2  53  18  13  1  0\n",
      "Sun   0  39  15  18  3  1\n",
      "      big  small\n",
      "day             \n",
      "Thur   13     49\n",
      "Fri     2     17\n",
      "Sat    32     55\n",
      "Sun    37     39\n"
     ]
    }
   ],
   "source": [
    "# [2]\n",
    "\n",
    "import pandas as pd \n",
    "import numpy as np\n",
    "import seaborn as sns\n",
    "\n",
    "# 채점시스템 제출시는 아래 변수 값을 1로 수정하여 제출하세요 #\n",
    "# 0: seaborn에서 데이터 로드, 1: 채점시스템에서 로드\n",
    "\n",
    "test = 0\n",
    "\n",
    "if test == 1 :\n",
    "    t = eval(input())\n",
    "    tips = pd.DataFrame(t[1:], columns = t[0])\n",
    "    tips['day'] = pd.Categorical(tips['day'], categories=['Thur', 'Fri', 'Sat', 'Sun'], ordered=True)\n",
    "else :\n",
    "    tips = sns.load_dataset('tips')\n",
    "    #tips = pd.read_pickle('data/tips.pickle')  \n",
    "\n",
    "df = tips.pivot_table(index='day', columns='size', values='tip', aggfunc='count', fill_value=0)\n",
    "df\n",
    "#-----------------------------------------------------------\n",
    "\n",
    "def func(x):\n",
    "    return 'big' if x>=3 else 'small'\n",
    "r2 = df.groupby(func, axis=1).sum()\n",
    "print(r2)"
   ]
  },
  {
   "cell_type": "code",
   "execution_count": 112,
   "metadata": {},
   "outputs": [
    {
     "name": "stdout",
     "output_type": "stream",
     "text": [
      "sex    female  male\n",
      "old        42    19\n",
      "young     191    90\n"
     ]
    }
   ],
   "source": [
    "import pandas as pd \n",
    "import numpy as np\n",
    "import seaborn as sns\n",
    "\n",
    "# 채점시스템 제출시는 아래 변수 값을 1로 수정하여 제출하세요 #\n",
    "# 0: seaborn에서 데이터 로드, 1: 채점시스템에서 로드\n",
    "\n",
    "test = 0\n",
    "\n",
    "if test == 1 :\n",
    "    t = eval(input())\n",
    "    df = pd.DataFrame(t[1:], columns = t[0])[['pclass', 'survived', 'sex', 'age']]\n",
    "else :\n",
    "    df = sns.load_dataset('titanic')[['pclass', 'survived', 'sex', 'age']]\n",
    "    #df = pd.read_csv('data/titanic.csv',usecols=['pclass','survived','sex','age'])   \n",
    "    \n",
    "df.head()\n",
    "#--------------------------------------------------------------------------------------------\n",
    "\n",
    "arr = np.where(df['age']>=40, 'old', 'young')\n",
    "sr1 = df.groupby(['sex', arr])['survived'].sum()\n",
    "r1= sr1.unstack(level=0)\n",
    "print(r1)"
   ]
  },
  {
   "cell_type": "code",
   "execution_count": 143,
   "metadata": {},
   "outputs": [
    {
     "name": "stdout",
     "output_type": "stream",
     "text": [
      "       grade class  kor  eng  absent\n",
      "names                               \n",
      "kim        1     A   60   50       1\n",
      "lee        1     A  100  100       5\n",
      "park       1     B   80   70       1\n",
      "song       2     A   90   80       2\n",
      "lew        2     A   70   90       1\n",
      "grade\n",
      "1    76.666667\n",
      "2    82.500000\n",
      "dtype: float64\n"
     ]
    }
   ],
   "source": [
    "# [1]\n",
    "\n",
    "import pandas as pd \n",
    "import numpy as np\n",
    "\n",
    "d = {'grade':[1,1,1,2,2],'class':list('AABAA'), \\\n",
    "     'names':['kim', 'lee','park', 'song','lew'],\n",
    "     'kor':[60,100,80,90,70],'eng':[50,100,70,80,90], \\\n",
    "     'absent':[1, 5, 1, 2,1]}\n",
    "\n",
    "df = pd.DataFrame(d).set_index('names')\n",
    "df\n",
    "# 코드 작성\n",
    "r1=df[['kor','eng']].groupby(df['grade']).mean().mean(axis=1)\n",
    "print(r1)"
   ]
  },
  {
   "cell_type": "code",
   "execution_count": 148,
   "metadata": {},
   "outputs": [
    {
     "name": "stdout",
     "output_type": "stream",
     "text": [
      "       grade class  kor  eng  absent\n",
      "names                               \n",
      "kim        1     A   60   50       1\n",
      "lee        1     A  100  100       5\n",
      "park       1     B   80   70       1\n",
      "song       2     A   90   80       2\n",
      "lew        2     A   70   90       1\n",
      "grade\n",
      "1     lee\n",
      "2    song\n",
      "Name: kor, dtype: object\n"
     ]
    }
   ],
   "source": [
    "# [2]\n",
    "\n",
    "import pandas as pd \n",
    "import numpy as np\n",
    "\n",
    "d = {'grade':[1,1,1,2,2],'class':list('AABAA'), \\\n",
    "     'names':['kim', 'lee','park', 'song','lew'],\n",
    "     'kor':[60,100,80,90,70],'eng':[50,100,70,80,90], \\\n",
    "     'absent':[1, 5, 1, 2,1]}\n",
    "\n",
    "df = pd.DataFrame(d).set_index('names')\n",
    "\n",
    "# 코드 작성\n",
    "r2 = df.groupby('grade')['kor'].idxmax()\n",
    "print(r2)"
   ]
  },
  {
   "cell_type": "code",
   "execution_count": 150,
   "metadata": {},
   "outputs": [
    {
     "name": "stdout",
     "output_type": "stream",
     "text": [
      "grade  absent\n",
      "1      1         2\n",
      "       5         1\n",
      "2      1         1\n",
      "       2         1\n",
      "dtype: int64\n"
     ]
    }
   ],
   "source": [
    "\n",
    "import pandas as pd \n",
    "import numpy as np\n",
    "\n",
    "d = {'grade':[1,1,1,2,2],'class':list('AABAA'), \\\n",
    "     'names':['kim', 'lee','park', 'song','lew'],\n",
    "     'kor':[60,100,80,90,70],'eng':[50,100,70,80,90], \\\n",
    "     'absent':[1, 5, 1, 2,1]}\n",
    "\n",
    "df = pd.DataFrame(d).set_index('names')\n",
    "df\n",
    "\n",
    "# 코드 작성\n",
    "r3= df.groupby(['grade', 'absent']).size()\n",
    "print(r3)"
   ]
  },
  {
   "cell_type": "code",
   "execution_count": 152,
   "metadata": {},
   "outputs": [
    {
     "name": "stdout",
     "output_type": "stream",
     "text": [
      "grade  absent\n",
      "1      1         2\n",
      "       5         1\n",
      "2      1         1\n",
      "       2         1\n",
      "Name: absent, dtype: int64\n"
     ]
    }
   ],
   "source": [
    "# [4]\n",
    "\n",
    "import pandas as pd \n",
    "import numpy as np\n",
    "\n",
    "d = {'grade':[1,1,1,2,2],'class':list('AABAA'), \\\n",
    "     'names':['kim', 'lee','park', 'song','lew'],\n",
    "     'kor':[60,100,80,90,70],'eng':[50,100,70,80,90], \\\n",
    "     'absent':[1, 5, 1, 2,1]}\n",
    "\n",
    "df = pd.DataFrame(d).set_index('names')\n",
    "df\n",
    "\n",
    "r4 = df.groupby('grade')['absent'].value_counts()\n",
    "print(r4)"
   ]
  },
  {
   "cell_type": "code",
   "execution_count": 156,
   "metadata": {},
   "outputs": [
    {
     "name": "stdout",
     "output_type": "stream",
     "text": [
      "sex     female  male\n",
      "pclass              \n",
      "1         67.0  33.0\n",
      "2         80.0  20.0\n",
      "3         61.0  39.0\n"
     ]
    }
   ],
   "source": [
    "import pandas as pd \n",
    "import numpy as np\n",
    "import seaborn as sns\n",
    "\n",
    "# 채점시스템 제출시는 아래 변수 값을 1로 수정하여 제출하세요 #\n",
    "# 0: seaborn에서 데이터 로드, 1: 채점시스템에서 로드\n",
    "\n",
    "test = 0\n",
    "\n",
    "if test == 1 :\n",
    "    t = eval(input())\n",
    "    titanic = pd.DataFrame(t[1:], columns = t[0])[['pclass', 'survived', 'sex', 'age']]\n",
    "else :\n",
    "    titanic = sns.load_dataset('titanic')[['pclass', 'survived', 'sex', 'age']]\n",
    "    #titanic = pd.read_csv('data/titanic.csv',usecols=['pclass','survived','sex','age'])   \n",
    "    \n",
    "df = titanic.fillna(round(titanic['age'].mean()))\n",
    "df.head()\n",
    "#-----------------------------------------------------------\n",
    "\n",
    "sum1 = df.groupby(['pclass','sex'])['survived'].sum()\n",
    "sum2 = df.groupby('pclass')['survived'].sum()\n",
    "r1 = (sum1 / sum2).mul(100).round().unstack()\n",
    "print(r1)"
   ]
  },
  {
   "cell_type": "code",
   "execution_count": 161,
   "metadata": {},
   "outputs": [
    {
     "name": "stdout",
     "output_type": "stream",
     "text": [
      "0      38\n",
      "10     41\n",
      "20     77\n",
      "30    125\n",
      "40     34\n",
      "50     20\n",
      "60      6\n",
      "70      0\n",
      "80      1\n",
      "Name: survived, dtype: int64\n"
     ]
    }
   ],
   "source": [
    "import pandas as pd \n",
    "import numpy as np\n",
    "import seaborn as sns\n",
    "\n",
    "# 채점시스템 제출시는 아래 변수 값을 1로 수정하여 제출하세요 #\n",
    "# 0: seaborn에서 데이터 로드, 1: 채점시스템에서 로드\n",
    "\n",
    "test = 0\n",
    "\n",
    "if test == 1 :\n",
    "    t = eval(input())\n",
    "    titanic = pd.DataFrame(t[1:], columns = t[0])[['pclass', 'survived', 'sex', 'age']]\n",
    "else :\n",
    "    titanic = sns.load_dataset('titanic')[['pclass', 'survived', 'sex', 'age']]\n",
    "    #titanic = pd.read_csv('data/titanic.csv',usecols=['pclass','survived','sex','age'])   \n",
    "    \n",
    "df = titanic.fillna(round(titanic['age'].mean())).set_index('age')\n",
    "df.head()\n",
    "#-------------------------------------------------------------------------------\n",
    "\n",
    "def func(x):\n",
    "    return int(x//10*10)\n",
    "\n",
    "r1 = df.groupby(func)['survived'].sum()\n",
    "print(r1)"
   ]
  },
  {
   "cell_type": "code",
   "execution_count": 163,
   "metadata": {},
   "outputs": [
    {
     "name": "stdout",
     "output_type": "stream",
     "text": [
      "        live  total\n",
      "sex                \n",
      "female   233    314\n",
      "male     109    577\n"
     ]
    }
   ],
   "source": [
    "# [1]\n",
    "import pandas as pd \n",
    "import numpy as np\n",
    "import seaborn as sns\n",
    "\n",
    "# 채점시스템 제출시는 아래 변수 값을 1로 수정하여 제출하세요 #\n",
    "# 0: seaborn에서 데이터 로드, 1: 채점시스템에서 로드\n",
    "\n",
    "test = 0\n",
    "\n",
    "if test == 1 :\n",
    "    t = eval(input())\n",
    "    titanic = pd.DataFrame(t[1:], columns = t[0])[['pclass','survived', 'sex', 'age']]\n",
    "else :\n",
    "    titanic = sns.load_dataset('titanic')[['pclass','survived', 'sex', 'age']]\n",
    "    #titanic = pd.read_csv('data/titanic.csv',usecols=['pclass','survived','sex','age'])   \n",
    "\n",
    "df = titanic.fillna(round(titanic['age'].mean()))\n",
    "df.head()\n",
    "#-----------------------------------------------------------\n",
    "\n",
    "# 코드 구현\n",
    "r1 = df.groupby('sex')['survived'].agg([('live','sum'),('total', 'count')])\n",
    "print(r1)"
   ]
  },
  {
   "cell_type": "code",
   "execution_count": 175,
   "metadata": {},
   "outputs": [
    {
     "name": "stdout",
     "output_type": "stream",
     "text": [
      "age2\n",
      "0      62\n",
      "10    102\n",
      "20    220\n",
      "30    344\n",
      "40     89\n",
      "50     48\n",
      "60     19\n",
      "70      6\n",
      "80      1\n",
      "dtype: int64\n"
     ]
    }
   ],
   "source": [
    "# [2]\n",
    "\n",
    "import pandas as pd \n",
    "import numpy as np\n",
    "import seaborn as sns\n",
    "\n",
    "# 채점시스템 제출시는 아래 변수 값을 1로 수정하여 제출하세요 #\n",
    "# 0: seaborn에서 데이터 로드, 1: 채점시스템에서 로드\n",
    "\n",
    "test = 0\n",
    "\n",
    "if test == 1 :\n",
    "    t = eval(input())\n",
    "    titanic = pd.DataFrame(t[1:], columns = t[0])[['pclass','survived', 'sex', 'age']]\n",
    "else :\n",
    "    titanic = sns.load_dataset('titanic')[['pclass','survived', 'sex', 'age']]\n",
    "    #titanic = pd.read_csv('data/titanic.csv',usecols=['pclass','survived','sex','age'])   \n",
    "\n",
    "df = titanic.fillna(round(titanic['age'].mean()))\n",
    "df.head()\n",
    "#-------------------------------------------------------------------------------\n",
    "\n",
    "# 코드 구현 df\n",
    "df['age2'] = df['age'].apply(lambda x: x//10*10).apply(round)\n",
    "r2 = df.groupby('age2').size()\n",
    "print(r2)"
   ]
  },
  {
   "cell_type": "code",
   "execution_count": 178,
   "metadata": {},
   "outputs": [
    {
     "name": "stdout",
     "output_type": "stream",
     "text": [
      "     pclass  survived     sex   age  age2\n",
      "0         3         0    male  22.0    20\n",
      "1         1         1  female  38.0    30\n",
      "2         3         1  female  26.0    20\n",
      "3         1         1  female  35.0    30\n",
      "4         3         0    male  35.0    30\n",
      "..      ...       ...     ...   ...   ...\n",
      "886       2         0    male  27.0    20\n",
      "887       1         1  female  19.0    10\n",
      "888       3         0  female  30.0    30\n",
      "889       1         1    male  26.0    20\n",
      "890       3         0    male  32.0    30\n",
      "\n",
      "[891 rows x 5 columns]\n",
      "age2\n",
      "0      low\n",
      "10     low\n",
      "20    high\n",
      "30    high\n",
      "40     low\n",
      "50     low\n",
      "60     low\n",
      "70     low\n",
      "80     low\n",
      "dtype: object\n"
     ]
    }
   ],
   "source": [
    "\n",
    "# [3]\n",
    "\n",
    "import pandas as pd \n",
    "import numpy as np\n",
    "import seaborn as sns\n",
    "\n",
    "# 채점시스템 제출시는 아래 변수 값을 1로 수정하여 제출하세요 #\n",
    "# 0: seaborn에서 데이터 로드, 1: 채점시스템에서 로드\n",
    "\n",
    "test = 0\n",
    "\n",
    "if test == 1 :\n",
    "    t = eval(input())\n",
    "    titanic = pd.DataFrame(t[1:], columns = t[0])[['pclass','survived', 'sex', 'age']]\n",
    "else :\n",
    "    titanic = sns.load_dataset('titanic')[['pclass','survived', 'sex', 'age']]\n",
    "    #titanic = pd.read_csv('data/titanic.csv',usecols=['pclass','survived','sex','age'])   \n",
    "\n",
    "df = titanic.fillna(round(titanic['age'].mean()))\n",
    "df.head()\n",
    "#-------------------------------------------------------------------------------\n",
    "\n",
    "# 코드 작성\n",
    "df['age2']=df['age'].apply(lambda x: x//10*10).apply(round)\n",
    "r3 = df.groupby('age2').apply(lambda x: 'high' if x['survived'].sum()>=50 else 'low')\n",
    "print(r3)"
   ]
  },
  {
   "cell_type": "code",
   "execution_count": null,
   "metadata": {},
   "outputs": [],
   "source": [
    "# [1]\n",
    "\n",
    "import pandas as pd \n",
    "import numpy as np\n",
    "import seaborn as sns\n",
    "\n",
    "# 채점시스템 제출시는 아래 변수 값을 1로 수정하여 제출하세요 #\n",
    "# 0: seaborn에서 데이터 로드, 1: 채점시스템에서 로드\n",
    "\n",
    "test = 0\n",
    "\n",
    "if test == 1 :\n",
    "    t = eval(input())\n",
    "    df = pd.DataFrame(t[1:], columns = t[0])[['class', 'survived', 'age']]\n",
    "    df['class'] = df['class'].astype('category')\n",
    "else :\n",
    "    df = sns.load_dataset('titanic')[['class', 'survived', 'age']]\n",
    "    \n",
    "df.dropna(inplace=True)\n",
    "df.head()\n",
    "# -----------------------------------------------------------------------------------\n",
    "\n",
    "# 코드 작성\n",
    "\n",
    "print(r1)"
   ]
  },
  {
   "cell_type": "code",
   "execution_count": null,
   "metadata": {},
   "outputs": [],
   "source": []
  }
 ],
 "metadata": {
  "kernelspec": {
   "display_name": "Python 3",
   "language": "python",
   "name": "python3"
  },
  "language_info": {
   "codemirror_mode": {
    "name": "ipython",
    "version": 3
   },
   "file_extension": ".py",
   "mimetype": "text/x-python",
   "name": "python",
   "nbconvert_exporter": "python",
   "pygments_lexer": "ipython3",
   "version": "3.8.5"
  }
 },
 "nbformat": 4,
 "nbformat_minor": 4
}
