{
 "cells": [
  {
   "cell_type": "code",
   "execution_count": null,
   "metadata": {},
   "outputs": [],
   "source": [
    "from IPython.core.interactiveshell import InteractiveShell\n",
    "InteractiveShell.ast_node_interactivity = \"all\"\n",
    "\n",
    "# html을 이용하여 가로방향으로 여러 DF을 인쇄\n",
    "class disp(object):\n",
    "    template = '<div style=\"float: left;padding:10px;\"> <b>[{0}]</b> {1}</div>'\n",
    "    def __init__(self, *args):\n",
    "        self.args = args\n",
    "        \n",
    "    def _repr_html_(self):\n",
    "        return '\\n'.join(self.template.format(a, eval(a)._repr_html_())\n",
    "                         for a in self.args)\n",
    "\n",
    "import pandas as pd   \n",
    "import numpy as np\n",
    "import seaborn as sns\n",
    "import pprint as pp"
   ]
  },
  {
   "cell_type": "markdown",
   "metadata": {},
   "source": [
    "### [예제1] GroupBy 객체의 이해"
   ]
  },
  {
   "cell_type": "code",
   "execution_count": null,
   "metadata": {},
   "outputs": [],
   "source": [
    "df = pd.DataFrame({'grade':[1,1,1,2,2], 'class':list('ABCAB'), \n",
    "                   'exam':[60, 90, 50, 100, 80]})\n",
    "df"
   ]
  },
  {
   "cell_type": "code",
   "execution_count": null,
   "metadata": {
    "scrolled": true
   },
   "outputs": [],
   "source": [
    "# [1]\n",
    "\n",
    "gb = df.groupby('grade')\n",
    "print(gb)"
   ]
  },
  {
   "cell_type": "code",
   "execution_count": null,
   "metadata": {
    "scrolled": true
   },
   "outputs": [],
   "source": [
    "# [2] \n",
    "\n",
    "r1 = gb.groups  \n",
    "r2 = gb.get_group(2)\n",
    "r1; disp('df', 'r2')"
   ]
  },
  {
   "cell_type": "code",
   "execution_count": null,
   "metadata": {},
   "outputs": [],
   "source": [
    "# [3]\n",
    "\n",
    "r3 = gb.mean()\n",
    "disp('df', 'r3')"
   ]
  },
  {
   "cell_type": "markdown",
   "metadata": {},
   "source": [
    "### [예제2] GroupBy 객체 이해 2"
   ]
  },
  {
   "cell_type": "code",
   "execution_count": null,
   "metadata": {},
   "outputs": [],
   "source": [
    "df = pd.DataFrame({'grade':[1,1,1,2,2], 'class':list('ABABB'), \n",
    "                   'name':['kim','lee','park','song','lew']})\n",
    "df"
   ]
  },
  {
   "cell_type": "code",
   "execution_count": null,
   "metadata": {
    "scrolled": false
   },
   "outputs": [],
   "source": [
    "# [1]\n",
    "\n",
    "gb1 = df.groupby('grade')  \n",
    "gsr = gb1['name']\n",
    "gdf = gb1[['class','name']]\n",
    "print(gb1); print(gsr); print(gdf)"
   ]
  },
  {
   "cell_type": "code",
   "execution_count": null,
   "metadata": {},
   "outputs": [],
   "source": [
    "# [2]\n",
    "\n",
    "r1 = gsr.groups\n",
    "r2 = gdf.groups\n",
    "r3 = gsr.get_group(2)\n",
    "r4 = gdf.get_group(2)\n",
    "\n",
    "r1; r2; r3; r4"
   ]
  },
  {
   "cell_type": "code",
   "execution_count": null,
   "metadata": {
    "scrolled": true
   },
   "outputs": [],
   "source": [
    "# [3]\n",
    "\n",
    "gb2 = df.groupby(['grade', 'class'])\n",
    "r5 = gb2.groups\n",
    "r6 = gb2.get_group((1,'A'))\n",
    "r5; r6"
   ]
  },
  {
   "cell_type": "code",
   "execution_count": null,
   "metadata": {},
   "outputs": [],
   "source": [
    "# [4]\n",
    "\n",
    "gb2 = df.groupby(['grade', 'class'])\n",
    "r7 = gb2.count()\n",
    "disp('df', 'r7')"
   ]
  },
  {
   "cell_type": "markdown",
   "metadata": {},
   "source": [
    "### [예제3] 그룹화 방식 및 groupby() 옵션 이해"
   ]
  },
  {
   "cell_type": "code",
   "execution_count": null,
   "metadata": {},
   "outputs": [],
   "source": [
    "df = pd.DataFrame({'grade':[1,1,1,2,2], 'class':list('ABABB'),\n",
    "                  'kor':[100,80,60,90,80], 'eng':[50,100,60,80,70],\n",
    "                  'math':[60,50,40,100,50]})\n",
    "df"
   ]
  },
  {
   "cell_type": "code",
   "execution_count": null,
   "metadata": {},
   "outputs": [],
   "source": [
    "# [1]\n",
    "gsr1 = df.groupby('grade')['kor']\n",
    "gsr2 = df.groupby('grade')[['kor','eng', 'math']]\n",
    "r1, r2 = gsr1.groups, gsr2.groups\n",
    "r1;r2"
   ]
  },
  {
   "cell_type": "code",
   "execution_count": null,
   "metadata": {},
   "outputs": [],
   "source": [
    "# [2]\n",
    "\n",
    "gsr3 = df['kor'].groupby('grade') # error\n",
    "gsr4 = df['kor'].groupby(df['grade'])\n",
    "gsr5 = df.loc[:, 'kor':'math'].groupby(df['grade'])\n",
    "r4, r5 = gsr4.groups, gsr5.groups\n",
    "r4; r5"
   ]
  },
  {
   "cell_type": "code",
   "execution_count": null,
   "metadata": {},
   "outputs": [],
   "source": [
    "# [3]\n",
    "\n",
    "r6 = df.groupby('grade', as_index=False)['kor'].max()\n",
    "r7 = df.groupby('grade')['kor'].max().reset_index()\n",
    "r8 = df.groupby('grade', sort=False)['kor'].max()\n",
    "\n",
    "disp('df', 'r6', 'r7'); r8"
   ]
  },
  {
   "cell_type": "markdown",
   "metadata": {},
   "source": [
    "### [예제4] 함수에 의한 그룹화"
   ]
  },
  {
   "cell_type": "code",
   "execution_count": null,
   "metadata": {},
   "outputs": [],
   "source": [
    "df1 = pd.DataFrame({'month':[1, 3, 5, 9, 12],'model':['TV','PC','TV','PC','HP'],\n",
    "                   'sale':[10, 30, 50, 40, 70], 'stock':[100,100,200,200,300]\n",
    "                  }).set_index('month')\n",
    "df2 = df1.drop(columns='model').T\n",
    "df1; df2"
   ]
  },
  {
   "cell_type": "code",
   "execution_count": null,
   "metadata": {
    "scrolled": true
   },
   "outputs": [],
   "source": [
    "# [1-1]\n",
    "\n",
    "gb1 = df1.groupby(lambda x:x<7)\n",
    "gb2 = df1.groupby(lambda x: '1~6' if x<7 else '7~12')\n",
    "r1 = gb1.groups\n",
    "r2 = gb2.groups\n",
    "r1; r2"
   ]
  },
  {
   "cell_type": "code",
   "execution_count": null,
   "metadata": {},
   "outputs": [],
   "source": [
    "# [1-2]\n",
    "\n",
    "gb1 = df1.groupby(lambda x:x<7)\n",
    "gb2 = df1.groupby(lambda x: '1~6' if x<7 else '7~12')\n",
    "r3 = gb1.sum()\n",
    "r4 = gb2.sum()\n",
    "disp('df1', 'r3', 'r4')"
   ]
  },
  {
   "cell_type": "code",
   "execution_count": null,
   "metadata": {},
   "outputs": [],
   "source": [
    "# [2]\n",
    "\n",
    "r5 = df2.groupby(lambda x: '1~6' if x<7 else '7~12', axis=1).sum()\n",
    "disp('df2', 'r5')"
   ]
  },
  {
   "cell_type": "markdown",
   "metadata": {},
   "source": [
    "### [예제5] Splitting: dict, Series"
   ]
  },
  {
   "cell_type": "code",
   "execution_count": null,
   "metadata": {},
   "outputs": [],
   "source": [
    "df = pd.DataFrame({'month':[1, 3, 5, 9, 12],'model':['TV','PC','TV','PC','HP'],\n",
    "                   'sale':[10, 30, 50, 40, 70], 'stock':[100,100,200,200,300]\n",
    "                  }).set_index('month')\n",
    "df"
   ]
  },
  {
   "cell_type": "code",
   "execution_count": null,
   "metadata": {
    "scrolled": true
   },
   "outputs": [],
   "source": [
    "# [1]\n",
    "\n",
    "dic = {1:'G1', 9:'G1', 3:'G2', 12:'G2'}\n",
    "sr = pd.Series(dic)\n",
    "r1 = df.groupby(dic).groups\n",
    "r2 = df.groupby(sr).groups\n",
    "r1; r2"
   ]
  },
  {
   "cell_type": "code",
   "execution_count": null,
   "metadata": {},
   "outputs": [],
   "source": [
    "# [2]\n",
    "\n",
    "l = ['G1', 'G1', 'G2', 'G2', 'G3']\n",
    "arr = np.where(df['sale']>=50, 'high', 'low')\n",
    "r3 = df.groupby(l).groups\n",
    "r4 = df.groupby(arr).groups\n",
    "arr; r3; r4"
   ]
  },
  {
   "cell_type": "code",
   "execution_count": null,
   "metadata": {},
   "outputs": [],
   "source": [
    "# [3]\n",
    "\n",
    "l = ['G1', 'G1', 'G2', 'G2', 'G3']\n",
    "arr = np.where(df['sale']>=50, 'high', 'low')\n",
    "r5 = df.groupby(l)[['sale']].sum()\n",
    "r6 = df.groupby(arr)['sale'].count()\n",
    "\n",
    "disp('df', 'r5'); r6"
   ]
  },
  {
   "cell_type": "markdown",
   "metadata": {},
   "source": [
    "### [예제6]  MultiIndex 그룹화"
   ]
  },
  {
   "cell_type": "code",
   "execution_count": null,
   "metadata": {},
   "outputs": [],
   "source": [
    "df = pd.DataFrame({'month':[3, 3, 3, 9, 9],'brand':list('ABBAB'),\n",
    "                   'model':['TV','PC','TV','PC','PC'],\n",
    "                   'sale':[10, 30, 50, 40, 70]\n",
    "                  }).set_index(['month','brand'])\n",
    "df"
   ]
  },
  {
   "cell_type": "code",
   "execution_count": null,
   "metadata": {},
   "outputs": [],
   "source": [
    "# [1]\n",
    "\n",
    "r1 = df.groupby(level=1).groups\n",
    "r2 = df.groupby(level='brand').groups\n",
    "r3 = df.groupby(level=[0, 1]).groups\n",
    "r1;r2; pp.pprint(r3)"
   ]
  },
  {
   "cell_type": "code",
   "execution_count": null,
   "metadata": {},
   "outputs": [],
   "source": [
    "# [2]\n",
    "\n",
    "r4 = df.groupby(['month', 'model']).groups\n",
    "r5 = df.groupby([0, 'model']).groups #error\n",
    "r6 = df.groupby([pd.Grouper(level=0),'model']).groups\n",
    "pp.pprint(r4); pp.pprint(r6)"
   ]
  }
 ],
 "metadata": {
  "kernelspec": {
   "display_name": "Python 3",
   "language": "python",
   "name": "python3"
  },
  "language_info": {
   "codemirror_mode": {
    "name": "ipython",
    "version": 3
   },
   "file_extension": ".py",
   "mimetype": "text/x-python",
   "name": "python",
   "nbconvert_exporter": "python",
   "pygments_lexer": "ipython3",
   "version": "3.8.3"
  },
  "toc": {
   "base_numbering": 1,
   "nav_menu": {},
   "number_sections": true,
   "sideBar": true,
   "skip_h1_title": false,
   "title_cell": "Table of Contents",
   "title_sidebar": "Contents",
   "toc_cell": false,
   "toc_position": {
    "height": "calc(100% - 180px)",
    "left": "10px",
    "top": "150px",
    "width": "351.075px"
   },
   "toc_section_display": true,
   "toc_window_display": false
  }
 },
 "nbformat": 4,
 "nbformat_minor": 2
}
