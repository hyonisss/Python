{
 "cells": [
  {
   "cell_type": "code",
   "execution_count": null,
   "metadata": {},
   "outputs": [],
   "source": [
    "from IPython.core.interactiveshell import InteractiveShell\n",
    "InteractiveShell.ast_node_interactivity = \"all\"\n",
    "\n",
    "def prt(*pVPK) :\n",
    "    print(*pVPK, sep = '\\n\\n', end = '\\n\\n')\n",
    "    \n",
    "import pandas as pd\n",
    "import numpy as np    "
   ]
  },
  {
   "cell_type": "markdown",
   "metadata": {},
   "source": [
    "### [예제1] Series 생성 : copy parameter"
   ]
  },
  {
   "cell_type": "code",
   "execution_count": null,
   "metadata": {},
   "outputs": [],
   "source": [
    "d, i = np.array([3,5]), ('A', 'B')\n",
    "s1 = pd.Series(d, index = i)\n",
    "s2 = pd.Series(d, index = i, copy = True)\n",
    "d[0] = 100\n",
    "prt(d, s1, s2)"
   ]
  },
  {
   "cell_type": "markdown",
   "metadata": {},
   "source": [
    "### [예제2] Series 생성 : iterable, array_like"
   ]
  },
  {
   "cell_type": "code",
   "execution_count": null,
   "metadata": {},
   "outputs": [],
   "source": [
    "s1 = pd.Series(range(20,23))\n",
    "prt(s1, s1.items(), *s1.items())"
   ]
  },
  {
   "cell_type": "code",
   "execution_count": null,
   "metadata": {},
   "outputs": [],
   "source": [
    "s2 = pd.Series(10)\n",
    "s3 = pd.Series(10, index = ['kim','lee'], name = 'score')\n",
    "s4 = pd.Series('hello')\n",
    "s5 = pd.Series(['h','e','l'])\n",
    "s6 = pd.Series(np.array([90,80]), index = ['kim','lee'], dtype = float)\n",
    "s2; s3; s4; s5; s6"
   ]
  },
  {
   "cell_type": "code",
   "execution_count": null,
   "metadata": {},
   "outputs": [],
   "source": [
    "s7 = pd.Series({10:'kim', 20:'lee', 30:'park'})\n",
    "s8 = pd.Series({10:'kim', 20:'lee', 30:'park'}, index=[20, 10, 11])\n",
    "s7; s8"
   ]
  },
  {
   "cell_type": "markdown",
   "metadata": {},
   "source": [
    "### [예제3] DataFrame 생성 : 빈 DataFrame 생성"
   ]
  },
  {
   "cell_type": "code",
   "execution_count": null,
   "metadata": {},
   "outputs": [],
   "source": [
    "df1 = pd.DataFrame(columns=list('ABC'))\n",
    "df2 = pd.DataFrame(index=list('ABC'))\n",
    "df3 = pd.DataFrame(index=np.arange(2), columns=list('ABC'))\n",
    "df1; df2; df3"
   ]
  },
  {
   "cell_type": "markdown",
   "metadata": {
    "colab_type": "text",
    "id": "STbDxFTn6ivq"
   },
   "source": [
    "### [예제4] DataFrame 생성 : Scalar, Iterable"
   ]
  },
  {
   "cell_type": "code",
   "execution_count": null,
   "metadata": {},
   "outputs": [],
   "source": [
    "df1 = pd.DataFrame(0, index=[1,2] )       #error\n",
    "df2 = pd.DataFrame(0, index=[1,2], columns=['A','B'])\n",
    "df3 = pd.DataFrame(50, index=range(10,12), columns=list('ABC'), dtype='float')\n",
    "df2; df3"
   ]
  },
  {
   "cell_type": "code",
   "execution_count": null,
   "metadata": {
    "scrolled": true
   },
   "outputs": [],
   "source": [
    "df4 = pd.DataFrame([['kim',90],['lee',50]])\n",
    "df5 = pd.DataFrame([['kim',90],['lee',50]], columns=['n','s'], index=[10, 11])\n",
    "df6 = pd.DataFrame([['kim',90],['lee']], columns=['n','s'], index=['A', 'B'])\n",
    "df4; df5; df6"
   ]
  },
  {
   "cell_type": "markdown",
   "metadata": {},
   "source": [
    "### [예제5] DataFrame 생성 : dict"
   ]
  },
  {
   "cell_type": "code",
   "execution_count": null,
   "metadata": {},
   "outputs": [],
   "source": [
    "df1 = pd.DataFrame({'A':'kim','B':10})  #error\n",
    "df2 = pd.DataFrame({'A':'kim','B':10}, index=[0,1,3])\n",
    "df2"
   ]
  },
  {
   "cell_type": "code",
   "execution_count": null,
   "metadata": {},
   "outputs": [],
   "source": [
    "df3 = pd.DataFrame({'A':['kim'],'B':[10]})   \n",
    "df4 = pd.DataFrame({'A':['kim'],'B':[10]}, index=['x','y'])\n",
    "df3; df4"
   ]
  },
  {
   "cell_type": "code",
   "execution_count": null,
   "metadata": {},
   "outputs": [],
   "source": [
    "df5 = pd.DataFrame({'n':['kim','lee','park'],'a':[19,20,22]}) \n",
    "df6 = pd.DataFrame({'n':['kim','lee','park'],'a':[19,20,22]}, index=['x','y','z']) \n",
    "df5; df6"
   ]
  },
  {
   "cell_type": "code",
   "execution_count": null,
   "metadata": {},
   "outputs": [],
   "source": [
    "df7 = pd.DataFrame({'n':pd.Series(['kim','lee','park']),'a':pd.Series([10, 20])})\n",
    "df7"
   ]
  },
  {
   "cell_type": "markdown",
   "metadata": {},
   "source": [
    "### [예제6] DataFrame 생성 : ndarray"
   ]
  },
  {
   "cell_type": "code",
   "execution_count": null,
   "metadata": {},
   "outputs": [],
   "source": [
    "a1 = np.array([[1,2,3],[4,5,6]])\n",
    "a2 = np.array( [['kim', 'A', 90], ['lee', 'A', 50]] )\n",
    "\n",
    "df1 = pd.DataFrame(a1, index = ['i1','i2'], columns = ['c1','c2', 'c3'])\n",
    "df2 = pd.DataFrame(a2, index = [10, 20], columns = ['N', 'C', 'S'])\n",
    "df1; df2\n",
    "prt(df1.dtypes, df2.dtypes)\n",
    "\n",
    "df2['S'] = df2['S'].astype(int)\n",
    "prt(df2.dtypes)"
   ]
  },
  {
   "cell_type": "markdown",
   "metadata": {},
   "source": [
    "### [예제7] DataFrame 생성 : structured ndarray"
   ]
  },
  {
   "cell_type": "code",
   "execution_count": null,
   "metadata": {},
   "outputs": [],
   "source": [
    "df1 = pd.DataFrame(0, index=[0,1], columns=['A','B','C'] )\n",
    "df1 = df1.astype({'A':object, 'B':float, 'C':int})\n",
    "df1\n",
    "prt(df1.dtypes)"
   ]
  },
  {
   "cell_type": "code",
   "execution_count": null,
   "metadata": {},
   "outputs": [],
   "source": [
    "a1 = np.array([0,0], dtype=[('A', object), ('B', float), ('C', int)])\n",
    "df2 = pd.DataFrame(a1)\n",
    "df2\n",
    "prt(a1.dtype, df2.dtypes)"
   ]
  },
  {
   "cell_type": "code",
   "execution_count": null,
   "metadata": {},
   "outputs": [],
   "source": [
    "l1 = [('kim', 90, 50.3), ('lee', 50, 75.0)]\n",
    "a2 = np.array(l1, dtype=[('A', object), ('B', float), ('C', int)])\n",
    "df3 = pd.DataFrame(a2, index = [3,4])\n",
    "df4 = pd.DataFrame(a2, index = [3,4], columns=['C','X','Y'])\n",
    "df3; df4\n",
    "prt(df3.dtypes, df4.dtypes)"
   ]
  },
  {
   "cell_type": "markdown",
   "metadata": {},
   "source": [
    "### [예제8] DataFrame 생성 : DataFrame"
   ]
  },
  {
   "cell_type": "code",
   "execution_count": null,
   "metadata": {
    "scrolled": true
   },
   "outputs": [],
   "source": [
    "\n",
    "df1 = pd.read_csv('data/01_04_01.csv')\n",
    "df2 = pd.DataFrame(df1, columns=['class', 'age'], index=[0, 2])\n",
    "df3 = pd.DataFrame(df1, columns=['names','class', 'score'], index=[0,2,10])\n",
    "\n",
    "df1; df2; df3"
   ]
  },
  {
   "cell_type": "markdown",
   "metadata": {},
   "source": [
    "### [예제9] Index 생성"
   ]
  },
  {
   "cell_type": "code",
   "execution_count": null,
   "metadata": {
    "scrolled": false
   },
   "outputs": [],
   "source": [
    "i1 = pd.Index([0,1])\n",
    "i2 = pd.Index(range(1,3), dtype = 'int32')\n",
    "i3 = pd.RangeIndex(1, 2, name='no')\n",
    "i1; i2; i3"
   ]
  },
  {
   "cell_type": "code",
   "execution_count": null,
   "metadata": {},
   "outputs": [],
   "source": [
    "df1 = pd.DataFrame([['kim',90,80],['lee',80,70]], columns=['n','k','e'])\n",
    "df1\n",
    "\n",
    "sr1 = pd.Series(df1['k'], index = i1)\n",
    "sr2 = pd.Series(df1['k'], index = i2)\n",
    "sr3 = pd.Series(df1['k'], index = i3)\n",
    "sr1; sr2; sr3"
   ]
  },
  {
   "cell_type": "markdown",
   "metadata": {},
   "source": [
    "### [예제10] DatetimeIndex 객체!"
   ]
  },
  {
   "cell_type": "code",
   "execution_count": null,
   "metadata": {},
   "outputs": [],
   "source": [
    "i1 = pd.date_range('2000-1-1', '2000-1-5')\n",
    "i2 = pd.date_range('1/2/2000', periods=4, freq='25D')\n",
    "i3 = pd.date_range('1/10/19', periods=4, freq='M')\n",
    "i1; i2; i3\n",
    "prt(type(i3), i3.dtype)"
   ]
  },
  {
   "cell_type": "code",
   "execution_count": null,
   "metadata": {},
   "outputs": [],
   "source": [
    "s = pd.Series(range(len(i2)), index = i2)\n",
    "s\n",
    "\n",
    "r1 = s['2000-01-27']\n",
    "r2 = s['2000-01-01':'2000-02-20']\n",
    "r3 = s['2000-01']\n",
    "r4 = s['2000']\n",
    "r1; r2; r3; r4"
   ]
  },
  {
   "cell_type": "markdown",
   "metadata": {},
   "source": [
    "### [예제11] Series, DataFrame의 Format 변환!"
   ]
  },
  {
   "cell_type": "code",
   "execution_count": null,
   "metadata": {
    "scrolled": true
   },
   "outputs": [],
   "source": [
    "df1 = pd.DataFrame({'n':['kim','lee','park'],'a':[19,20,22]}) \n",
    "r1 = df1.to_dict()\n",
    "r1\n",
    "\n",
    "df1.to_excel('out_data/01_04_01_out.xlsx')\n",
    "df2 = pd.read_excel('out_data/01_04_01_out.xlsx', index_col = 0)\n",
    "df2\n",
    "\n",
    "df1.to_csv('out_data/01_04_01_out.csv')\n",
    "df3 = pd.read_csv('out_data/01_04_01_out.csv', index_col = 0)\n",
    "df3"
   ]
  },
  {
   "cell_type": "code",
   "execution_count": null,
   "metadata": {},
   "outputs": [],
   "source": [
    "s1 = pd.Series([10,20], index = ['kim','lee'], name = 'score')\n",
    "\n",
    "r2 = s1.to_numpy()\n",
    "r3 = s1.to_list()\n",
    "r4 = s1.to_dict()\n",
    "r5 = s1.to_frame()\n",
    "r2; r3; r4; r5"
   ]
  },
  {
   "cell_type": "code",
   "execution_count": null,
   "metadata": {},
   "outputs": [],
   "source": [
    "s1 = pd.Series([10,20], index = ['kim','lee'], name = 'score')\n",
    "\n",
    "s1.to_excel('out_data/01_04_02_out.xlsx')\n",
    "s2 = pd.read_excel('out_data/01_04_02_out.xlsx', index_col = 0)\n",
    "s2\n",
    "\n",
    "s1.to_csv('out_data/01_04_02_out.csv')\n",
    "s3 = pd.read_csv('out_data/01_04_02_out.csv', index_col = 0)\n",
    "s3"
   ]
  }
 ],
 "metadata": {
  "colab": {
   "collapsed_sections": [
    "X9j6NHSVvIB7"
   ],
   "name": "DF_basic_Indexing_kim.ipynb",
   "provenance": []
  },
  "kernelspec": {
   "display_name": "Python 3",
   "language": "python",
   "name": "python3"
  },
  "language_info": {
   "codemirror_mode": {
    "name": "ipython",
    "version": 3
   },
   "file_extension": ".py",
   "mimetype": "text/x-python",
   "name": "python",
   "nbconvert_exporter": "python",
   "pygments_lexer": "ipython3",
   "version": "3.8.3"
  },
  "toc": {
   "base_numbering": 1,
   "nav_menu": {},
   "number_sections": true,
   "sideBar": true,
   "skip_h1_title": false,
   "title_cell": "Table of Contents",
   "title_sidebar": "Contents",
   "toc_cell": false,
   "toc_position": {},
   "toc_section_display": true,
   "toc_window_display": false
  }
 },
 "nbformat": 4,
 "nbformat_minor": 1
}
