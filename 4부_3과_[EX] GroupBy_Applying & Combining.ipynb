{
 "cells": [
  {
   "cell_type": "code",
   "execution_count": null,
   "metadata": {},
   "outputs": [],
   "source": [
    "from IPython.core.interactiveshell import InteractiveShell\n",
    "InteractiveShell.ast_node_interactivity = \"all\"\n",
    "\n",
    "# html을 이용하여 가로방향으로 여러 DF을 인쇄\n",
    "class disp(object):\n",
    "    template = '<div style=\"float: left;padding:10px;\"> <b>[{0}]</b> {1}</div>'\n",
    "    def __init__(self, *args):\n",
    "        self.args = args\n",
    "        \n",
    "    def _repr_html_(self):\n",
    "        return '\\n'.join(self.template.format(a, eval(a)._repr_html_())\n",
    "                         for a in self.args )\n",
    "\n",
    "import pandas as pd   \n",
    "import numpy as np\n",
    "import seaborn as sns"
   ]
  },
  {
   "cell_type": "markdown",
   "metadata": {},
   "source": [
    "### [예제1] GroupBy 집계1"
   ]
  },
  {
   "cell_type": "code",
   "execution_count": null,
   "metadata": {},
   "outputs": [],
   "source": [
    "df = pd.DataFrame({'brand':list('AABAB'), \n",
    "                  'model':['TV', 'PC', 'PC', 'TV', 'TV'], \n",
    "                   'sale':[10,30,50,40,70], 'stock':[100,100,200,200,300]})\n",
    "df                  "
   ]
  },
  {
   "cell_type": "code",
   "execution_count": null,
   "metadata": {},
   "outputs": [],
   "source": [
    "# [1]\n",
    "\n",
    "gb1 = df.groupby('model')\n",
    "r1 = gb1.count()\n",
    "r2 = gb1['model'].count()\n",
    "r3 = gb1.size()     \n",
    "\n",
    "r1; r2; r3"
   ]
  },
  {
   "cell_type": "code",
   "execution_count": null,
   "metadata": {
    "scrolled": true
   },
   "outputs": [],
   "source": [
    "# [2]\n",
    "\n",
    "gb1 = df.groupby('model')\n",
    "r4 = gb1.sum()#.sum(axis=1)\n",
    "r5 = gb1['brand'].value_counts()\n",
    "\n",
    "df; r4; r5"
   ]
  },
  {
   "cell_type": "code",
   "execution_count": null,
   "metadata": {},
   "outputs": [],
   "source": [
    "# [3]\n",
    "\n",
    "gb2 = df.groupby(['model','brand'])\n",
    "r6 = gb2.sum().query('brand==\"A\" and sale<=50')\n",
    "r7 = gb2.sum().groupby(level=1).sum()\n",
    "\n",
    "gb2.sum(); r6; r7"
   ]
  },
  {
   "cell_type": "markdown",
   "metadata": {},
   "source": [
    "### [예제2] 그룹집계 활용 예"
   ]
  },
  {
   "cell_type": "code",
   "execution_count": null,
   "metadata": {},
   "outputs": [],
   "source": [
    "df = pd.DataFrame({'month':[3,3,9,9,9], 'brand':list('AABAB'), \n",
    "                  'model':['TV', 'PC', 'PC', 'TV', 'TV'], \n",
    "                   'sale':[90,30,50,40,70]})\n",
    "df                  "
   ]
  },
  {
   "cell_type": "code",
   "execution_count": null,
   "metadata": {},
   "outputs": [],
   "source": [
    "# [1]\n",
    "\n",
    "func=lambda x:'high' if df.loc[x,'sale']>=50 else 'low'\n",
    "sr1 = df.groupby(['month', func])['model'].count()\n",
    "r1 = sr1.unstack(fill_value=0)\n",
    "\n",
    "sr1; r1"
   ]
  },
  {
   "cell_type": "code",
   "execution_count": null,
   "metadata": {},
   "outputs": [],
   "source": [
    "# [2]\n",
    "\n",
    "month_sum = df.groupby('month').sum()\n",
    "model_sum=df.groupby(['month','model']).sum()\n",
    "r2 = (model_sum / month_sum * 100).round()\n",
    "\n",
    "disp('month_sum', 'model_sum', 'r2')"
   ]
  },
  {
   "cell_type": "markdown",
   "metadata": {},
   "source": [
    "### [예제3] apply(), agg(), transform() 메서드 비교"
   ]
  },
  {
   "cell_type": "code",
   "execution_count": null,
   "metadata": {},
   "outputs": [],
   "source": [
    "df = pd.DataFrame({'grade':[1,1,1,2,2],'names':['kim', 'lee', 'park','song','lew'],\n",
    "                  'kor':[100,80,60,90,80], 'eng':[60,70,80,100,70]})\n",
    "df"
   ]
  },
  {
   "cell_type": "code",
   "execution_count": null,
   "metadata": {},
   "outputs": [],
   "source": [
    "# [1]\n",
    "\n",
    "def func(x):\n",
    "    return pd.Series({'eng': x['eng'].max(),'kor':x['kor'].min()})\n",
    "\n",
    "r1 = df.pivot_table(index='grade',aggfunc={'eng':max,'kor':min})\n",
    "r2 = df.groupby('grade').agg({'eng':max, 'kor':min})\n",
    "r3 = df.groupby('grade').apply(func)\n",
    "\n",
    "r1; r2; r3"
   ]
  },
  {
   "cell_type": "code",
   "execution_count": null,
   "metadata": {},
   "outputs": [],
   "source": [
    "# [2]\n",
    "\n",
    "def func(x):\n",
    "    return x.max() - x.min()\n",
    "r4 = df.pivot_table(index='grade', aggfunc=func)\n",
    "r5 = df.groupby('grade').agg(func)\n",
    "r6 = df.groupby('grade')[['kor','eng']].apply(func)\n",
    "r7 = df.groupby('grade').transform(func)\n",
    "\n",
    "r4; r5; r6; r7"
   ]
  },
  {
   "cell_type": "markdown",
   "metadata": {},
   "source": [
    "### [예제4] apply(), agg(), transform() 메서드의 이해"
   ]
  },
  {
   "cell_type": "code",
   "execution_count": null,
   "metadata": {},
   "outputs": [],
   "source": [
    "df = pd.DataFrame({'grade':[1,1,1,2,2],'names':['kim', 'lee', 'park','song','lew'],\n",
    "                  'kor':[100,80,60,90,80], 'eng':[60,70,80,100,70]})\n",
    "df"
   ]
  },
  {
   "cell_type": "code",
   "execution_count": null,
   "metadata": {},
   "outputs": [],
   "source": [
    "# [1-1]  \n",
    "\n",
    "def func(x):\n",
    "    print(x)\n",
    "\n",
    "gb1= df.groupby('grade')\n",
    "r1 = gb1.apply(func)\n",
    "r1"
   ]
  },
  {
   "cell_type": "code",
   "execution_count": null,
   "metadata": {},
   "outputs": [],
   "source": [
    "# [1-2]  \n",
    "\n",
    "def func(x):\n",
    "    print(x)\n",
    "\n",
    "gb1= df.groupby('grade')\n",
    "r2 = gb1.agg(func)\n",
    "r2"
   ]
  },
  {
   "cell_type": "code",
   "execution_count": null,
   "metadata": {},
   "outputs": [],
   "source": [
    "# [1-3]  \n",
    "\n",
    "def func(x):\n",
    "    print(x)\n",
    "\n",
    "gb1= df.groupby('grade')\n",
    "r3 = gb1.transform(func)\n",
    "r3"
   ]
  },
  {
   "cell_type": "markdown",
   "metadata": {},
   "source": [
    "### [예제5] GroupBy.agg() 메서드의 이해"
   ]
  },
  {
   "cell_type": "code",
   "execution_count": null,
   "metadata": {},
   "outputs": [],
   "source": [
    "df = pd.DataFrame({'grade':[1,2,1,2,1],'names':['kim', 'lee', 'park','song','lew'],\n",
    "                  'kor':[100,80,60,90,80], 'eng':[60,50,80,100,70], \n",
    "                  'absent':[3, 0, 1, 5, 2]})"
   ]
  },
  {
   "cell_type": "code",
   "execution_count": null,
   "metadata": {},
   "outputs": [],
   "source": [
    "# [1-1] \n",
    "\n",
    "gb1 = df.groupby('grade')[['kor', 'eng']]\n",
    "r1 = gb1.agg('mean')\n",
    "r2 = gb1.agg(['sum', 'mean'])\n",
    "r3 = gb1.agg({'kor':'sum', 'eng':'mean'})\n",
    "disp('df','r1'); disp('r2','r3')"
   ]
  },
  {
   "cell_type": "code",
   "execution_count": null,
   "metadata": {},
   "outputs": [],
   "source": [
    "# [1-2] \n",
    "\n",
    "gb1 = df.groupby('grade')[['kor', 'eng']]\n",
    "r4 = gb1.agg([('tot','sum'), ('avg','mean')])\n",
    "r5 = gb1.agg(tot=('kor','sum'))\n",
    "disp('df', 'r4','r5')"
   ]
  },
  {
   "cell_type": "code",
   "execution_count": null,
   "metadata": {},
   "outputs": [],
   "source": [
    "# [2]\n",
    "\n",
    "def func(x):\n",
    "    return x.max() - x.min()\n",
    "\n",
    "gb2 = df.groupby('grade')['absent']\n",
    "r6 = gb2.agg([func])\n",
    "r7 = gb2.agg([all, any])\n",
    "disp('df', 'r6', 'r7')"
   ]
  },
  {
   "cell_type": "markdown",
   "metadata": {},
   "source": [
    "### [예제6] GroupBy.filter() 메서드의 이해"
   ]
  },
  {
   "cell_type": "code",
   "execution_count": null,
   "metadata": {},
   "outputs": [],
   "source": [
    "df = pd.DataFrame({'grade':[1,1,2,2,3,3],\n",
    "                   'names':['kim','lee','park','song','lew','ki'],\n",
    "                  'exam':[90,80,50,70,80,60]})\n",
    "df"
   ]
  },
  {
   "cell_type": "code",
   "execution_count": null,
   "metadata": {},
   "outputs": [],
   "source": [
    "# [1-1]\n",
    "\n",
    "gb = df.groupby('grade')\n",
    "r1 = gb.agg('mean')\n",
    "disp('df','r1')"
   ]
  },
  {
   "cell_type": "code",
   "execution_count": null,
   "metadata": {},
   "outputs": [],
   "source": [
    "# [1-2]\n",
    "\n",
    "gb = df.groupby('grade')\n",
    "func = lambda x : x['exam'].mean()>=70\n",
    "r2 = gb.filter(func)\n",
    "r3 = gb.filter(func, dropna=False)\n",
    "\n",
    "disp('df', 'r2', 'r3')"
   ]
  },
  {
   "cell_type": "markdown",
   "metadata": {},
   "source": [
    "### [예제7] 그룹집계 활용 : titanic"
   ]
  },
  {
   "cell_type": "code",
   "execution_count": null,
   "metadata": {},
   "outputs": [],
   "source": [
    "df = sns.load_dataset('titanic')[['pclass','survived', 'sex', 'age']]\n",
    "#df = pd.read_csv('data/titanic.csv',usecols=['pclass','survived','sex','age']) \n",
    "df.head()"
   ]
  },
  {
   "cell_type": "code",
   "execution_count": null,
   "metadata": {},
   "outputs": [],
   "source": [
    "# [1]\n",
    "\n",
    "gb = df.groupby(['pclass', 'sex'])\n",
    "df['age'] = df['age'].fillna(gb['age'].transform('median'))\n",
    "\n",
    "df.info()"
   ]
  },
  {
   "cell_type": "code",
   "execution_count": null,
   "metadata": {},
   "outputs": [],
   "source": [
    "# [2] \n",
    "\n",
    "df['age2'] = df['age'].apply(lambda x: x//10*10)\n",
    "gb = df.groupby(['pclass', 'age2'])\n",
    "r1 = gb['survived'].sum()\n",
    "r2 = gb.filter(lambda x: (x['survived'].sum() >=50) )\n",
    "\n",
    "r1; r2.head()"
   ]
  }
 ],
 "metadata": {
  "kernelspec": {
   "display_name": "Python 3",
   "language": "python",
   "name": "python3"
  },
  "language_info": {
   "codemirror_mode": {
    "name": "ipython",
    "version": 3
   },
   "file_extension": ".py",
   "mimetype": "text/x-python",
   "name": "python",
   "nbconvert_exporter": "python",
   "pygments_lexer": "ipython3",
   "version": "3.8.3"
  },
  "toc": {
   "base_numbering": 1,
   "nav_menu": {},
   "number_sections": true,
   "sideBar": true,
   "skip_h1_title": true,
   "title_cell": "Table of Contents",
   "title_sidebar": "Contents",
   "toc_cell": false,
   "toc_position": {},
   "toc_section_display": true,
   "toc_window_display": false
  }
 },
 "nbformat": 4,
 "nbformat_minor": 2
}
