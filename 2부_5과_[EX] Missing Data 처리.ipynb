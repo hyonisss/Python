{
 "cells": [
  {
   "cell_type": "code",
   "execution_count": 1,
   "metadata": {
    "scrolled": true
   },
   "outputs": [],
   "source": [
    "from IPython.core.interactiveshell import InteractiveShell\n",
    "InteractiveShell.ast_node_interactivity = \"all\"\n",
    "\n",
    "def prt(*pVPK) :\n",
    "    print(*pVPK, sep = '\\n\\n', end = '\\n\\n')\n",
    "    \n",
    "class disp(object):\n",
    "    template = '<div style=\"float: left;padding:10px;\"> <b>[{0}]</b> {1}</div>'\n",
    "    def __init__(self, *args):\n",
    "        self.args = args\n",
    "        \n",
    "    def _repr_html_(self):\n",
    "        return '\\n'.join( self.template.format(a, eval(a)._repr_html_()) \n",
    "                        for a in self.args)\n",
    "\n",
    "import pandas as pd\n",
    "import numpy as np    "
   ]
  },
  {
   "cell_type": "markdown",
   "metadata": {},
   "source": [
    "### [예제1] NA 데이터 연산"
   ]
  },
  {
   "cell_type": "code",
   "execution_count": null,
   "metadata": {},
   "outputs": [],
   "source": [
    "import pandas as pd\n",
    "\n",
    "df = pd.read_csv('data/02_05_01.csv', index_col=0)\n",
    "df\n",
    "\n",
    "r1 = df['A'] + df['B'] + df['C'] + df['D']\n",
    "r2 = df.sum(axis=1)\n",
    "r3 = df.sum(axis=1, skipna=False)\n",
    "r1; r2; r3"
   ]
  },
  {
   "cell_type": "markdown",
   "metadata": {},
   "source": [
    "### [예제2] 다양한 NA 처리 및 1000단위 구분자 인식"
   ]
  },
  {
   "cell_type": "code",
   "execution_count": null,
   "metadata": {},
   "outputs": [],
   "source": [
    "import pandas as pd\n",
    "\n",
    "df = pd.read_csv('data/02_05_02.csv', na_values = ['?','-',None,'*'])\n",
    "df"
   ]
  },
  {
   "cell_type": "code",
   "execution_count": null,
   "metadata": {},
   "outputs": [],
   "source": [
    "import pandas as pd\n",
    "\n",
    "df = pd.read_csv('data/02_05_02.csv', na_values = ['?','-',None,'*'])\n",
    "df\n",
    "\n",
    "df['C'] = df['C'].str.replace(',','').astype(float, errors='ignore')\n",
    "df\n",
    "prt(df.dtypes)"
   ]
  },
  {
   "cell_type": "code",
   "execution_count": null,
   "metadata": {},
   "outputs": [],
   "source": [
    "import pandas as pd\n",
    "\n",
    "df1 = pd.read_csv('data/02_05_02.csv', thousands=',', na_values=['?','-',None,'*'])\n",
    "\n",
    "prt(df1.dtypes)\n",
    "df1\n",
    "df1.info()"
   ]
  },
  {
   "cell_type": "markdown",
   "metadata": {},
   "source": [
    "### [예제3] isna(), notna() 메서드 이해"
   ]
  },
  {
   "cell_type": "code",
   "execution_count": null,
   "metadata": {},
   "outputs": [],
   "source": [
    "import pandas as pd\n",
    "\n",
    "df = pd.read_csv('data/02_05_01.csv', index_col=0)\n",
    "df\n",
    "\n",
    "r1 = df.isna()\n",
    "r2 = df['B'].isna()\n",
    "r3 = df.isnull()\n",
    "r1; r2; r3"
   ]
  },
  {
   "cell_type": "code",
   "execution_count": null,
   "metadata": {},
   "outputs": [],
   "source": [
    "import pandas as pd\n",
    "\n",
    "df = pd.read_csv('data/02_05_01.csv', index_col=0)\n",
    "df\n",
    "\n",
    "r4 = df.notna()\n",
    "r5 = df['B'].notna()\n",
    "r6 = df.notnull()\n",
    "r4; r5; r6"
   ]
  },
  {
   "cell_type": "markdown",
   "metadata": {},
   "source": [
    "### [예제4] dropna() 메서드 이해"
   ]
  },
  {
   "cell_type": "code",
   "execution_count": null,
   "metadata": {},
   "outputs": [],
   "source": [
    "import pandas as pd\n",
    "\n",
    "df = pd.read_csv('data/02_05_01.csv', index_col=0)\n",
    "df\n",
    "\n",
    "r1 = df.dropna()\n",
    "r1"
   ]
  },
  {
   "cell_type": "code",
   "execution_count": null,
   "metadata": {},
   "outputs": [],
   "source": [
    "import pandas as pd\n",
    "\n",
    "df = pd.read_csv('data/02_05_01.csv', index_col=0)\n",
    "df\n",
    "\n",
    "r2 = df.dropna(subset=['B','C'], how='all')\n",
    "r2"
   ]
  },
  {
   "cell_type": "code",
   "execution_count": null,
   "metadata": {},
   "outputs": [],
   "source": [
    "import pandas as pd\n",
    "\n",
    "df = pd.read_csv('data/02_05_01.csv', index_col=0)\n",
    "df\n",
    "\n",
    "r3 = df.dropna(subset=['B','C','D'], thresh=2)\n",
    "r3"
   ]
  },
  {
   "cell_type": "code",
   "execution_count": null,
   "metadata": {},
   "outputs": [],
   "source": [
    "import pandas as pd\n",
    "\n",
    "df = pd.read_csv('data/02_05_01.csv', index_col=0)\n",
    "df\n",
    "\n",
    "r4 = df.dropna(axis=1, how='all', thresh=3)\n",
    "r4"
   ]
  },
  {
   "cell_type": "code",
   "execution_count": null,
   "metadata": {},
   "outputs": [],
   "source": [
    "import pandas as pd\n",
    "\n",
    "df = pd.read_csv('data/02_05_01.csv', index_col=0)\n",
    "df\n",
    "\n",
    "r5 = df['B'].dropna()\n",
    "r5"
   ]
  },
  {
   "cell_type": "markdown",
   "metadata": {},
   "source": [
    "### [예제5] fillna() 메서드 이해"
   ]
  },
  {
   "cell_type": "code",
   "execution_count": null,
   "metadata": {},
   "outputs": [],
   "source": [
    "import pandas as pd\n",
    "\n",
    "df = pd.read_csv('data/02_05_01.csv', index_col=0)\n",
    "df\n",
    "\n",
    "r1 = df.fillna(0)\n",
    "r1"
   ]
  },
  {
   "cell_type": "code",
   "execution_count": null,
   "metadata": {},
   "outputs": [],
   "source": [
    "import pandas as pd\n",
    "\n",
    "df = pd.read_csv('data/02_05_01.csv', index_col=0)\n",
    "df\n",
    "\n",
    "r2 = df.fillna(method='ffill')\n",
    "r2"
   ]
  },
  {
   "cell_type": "code",
   "execution_count": null,
   "metadata": {},
   "outputs": [],
   "source": [
    "import pandas as pd\n",
    "\n",
    "df = pd.read_csv('data/02_05_01.csv', index_col=0)\n",
    "df\n",
    "\n",
    "r3 = df.fillna(method='bfill', axis=1, limit=1)\n",
    "r3"
   ]
  },
  {
   "cell_type": "code",
   "execution_count": null,
   "metadata": {},
   "outputs": [],
   "source": [
    "import pandas as pd\n",
    "\n",
    "df = pd.read_csv('data/02_05_01.csv', index_col=0)\n",
    "df\n",
    "\n",
    "r4 = df.fillna({'B':-1, 'C':-2})\n",
    "r4"
   ]
  },
  {
   "cell_type": "code",
   "execution_count": null,
   "metadata": {},
   "outputs": [],
   "source": [
    "import pandas as pd\n",
    "\n",
    "df = pd.read_csv('data/02_05_01.csv', index_col=0)\n",
    "df\n",
    "\n",
    "print(df.min())\n",
    "r5 = df.fillna(df.min())\n",
    "r5"
   ]
  },
  {
   "cell_type": "code",
   "execution_count": null,
   "metadata": {},
   "outputs": [],
   "source": [
    "import pandas as pd\n",
    "import numpy as np\n",
    "\n",
    "df = pd.read_csv('data/02_05_01.csv', index_col=0)\n",
    "df1 = pd.DataFrame(np.arange(10,19).reshape(3,3), columns=list('ABC'))\n",
    "df; df1\n",
    "\n",
    "r6 = df.fillna(df1) \n",
    "r6"
   ]
  },
  {
   "cell_type": "markdown",
   "metadata": {},
   "source": [
    "### [예제6] replace() 메서드 이해"
   ]
  },
  {
   "cell_type": "code",
   "execution_count": null,
   "metadata": {
    "scrolled": true
   },
   "outputs": [],
   "source": [
    "import pandas as pd\n",
    "\n",
    "df = pd.read_csv('data/02_05_03.csv', index_col=0)\n",
    "df\n",
    "\n",
    "r1 = df.replace() \n",
    "r1"
   ]
  },
  {
   "cell_type": "code",
   "execution_count": null,
   "metadata": {},
   "outputs": [],
   "source": [
    "import pandas as pd\n",
    "\n",
    "df = pd.read_csv('data/02_05_03.csv', index_col=0)\n",
    "df\n",
    "\n",
    "r2 = df.replace(to_replace=3.0)\n",
    "r2"
   ]
  },
  {
   "cell_type": "code",
   "execution_count": null,
   "metadata": {},
   "outputs": [],
   "source": [
    "import pandas as pd\n",
    "\n",
    "df = pd.read_csv('data/02_05_03.csv', index_col=0)\n",
    "df\n",
    "\n",
    "r3 = df.replace(3.0, 300)\n",
    "r3"
   ]
  },
  {
   "cell_type": "code",
   "execution_count": null,
   "metadata": {},
   "outputs": [],
   "source": [
    "import pandas as pd\n",
    "\n",
    "df = pd.read_csv('data/02_05_03.csv', index_col=0)\n",
    "df\n",
    "\n",
    "r4 = df.replace([1,3]) \n",
    "r4"
   ]
  },
  {
   "cell_type": "code",
   "execution_count": null,
   "metadata": {},
   "outputs": [],
   "source": [
    "import pandas as pd\n",
    "\n",
    "df = pd.read_csv('data/02_05_03.csv', index_col=0)\n",
    "df\n",
    "\n",
    "r5 = df.replace([1,3], -1) \n",
    "r5"
   ]
  },
  {
   "cell_type": "code",
   "execution_count": null,
   "metadata": {},
   "outputs": [],
   "source": [
    "import pandas as pd\n",
    "\n",
    "df = pd.read_csv('data/02_05_03.csv', index_col=0)\n",
    "df\n",
    "\n",
    "r6 = df.replace([1,3], [-1, -2])\n",
    "r6"
   ]
  },
  {
   "cell_type": "code",
   "execution_count": null,
   "metadata": {},
   "outputs": [],
   "source": [
    "import pandas as pd\n",
    "\n",
    "df = pd.read_csv('data/02_05_03.csv', index_col=0)\n",
    "df\n",
    "\n",
    "r7 = df.replace({1:-1, 2:-2, 3:-3})\n",
    "r7"
   ]
  },
  {
   "cell_type": "code",
   "execution_count": null,
   "metadata": {},
   "outputs": [],
   "source": [
    "import pandas as pd\n",
    "\n",
    "df = pd.read_csv('data/02_05_03.csv', index_col=0)\n",
    "df\n",
    "\n",
    "r8 = df.replace({'B': {1:-1, 3:-3}})\n",
    "r8"
   ]
  },
  {
   "cell_type": "code",
   "execution_count": null,
   "metadata": {},
   "outputs": [],
   "source": [
    "import pandas as pd\n",
    "\n",
    "df = pd.read_csv('data/02_05_03.csv', index_col=0)\n",
    "df\n",
    "\n",
    "r9 = df.replace({'B':[1,3], 'C':[2,5]}, -1) \n",
    "r9"
   ]
  },
  {
   "cell_type": "code",
   "execution_count": null,
   "metadata": {},
   "outputs": [],
   "source": [
    "import pandas as pd\n",
    "\n",
    "df = pd.read_csv('data/02_05_03.csv', index_col=0)\n",
    "df\n",
    "\n",
    "r10 = df.replace({'B':3, 'C':1}, {'B':-2, 'C':-3}) \n",
    "r10"
   ]
  },
  {
   "cell_type": "markdown",
   "metadata": {},
   "source": [
    "### [예제7] replace()의 정규식 이용"
   ]
  },
  {
   "cell_type": "code",
   "execution_count": null,
   "metadata": {},
   "outputs": [],
   "source": [
    "import pandas as pd\n",
    "\n",
    "df = pd.read_csv('data/02_05_03.csv', index_col=0).drop('A', axis=1).drop(2)\n",
    "df.replace({1:'one', 2:'two', 3:'three'}, inplace=True)\n",
    "df\n",
    "\n",
    "r1 = df.replace(to_replace='^t.+', value='***', regex=True)\n",
    "r1"
   ]
  },
  {
   "cell_type": "code",
   "execution_count": null,
   "metadata": {},
   "outputs": [],
   "source": [
    "import pandas as pd\n",
    "\n",
    "df = pd.read_csv('data/02_05_03.csv', index_col=0).drop('A', axis=1).drop(2)\n",
    "df.replace({1:'one', 2:'two', 3:'three'}, inplace=True)\n",
    "df\n",
    "\n",
    "r2 = df.replace(regex='^th', value='f')\n",
    "r2"
   ]
  }
 ],
 "metadata": {
  "kernelspec": {
   "display_name": "Python 3",
   "language": "python",
   "name": "python3"
  },
  "language_info": {
   "codemirror_mode": {
    "name": "ipython",
    "version": 3
   },
   "file_extension": ".py",
   "mimetype": "text/x-python",
   "name": "python",
   "nbconvert_exporter": "python",
   "pygments_lexer": "ipython3",
   "version": "3.8.3"
  }
 },
 "nbformat": 4,
 "nbformat_minor": 2
}
