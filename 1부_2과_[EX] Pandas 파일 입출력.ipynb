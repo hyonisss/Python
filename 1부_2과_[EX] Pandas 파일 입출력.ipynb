{
 "cells": [
  {
   "cell_type": "code",
   "execution_count": null,
   "metadata": {},
   "outputs": [],
   "source": [
    "from IPython.core.interactiveshell import InteractiveShell\n",
    "InteractiveShell.ast_node_interactivity = \"all\""
   ]
  },
  {
   "cell_type": "markdown",
   "metadata": {},
   "source": [
    "### [예제1] CSV 파일 읽기"
   ]
  },
  {
   "cell_type": "code",
   "execution_count": null,
   "metadata": {
    "scrolled": true
   },
   "outputs": [],
   "source": [
    "import pandas as pd\n",
    "\n",
    "file1 = 'data/01_02_01.csv'\n",
    "df = pd.read_csv(file1)\n",
    "df"
   ]
  },
  {
   "cell_type": "markdown",
   "metadata": {},
   "source": [
    "### [예제2] Header 지정"
   ]
  },
  {
   "cell_type": "code",
   "execution_count": null,
   "metadata": {},
   "outputs": [],
   "source": [
    "# [1]\n",
    "\n",
    "import pandas as pd\n",
    "\n",
    "file1 = 'data/01_02_01.csv'\n",
    "df1 = pd.read_csv(file1, header = None)\n",
    "df1"
   ]
  },
  {
   "cell_type": "code",
   "execution_count": null,
   "metadata": {},
   "outputs": [],
   "source": [
    "# [2]\n",
    "\n",
    "import pandas as pd\n",
    "\n",
    "file1 = 'data/01_02_01.csv'\n",
    "df2 = pd.read_csv(file1, header = 2)\n",
    "df2"
   ]
  },
  {
   "cell_type": "markdown",
   "metadata": {},
   "source": [
    "### [예제3] 읽기 제외할 행의 지정"
   ]
  },
  {
   "cell_type": "code",
   "execution_count": null,
   "metadata": {
    "scrolled": true
   },
   "outputs": [],
   "source": [
    "# [1]\n",
    "\n",
    "import pandas as pd\n",
    "\n",
    "file1 = 'data/01_02_01.csv'\n",
    "df1 = pd.read_csv(file1, header = None, skiprows = 3)\n",
    "df1"
   ]
  },
  {
   "cell_type": "code",
   "execution_count": null,
   "metadata": {},
   "outputs": [],
   "source": [
    "# [2]\n",
    "\n",
    "import pandas as pd\n",
    "\n",
    "file1 = 'data/01_02_01.csv'\n",
    "df2 = pd.read_csv(file1, header = None, skiprows = [0,2,4])\n",
    "df2"
   ]
  },
  {
   "cell_type": "code",
   "execution_count": null,
   "metadata": {},
   "outputs": [],
   "source": [
    "# [3]\n",
    "\n",
    "import pandas as pd\n",
    "\n",
    "file1 = 'data/01_02_01.csv'\n",
    "df3 = pd.read_csv(file1, skiprows = lambda x : x % 3 != 0)\n",
    "df3"
   ]
  },
  {
   "cell_type": "markdown",
   "metadata": {
    "scrolled": false
   },
   "source": [
    "### [예제4] 읽어올 행의 개수 지정"
   ]
  },
  {
   "cell_type": "code",
   "execution_count": null,
   "metadata": {},
   "outputs": [],
   "source": [
    "# [1]\n",
    "\n",
    "import pandas as pd\n",
    "\n",
    "file1 = 'data/01_02_01.csv'\n",
    "df1 = pd.read_csv(file1, nrows = 3)\n",
    "df1"
   ]
  },
  {
   "cell_type": "code",
   "execution_count": null,
   "metadata": {},
   "outputs": [],
   "source": [
    "# [2]\n",
    "\n",
    "import pandas as pd\n",
    "\n",
    "file1 = 'data/01_02_01.csv'\n",
    "df2 = pd.read_csv(file1, header = None, skiprows = 2, nrows = 3)\n",
    "df2"
   ]
  },
  {
   "cell_type": "code",
   "execution_count": null,
   "metadata": {},
   "outputs": [],
   "source": [
    "# [3]\n",
    "\n",
    "import pandas as pd\n",
    "\n",
    "file1 = 'data/01_02_01.csv'\n",
    "df3 = pd.read_csv(file1,  header = None, skiprows = 2, nrows = 3, usecols=[1,3,5])\n",
    "df3"
   ]
  },
  {
   "cell_type": "markdown",
   "metadata": {},
   "source": [
    "### [예제5] 컬럼 Label들의 지정"
   ]
  },
  {
   "cell_type": "code",
   "execution_count": null,
   "metadata": {
    "scrolled": true
   },
   "outputs": [],
   "source": [
    "# [1]\n",
    "\n",
    "import pandas as pd\n",
    "\n",
    "file1 = 'data/01_02_01.csv'\n",
    "\n",
    "l = ['id', 'names', 'class', 'age', 'height', 'weight', 'birth']\n",
    "\n",
    "df1 = pd.read_csv(file1, header = None, skiprows = 3)\n",
    "df1"
   ]
  },
  {
   "cell_type": "code",
   "execution_count": null,
   "metadata": {},
   "outputs": [],
   "source": [
    "# [2]\n",
    "\n",
    "import pandas as pd\n",
    "\n",
    "file1 = 'data/01_02_01.csv'\n",
    "\n",
    "l = ['id', 'names', 'class', 'age', 'height', 'weight', 'birth']\n",
    "\n",
    "df2 = pd.read_csv(file1, header = None, skiprows = 3, names = l)\n",
    "df2"
   ]
  },
  {
   "cell_type": "markdown",
   "metadata": {},
   "source": [
    "### [예제6] 행(index) Label 지정"
   ]
  },
  {
   "cell_type": "code",
   "execution_count": null,
   "metadata": {
    "scrolled": false
   },
   "outputs": [],
   "source": [
    "# [1] \n",
    "\n",
    "import pandas as pd\n",
    "\n",
    "file1 = 'data/01_02_01.csv'\n",
    "df1 = pd.read_csv(file1, index_col = 0)\n",
    "df1"
   ]
  },
  {
   "cell_type": "code",
   "execution_count": null,
   "metadata": {},
   "outputs": [],
   "source": [
    "# [2]\n",
    "\n",
    "import pandas as pd\n",
    "\n",
    "file1 = 'data/01_02_01.csv'\n",
    "df2 = pd.read_csv(file1, index_col = 1)\n",
    "df2"
   ]
  },
  {
   "cell_type": "markdown",
   "metadata": {},
   "source": [
    "### [예제7] 분리 기호로 사용할 문자열 지정"
   ]
  },
  {
   "cell_type": "code",
   "execution_count": null,
   "metadata": {
    "scrolled": true
   },
   "outputs": [],
   "source": [
    "import pandas as pd\n",
    "\n",
    "df = pd.read_csv('data/01_02_01.txt', sep = '\\t')\n",
    "df"
   ]
  },
  {
   "cell_type": "markdown",
   "metadata": {},
   "source": [
    "### [예제8] CSV(또는 TXT) 파일로 저장하기"
   ]
  },
  {
   "cell_type": "code",
   "execution_count": null,
   "metadata": {
    "scrolled": false
   },
   "outputs": [],
   "source": [
    "import pandas as pd\n",
    "\n",
    "df1 = pd.read_csv('data/01_02_01.csv', nrows = 3)\n",
    "df1.to_csv('out_data/test_out.csv', header = False, index = False)\n",
    "df1\n",
    "\n",
    "df2 = pd.read_csv('out_data/test_out.csv', header = None)\n",
    "df2"
   ]
  },
  {
   "cell_type": "markdown",
   "metadata": {},
   "source": [
    "### [예제9] 엑셀 파일 읽어오기"
   ]
  },
  {
   "cell_type": "code",
   "execution_count": null,
   "metadata": {
    "scrolled": false
   },
   "outputs": [],
   "source": [
    "# [1]\n",
    "\n",
    "import pandas as pd\n",
    "\n",
    "df1 = pd.read_excel('data/01_02_01.xlsx', sheet_name = 0)\n",
    "df1"
   ]
  },
  {
   "cell_type": "code",
   "execution_count": null,
   "metadata": {},
   "outputs": [],
   "source": [
    "# [2]\n",
    "\n",
    "import pandas as pd\n",
    "\n",
    "df2 = pd.read_excel('data/01_02_01.xlsx', sheet_name = 'sheet_2')\n",
    "df2"
   ]
  },
  {
   "cell_type": "code",
   "execution_count": null,
   "metadata": {},
   "outputs": [],
   "source": [
    "# [3]\n",
    "\n",
    "# (주의) pandas 버전에 따라 결과 다를수 있음\n",
    "# 과거에는 orderedict(collections 모듈의 타입) 사용\n",
    "# Python 3.6부터 dict도 순서 보장\n",
    "# 따라서 pandas 신규 버전은 dict 사용으로 변경\n",
    "\n",
    "import pandas as pd\n",
    "\n",
    "df3 = pd.read_excel('data/01_02_01.xlsx', sheet_name = [0,1])\n",
    "df3"
   ]
  },
  {
   "cell_type": "code",
   "execution_count": null,
   "metadata": {},
   "outputs": [],
   "source": [
    "# [4]\n",
    "\n",
    "import pandas as pd\n",
    "\n",
    "df4 = pd.read_excel('data/01_02_01.xlsx', sheet_name = ['sheet_2','sheet_1'])\n",
    "df4"
   ]
  },
  {
   "cell_type": "markdown",
   "metadata": {},
   "source": [
    "### [예제10] 엑셀 파일로 저장하기"
   ]
  },
  {
   "cell_type": "code",
   "execution_count": null,
   "metadata": {
    "scrolled": true
   },
   "outputs": [],
   "source": [
    "import pandas as pd\n",
    "\n",
    "df1 = pd.read_csv('data/01_02_01.csv', nrows = 3)\n",
    "df1.to_excel('out_data/test_out.xlsx', sheet_name = 'my_sheet')\n",
    "df1\n",
    "\n",
    "df2 = pd.read_excel('out_data/test_out.xlsx')\n",
    "df2"
   ]
  }
 ],
 "metadata": {
  "kernelspec": {
   "display_name": "Python 3",
   "language": "python",
   "name": "python3"
  },
  "language_info": {
   "codemirror_mode": {
    "name": "ipython",
    "version": 3
   },
   "file_extension": ".py",
   "mimetype": "text/x-python",
   "name": "python",
   "nbconvert_exporter": "python",
   "pygments_lexer": "ipython3",
   "version": "3.8.3"
  },
  "toc": {
   "base_numbering": 1,
   "nav_menu": {},
   "number_sections": true,
   "sideBar": true,
   "skip_h1_title": false,
   "title_cell": "Table of Contents",
   "title_sidebar": "Contents",
   "toc_cell": false,
   "toc_position": {},
   "toc_section_display": true,
   "toc_window_display": false
  }
 },
 "nbformat": 4,
 "nbformat_minor": 2
}
