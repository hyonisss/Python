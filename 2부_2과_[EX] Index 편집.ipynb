{
 "cells": [
  {
   "cell_type": "code",
   "execution_count": null,
   "metadata": {},
   "outputs": [],
   "source": [
    "from IPython.core.interactiveshell import InteractiveShell\n",
    "InteractiveShell.ast_node_interactivity = \"all\"\n",
    "\n",
    "class disp(object):\n",
    "    template = '<div style=\"float: left;padding:10px;\"> <b>[{0}]</b> {1}</div>'\n",
    "    def __init__(self, *args):\n",
    "        self.args = args\n",
    "        \n",
    "    def _repr_html_(self):\n",
    "        return '\\n'.join( self.template.format(a, eval(a)._repr_html_()) \n",
    "                        for a in self.args)\n",
    "\n",
    "import pandas as pd\n",
    "import numpy as np   "
   ]
  },
  {
   "cell_type": "markdown",
   "metadata": {},
   "source": [
    "### [예제1] rename(): Index 변경"
   ]
  },
  {
   "cell_type": "code",
   "execution_count": null,
   "metadata": {},
   "outputs": [],
   "source": [
    "df = pd.DataFrame([['kim',90],['lee',80]], columns=['n','s'], index=[10,11])\n",
    "df\n",
    "\n",
    "df.columns = ['names','score']\n",
    "df.index=['A','B']\n",
    "df"
   ]
  },
  {
   "cell_type": "code",
   "execution_count": null,
   "metadata": {},
   "outputs": [],
   "source": [
    "df = pd.DataFrame([['kim',90],['lee',80]], columns=['n','s'], index=[10,11])\n",
    "df2 = df.rename({10:'A'})\n",
    "df2 = df.rename({'n':'names', 's':'score'}, axis = 1)\n",
    "disp('df', 'df2')"
   ]
  },
  {
   "cell_type": "code",
   "execution_count": null,
   "metadata": {},
   "outputs": [],
   "source": [
    "df = pd.DataFrame([['kim',90],['lee',80]], columns=['n','s'], index=[10,11])\n",
    "df3 = df.rename(index = {10:'A'}, columns = {'n':'names', 's':'score'})  \n",
    "disp('df', 'df3')"
   ]
  },
  {
   "cell_type": "code",
   "execution_count": null,
   "metadata": {},
   "outputs": [],
   "source": [
    "df = pd.DataFrame([['kim',90],['lee',80]], columns=['n','s'], index=[10,11])\n",
    "df4 = df.rename(index = float)\n",
    "df5 = df.rename(index = lambda x : x + 1, columns = str.upper)\n",
    "disp('df', 'df4', 'df5')"
   ]
  },
  {
   "cell_type": "code",
   "execution_count": null,
   "metadata": {},
   "outputs": [],
   "source": [
    "df = pd.DataFrame([['kim',90],['lee',80]], columns=['n','s'], index=[10,11])\n",
    "df6 = df.add_prefix('@').add_suffix('#')\n",
    "disp('df', 'df6')"
   ]
  },
  {
   "cell_type": "markdown",
   "metadata": {},
   "source": [
    "### [예제2] copy와 inplace parameter"
   ]
  },
  {
   "cell_type": "code",
   "execution_count": null,
   "metadata": {},
   "outputs": [],
   "source": [
    "df = pd.DataFrame([['kim',90],['lee',80]], columns=['n','s'], index=[10,11])\n",
    "df\n",
    "\n",
    "df1 = df.rename(columns = {'n':'names'}, inplace = False) # defualt\n",
    "df.rename(columns = {'n':'이름'}, inplace = True)\n",
    "disp('df1', 'df')"
   ]
  },
  {
   "cell_type": "code",
   "execution_count": null,
   "metadata": {},
   "outputs": [],
   "source": [
    "df = pd.DataFrame([['kim',90],['lee',80]], columns=['n','s'], index=[10,11])\n",
    "df\n",
    "df2 = df.rename(columns = {'n':'names'}, copy = False)\n",
    "df3 = df.rename(columns = {'n':'names'}, copy = True) # default\n",
    "df.loc[10,'s'] = -10\n",
    "disp('df2', 'df3', 'df')"
   ]
  },
  {
   "cell_type": "markdown",
   "metadata": {},
   "source": [
    "### [예제3] set_index() 메서드 이해\n"
   ]
  },
  {
   "cell_type": "code",
   "execution_count": null,
   "metadata": {},
   "outputs": [],
   "source": [
    "df = pd.DataFrame([['kim',90,80],['lee',80,70]], columns=['n','k','e'])\n",
    "\n",
    "df1 = df.set_index('n')\n",
    "disp('df', 'df1')"
   ]
  },
  {
   "cell_type": "code",
   "execution_count": null,
   "metadata": {},
   "outputs": [],
   "source": [
    "df = pd.DataFrame([['kim',90,80],['lee',80,70]], columns=['n','k','e'])\n",
    "\n",
    "df2 = df.set_index('n', drop=False).set_index('k', append=True)\n",
    "prt(df2.index)\n",
    "disp('df', 'df2')"
   ]
  },
  {
   "cell_type": "code",
   "execution_count": null,
   "metadata": {},
   "outputs": [],
   "source": [
    "df = pd.DataFrame([['kim',90,80],['lee',80,70]], columns=['n','k','e'])\n",
    "\n",
    "df3 = df.set_index(np.array([10,11]))\n",
    "disp('df', 'df3')"
   ]
  },
  {
   "cell_type": "code",
   "execution_count": null,
   "metadata": {},
   "outputs": [],
   "source": [
    "df = pd.DataFrame([['kim',90,80],['lee',80,70]], columns=['n','k','e'])\n",
    "\n",
    "df4 = df.set_index(pd.Series(['A','B'], name = 'c'))\n",
    "disp('df', 'df4')"
   ]
  },
  {
   "cell_type": "code",
   "execution_count": null,
   "metadata": {},
   "outputs": [],
   "source": [
    "df = pd.DataFrame([['kim',90,80],['lee',80,70]], columns=['n','k','e'])\n",
    "\n",
    "df5 = df.set_index(['k','e'])\n",
    "disp('df', 'df5')"
   ]
  },
  {
   "cell_type": "markdown",
   "metadata": {},
   "source": [
    "### [예제4] reset_index() 메서드 이해"
   ]
  },
  {
   "cell_type": "code",
   "execution_count": null,
   "metadata": {},
   "outputs": [],
   "source": [
    "df = pd.DataFrame([['kim',90,80],['lee',80,70]], columns=['n','k','e'])\n",
    "df = df.set_index(['k','e'])\n",
    "\n",
    "df1 = df.reset_index()\n",
    "disp('df', 'df1')"
   ]
  },
  {
   "cell_type": "code",
   "execution_count": null,
   "metadata": {},
   "outputs": [],
   "source": [
    "df = pd.DataFrame([['kim',90,80],['lee',80,70]], columns=['n','k','e'])\n",
    "df = df.set_index(['k','e'])\n",
    "\n",
    "df2 = df.reset_index(level = (0,1))\n",
    "disp('df', 'df2')"
   ]
  },
  {
   "cell_type": "code",
   "execution_count": null,
   "metadata": {},
   "outputs": [],
   "source": [
    "df = pd.DataFrame([['kim',90,80],['lee',80,70]], columns=['n','k','e'])\n",
    "df = df.set_index(['k','e'])\n",
    "\n",
    "df3 = df.reset_index(level = 0)\n",
    "df3 = df.reset_index(0)\n",
    "df3 = df.reset_index('k')\n",
    "disp('df', 'df3')"
   ]
  },
  {
   "cell_type": "code",
   "execution_count": null,
   "metadata": {},
   "outputs": [],
   "source": [
    "df = pd.DataFrame([['kim',90,80],['lee',80,70]], columns=['n','k','e'])\n",
    "df = df.set_index(['k','e'])\n",
    "\n",
    "df4 = df.reset_index(level = 1)\n",
    "df5 = df.reset_index(level = 1, drop = True)\n",
    "disp('df', 'df4', 'df5')"
   ]
  },
  {
   "cell_type": "markdown",
   "metadata": {},
   "source": [
    "### [예제5] reindex() 동작"
   ]
  },
  {
   "cell_type": "code",
   "execution_count": null,
   "metadata": {},
   "outputs": [],
   "source": [
    "df = pd.read_csv('data/02_02_01.csv', index_col = 0)    \n",
    "df1 = df.reindex(['park', 'lew', 'kim'])\n",
    "disp('df', 'df1')"
   ]
  },
  {
   "cell_type": "code",
   "execution_count": null,
   "metadata": {},
   "outputs": [],
   "source": [
    "df = pd.read_csv('data/02_02_01.csv', index_col = 0)    \n",
    "df2 = df.reindex(index=['park', 'lew', 'kim'], fill_value=0) \n",
    "disp('df', 'df2')"
   ]
  },
  {
   "cell_type": "code",
   "execution_count": null,
   "metadata": {},
   "outputs": [],
   "source": [
    "df = pd.read_csv('data/02_02_01.csv', index_col = 0)    \n",
    "df3 = df.reindex(['kor', 'eng', 'mat'], axis=1)\n",
    "disp('df', 'df3')"
   ]
  },
  {
   "cell_type": "code",
   "execution_count": null,
   "metadata": {},
   "outputs": [],
   "source": [
    "df = pd.read_csv('data/02_02_01.csv', index_col = 0)    \n",
    "df4 = df.reindex(index=['park', 'lew', 'kim'], columns=['eng', 'mat'])\n",
    "disp('df', 'df4')"
   ]
  },
  {
   "cell_type": "markdown",
   "metadata": {},
   "source": [
    "### [예제6] reindex() 활용"
   ]
  },
  {
   "cell_type": "code",
   "execution_count": null,
   "metadata": {},
   "outputs": [],
   "source": [
    "df = pd.read_csv('data/02_02_02.csv')    \n",
    "df\n",
    "df.dtypes\n",
    "\n",
    "df1 = df.set_index('id')\n",
    "df1 = df1.reindex(pd.RangeIndex(190101,190203))\n",
    "df1"
   ]
  },
  {
   "cell_type": "code",
   "execution_count": null,
   "metadata": {
    "scrolled": true
   },
   "outputs": [],
   "source": [
    "df = pd.read_csv('data/02_02_02.csv')  \n",
    "df2 = df.set_index('birth').rename(index=np.datetime64)\n",
    "df3 = df2.reindex(pd.date_range('2002-10-01', '2002-10-31', freq='7D'), fill_value=0)\n",
    "disp('df', 'df2', 'df3')"
   ]
  },
  {
   "cell_type": "markdown",
   "metadata": {},
   "source": [
    "### [예제7] sort_index(), sort_value() 동작"
   ]
  },
  {
   "cell_type": "code",
   "execution_count": null,
   "metadata": {},
   "outputs": [],
   "source": [
    "df = pd.read_csv('data/02_02_02.csv', index_col = 1) \n",
    "df.index = ['kim', 'lee', np.nan, 'song', 'moon']\n",
    "df1 = df.sort_index()\n",
    "disp('df', 'df1')"
   ]
  },
  {
   "cell_type": "code",
   "execution_count": null,
   "metadata": {},
   "outputs": [],
   "source": [
    "df = pd.read_csv('data/02_02_02.csv', index_col = 1) \n",
    "df.index = ['kim', 'lee', np.nan, 'song', 'moon']\n",
    "df2 = df.sort_index(axis=1, ascending=False)\n",
    "disp('df', 'df2')"
   ]
  },
  {
   "cell_type": "code",
   "execution_count": null,
   "metadata": {},
   "outputs": [],
   "source": [
    "df = pd.read_csv('data/02_02_02.csv', index_col = 1) \n",
    "df.index = ['kim', 'lee', np.nan, 'song', 'moon']\n",
    "df3 = df.sort_index(na_position='first')\n",
    "disp('df', 'df3')"
   ]
  },
  {
   "cell_type": "code",
   "execution_count": null,
   "metadata": {},
   "outputs": [],
   "source": [
    "df = pd.read_csv('data/02_02_02.csv', index_col = 1) \n",
    "df4 = df.sort_values(by = 'id', ascending=False)  \n",
    "disp('df', 'df4')"
   ]
  },
  {
   "cell_type": "code",
   "execution_count": null,
   "metadata": {},
   "outputs": [],
   "source": [
    "df = pd.read_csv('data/02_02_02.csv', index_col = 1) \n",
    "df5 = df.sort_values(['class', 'age'])\n",
    "disp('df', 'df5')"
   ]
  },
  {
   "cell_type": "code",
   "execution_count": null,
   "metadata": {},
   "outputs": [],
   "source": [
    "df = pd.read_csv('data/02_02_02.csv', index_col = 1) \n",
    "df6 = df.sort_values(['class', 'age'], ascending=[True,False])\n",
    "disp('df', 'df6')"
   ]
  },
  {
   "cell_type": "code",
   "execution_count": null,
   "metadata": {},
   "outputs": [],
   "source": [
    "df = pd.read_csv('data/02_02_02.csv', index_col = 1) \n",
    "#df7 = df.sort_values('park', axis = 1) #error\n",
    "df8 = df.loc[:, 'age':'weight'].sort_values('park', axis = 1)\n",
    "disp('df', 'df8')"
   ]
  },
  {
   "cell_type": "markdown",
   "metadata": {},
   "source": [
    "### [예제8]  df.T attrribute의 동작"
   ]
  },
  {
   "cell_type": "code",
   "execution_count": null,
   "metadata": {
    "scrolled": true
   },
   "outputs": [],
   "source": [
    "df = pd.read_csv('data/02_02_02.csv', index_col = 1) \n",
    "df\n",
    "\n",
    "df1 = df.T\n",
    "df2 = df.T.sort_index(axis=1)\n",
    "df1\n",
    "df2"
   ]
  }
 ],
 "metadata": {
  "colab": {
   "collapsed_sections": [
    "X9j6NHSVvIB7"
   ],
   "name": "DF_basic_Indexing_kim.ipynb",
   "provenance": []
  },
  "kernelspec": {
   "display_name": "Python 3",
   "language": "python",
   "name": "python3"
  },
  "language_info": {
   "codemirror_mode": {
    "name": "ipython",
    "version": 3
   },
   "file_extension": ".py",
   "mimetype": "text/x-python",
   "name": "python",
   "nbconvert_exporter": "python",
   "pygments_lexer": "ipython3",
   "version": "3.7.6"
  },
  "toc": {
   "base_numbering": 1,
   "nav_menu": {},
   "number_sections": true,
   "sideBar": true,
   "skip_h1_title": false,
   "title_cell": "Table of Contents",
   "title_sidebar": "Contents",
   "toc_cell": false,
   "toc_position": {
    "height": "calc(100% - 180px)",
    "left": "10px",
    "top": "150px",
    "width": "171.275px"
   },
   "toc_section_display": true,
   "toc_window_display": true
  }
 },
 "nbformat": 4,
 "nbformat_minor": 1
}
