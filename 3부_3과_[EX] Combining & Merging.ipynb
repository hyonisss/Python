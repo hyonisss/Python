{
 "cells": [
  {
   "cell_type": "code",
   "execution_count": null,
   "metadata": {
    "scrolled": true
   },
   "outputs": [],
   "source": [
    "from IPython.core.interactiveshell import InteractiveShell\n",
    "InteractiveShell.ast_node_interactivity = \"all\"\n",
    "\n",
    "class disp(object):\n",
    "    template = '<div style=\"float: left;padding:10px;\"> <b>[{0}]</b> {1}</div>'\n",
    "    def __init__(self, *args):\n",
    "        self.args = args\n",
    "        \n",
    "    def _repr_html_(self):\n",
    "        return '\\n'.join(self.template.format(a, eval(a)._repr_html_())\n",
    "                         for a in self.args)\n",
    "\n",
    "import pandas as pd    "
   ]
  },
  {
   "cell_type": "markdown",
   "metadata": {},
   "source": [
    "### [예제1] append() 메서드의 이해"
   ]
  },
  {
   "cell_type": "code",
   "execution_count": null,
   "metadata": {},
   "outputs": [],
   "source": [
    "df1 = pd.DataFrame({'X':list('ABC'), 'Y':[10, 20, 30]})\n",
    "df2 = pd.DataFrame({'X':list('DE'), 'Y':[40, 50]})\n",
    "df3 = pd.DataFrame({'X':list('FG'), 'Y':[60, 70]})\n",
    "df4 = pd.DataFrame({'X':list('DEF'), 'Z':[100,200,300]})"
   ]
  },
  {
   "cell_type": "code",
   "execution_count": null,
   "metadata": {},
   "outputs": [],
   "source": [
    "r1 = df1.append(df2)\n",
    "disp('df1', 'df2', 'r1')"
   ]
  },
  {
   "cell_type": "code",
   "execution_count": null,
   "metadata": {},
   "outputs": [],
   "source": [
    "r2 = df1.append([df2, df3])\n",
    "disp('df1', 'df2', 'df3', 'r2')"
   ]
  },
  {
   "cell_type": "code",
   "execution_count": null,
   "metadata": {},
   "outputs": [],
   "source": [
    "r3 = df1.append([df2.loc[1], df3.loc[1]])\n",
    "disp('df1', 'df2', 'df3', 'r3')"
   ]
  },
  {
   "cell_type": "code",
   "execution_count": null,
   "metadata": {},
   "outputs": [],
   "source": [
    "r4 = df1.append(df4)\n",
    "r5 = df1.append(df4, verify_integrity=True) #error\n",
    "disp('df1', 'df4', 'r4')"
   ]
  },
  {
   "cell_type": "markdown",
   "metadata": {},
   "source": [
    "### [예제2] append() 메서드의 이해2"
   ]
  },
  {
   "cell_type": "code",
   "execution_count": null,
   "metadata": {},
   "outputs": [],
   "source": [
    "df1 = pd.DataFrame({'Y':[10, 20, 30], 'X':list('ABC')}, index=[1,2,3])\n",
    "df2 = pd.DataFrame({'X':list('DE'), 'Z':[100,200]}, index=[1,2])"
   ]
  },
  {
   "cell_type": "code",
   "execution_count": null,
   "metadata": {},
   "outputs": [],
   "source": [
    "# [1-1]\n",
    "\n",
    "r1 = df1.append(df2, ignore_index=True)\n",
    "disp('df1', 'df2', 'r1')"
   ]
  },
  {
   "cell_type": "code",
   "execution_count": null,
   "metadata": {},
   "outputs": [],
   "source": [
    "# [1-2]\n",
    "\n",
    "r2 = df1.append(df2, sort=True)\n",
    "disp('df1', 'df2', 'r2')"
   ]
  },
  {
   "cell_type": "code",
   "execution_count": null,
   "metadata": {},
   "outputs": [],
   "source": [
    "# [1-3]\n",
    "\n",
    "r3 = df2.append({'X':'F', 'Z':300}, ignore_index=True)\n",
    "disp('df1', 'df2', 'r3')"
   ]
  },
  {
   "cell_type": "code",
   "execution_count": null,
   "metadata": {},
   "outputs": [],
   "source": [
    "# [2]\n",
    "\n",
    "r4 = df1['X'].append(df2['Z'])\n",
    "r5 = df1.loc[1].append(df2.loc[2]) #?\n",
    "\n",
    "r4; r5"
   ]
  },
  {
   "cell_type": "markdown",
   "metadata": {},
   "source": [
    "### [예제3] concat() 함수"
   ]
  },
  {
   "cell_type": "code",
   "execution_count": null,
   "metadata": {
    "scrolled": false
   },
   "outputs": [],
   "source": [
    "df1 = pd.DataFrame({'exam':[80,50]}, index=['kim','lee'])\n",
    "df2 = pd.DataFrame({'hw':['Y','N']}, index=['lee','kim'])\n",
    "disp('df1', 'df2')\n",
    "\n",
    "r1 = pd.concat([df1['exam'], df2['hw']])\n",
    "r2 = pd.concat([df1['exam'], df2['hw']], axis=1)\n",
    "r3 = pd.concat([df1['exam'],df2['hw']],axis=1,keys=['EX','HW'])\n",
    "r4 = pd.concat([df1, df2['hw']], axis=1)\n",
    "r1; disp('r2', 'r3', 'r4')"
   ]
  },
  {
   "cell_type": "markdown",
   "metadata": {},
   "source": [
    "### [예제4] concat() 메서드의 이해"
   ]
  },
  {
   "cell_type": "code",
   "execution_count": null,
   "metadata": {},
   "outputs": [],
   "source": [
    "df1 = pd.DataFrame({'X':list('ABC'), 'Y':[10, 20, 30] }, index=[1,2,3])\n",
    "df2 = pd.DataFrame({'X':list('DEF'), 'Z':[100,200,300]}, index=[1,3,4])"
   ]
  },
  {
   "cell_type": "code",
   "execution_count": null,
   "metadata": {
    "scrolled": false
   },
   "outputs": [],
   "source": [
    "# [1]\n",
    "\n",
    "r1 = pd.concat([df1, df2], axis=1)\n",
    "r2 = pd.concat([df1, df2])\n",
    "disp('df1', 'df2', 'r1', 'r2')"
   ]
  },
  {
   "cell_type": "code",
   "execution_count": null,
   "metadata": {},
   "outputs": [],
   "source": [
    "# [2]\n",
    "\n",
    "r3 = pd.concat([df1, df2], axis=1, join='inner')\n",
    "r4 = pd.concat([df1, df2],join='inner',keys=['DF1','DF2'])\n",
    "disp('df1', 'df2', 'r3', 'r4')"
   ]
  },
  {
   "cell_type": "markdown",
   "metadata": {},
   "source": [
    "### [예제5] join()  메서드의 이해"
   ]
  },
  {
   "cell_type": "code",
   "execution_count": null,
   "metadata": {},
   "outputs": [],
   "source": [
    "L = pd.DataFrame({'X':list('AB'), 'Y':[10, 20] }, index=[1,2])\n",
    "R = pd.DataFrame({'X':list('CD'), 'Z':[100,200]}, index=[2,3])\n",
    "\n",
    "r1 = L.join(R) # error\n",
    "r2 = L.join(R, lsuffix='_L', rsuffix='_R')\n",
    "r3 = L.join(R, lsuffix='_L', how='right')\n",
    "\n",
    "disp('L', 'R', 'r2', 'r3')"
   ]
  },
  {
   "cell_type": "markdown",
   "metadata": {},
   "source": [
    "### [예제6] join() : how와 on 옵션 이해"
   ]
  },
  {
   "cell_type": "code",
   "execution_count": null,
   "metadata": {},
   "outputs": [],
   "source": [
    "L = pd.DataFrame({'X':list('AB'), 'Y':[10, 20] }).set_index('X')\n",
    "R = pd.DataFrame({'X':list('BC'), 'Z':[200,300]}).set_index('X')"
   ]
  },
  {
   "cell_type": "code",
   "execution_count": null,
   "metadata": {},
   "outputs": [],
   "source": [
    "# [1]\n",
    "\n",
    "r1 = L.join(R, how='inner')\n",
    "r2 = L.join(R, how='outer')\n",
    "\n",
    "disp('L', 'R','r1', 'r2')"
   ]
  },
  {
   "cell_type": "code",
   "execution_count": null,
   "metadata": {},
   "outputs": [],
   "source": [
    "# [2]\n",
    "\n",
    "L2 = L.reset_index()\n",
    "r3 = L2.join(R, how='outer') #?\n",
    "r4 = L2.join(R, on='X', how='outer')\n",
    "r5 = L2.join(R, on='X', how='inner')\n",
    "\n",
    "disp('L2', 'R', 'r3'); disp('r4', 'r5')"
   ]
  },
  {
   "cell_type": "markdown",
   "metadata": {},
   "source": [
    "### [예제7] merge() 함수의 이해 1"
   ]
  },
  {
   "cell_type": "code",
   "execution_count": null,
   "metadata": {
    "scrolled": true
   },
   "outputs": [],
   "source": [
    "L = pd.DataFrame({'name':['kim','lee','park'],'id':[100,101,102],'exam':[70,80,90]})\n",
    "R = pd.DataFrame({'name':['kim','lee','park'],'id':[100,201,102],'hw':['Y','N','N']})\n",
    "disp('L', 'R')"
   ]
  },
  {
   "cell_type": "code",
   "execution_count": null,
   "metadata": {},
   "outputs": [],
   "source": [
    "# [1-1]\n",
    "\n",
    "r1 = pd.merge(L, R)\n",
    "r2 = L.merge(R)\n",
    "r3 = L.merge(R, on=['name', 'id'])\n",
    "r4 = L.merge(R, on='id')\n",
    "disp('L', 'R'); disp('r1', 'r2', 'r3')"
   ]
  },
  {
   "cell_type": "code",
   "execution_count": null,
   "metadata": {
    "scrolled": false
   },
   "outputs": [],
   "source": [
    "# [1-2]\n",
    "\n",
    "r4 = L.merge(R, on='id')\n",
    "disp('L', 'R', 'r4')"
   ]
  },
  {
   "cell_type": "code",
   "execution_count": null,
   "metadata": {},
   "outputs": [],
   "source": [
    "# [2]\n",
    "\n",
    "r5 = L.merge(R, how='left')\n",
    "r6 = L.merge(R, how='right')\n",
    "r7 = L.merge(R, how='outer')\n",
    "disp('L', 'R'); disp('r5', 'r6', 'r7')"
   ]
  },
  {
   "cell_type": "markdown",
   "metadata": {},
   "source": [
    "### [예제8] merge() 함수의 이해 2"
   ]
  },
  {
   "cell_type": "code",
   "execution_count": null,
   "metadata": {},
   "outputs": [],
   "source": [
    "L = pd.DataFrame({'id':[100,101,102],'name':['kim','lee','park']})\n",
    "R = pd.DataFrame({'exam':[70,80,90], 'id':[100,201,102]}).set_index('id')\n",
    "disp('L', 'R')"
   ]
  },
  {
   "cell_type": "code",
   "execution_count": null,
   "metadata": {},
   "outputs": [],
   "source": [
    "# [1]\n",
    "\n",
    "r1=pd.merge(L,R,left_on='id', right_index=True)\n",
    "r2=pd.merge(L,R,left_on='id', right_index=True,how='left')\n",
    "r3=pd.merge(L,R,left_on='id', right_index=True,how='right')\n",
    "r4=pd.merge(L,R,left_on='id', right_index=True,how='outer')    \n",
    "disp('L', 'R'); disp('r1','r2', 'r3', 'r4')"
   ]
  },
  {
   "cell_type": "code",
   "execution_count": null,
   "metadata": {
    "scrolled": true
   },
   "outputs": [],
   "source": [
    "# [2]\n",
    "\n",
    "r5 = L.join(R, on='id')\n",
    "dic = {'exam':0, 'name':'-'}\n",
    "r6 = L.join(R, on='id', how='outer').reset_index(drop=True).fillna(dic)\n",
    "\n",
    "disp('L', 'R', 'r5', 'r6')"
   ]
  },
  {
   "cell_type": "markdown",
   "metadata": {},
   "source": [
    "### [예제9]  merge()함수에서 다 대일, 다 대다 관계 이해"
   ]
  },
  {
   "cell_type": "code",
   "execution_count": null,
   "metadata": {},
   "outputs": [],
   "source": [
    "L = pd.DataFrame({'id':[100,101,102],'name':['kim','lee','park']})\n",
    "R = pd.DataFrame({'id':[100,100,102],'subject':['kor','eng','kor']})\n",
    "L2 = pd.DataFrame({'id':[100,100,102],'subject':['kor','eng','kor']})\n",
    "R2 = pd.DataFrame({'id':[100,100,102],'exam':['mid','final','mid'],\n",
    "                   'pct':[0.4,0.6,1]})\n",
    "disp('L', 'R', 'L2', 'R2')"
   ]
  },
  {
   "cell_type": "code",
   "execution_count": null,
   "metadata": {},
   "outputs": [],
   "source": [
    "# [1]\n",
    "\n",
    "r1 = pd.merge(L, R)\n",
    "disp('L', 'R', 'r1')"
   ]
  },
  {
   "cell_type": "code",
   "execution_count": null,
   "metadata": {
    "scrolled": true
   },
   "outputs": [],
   "source": [
    "# [2]\n",
    "\n",
    "r2 = pd.merge(L2, R2)\n",
    "disp('L2', 'R2', 'r2')"
   ]
  },
  {
   "cell_type": "markdown",
   "metadata": {},
   "source": [
    "### [예제10] merge() 활용 예"
   ]
  },
  {
   "cell_type": "code",
   "execution_count": null,
   "metadata": {},
   "outputs": [],
   "source": [
    "# 학생별 시험 치룬 과목과 점수 DF\n",
    "d1 = {'id':[100,100,300],'code':['C1','C2','C2'],'score':[100,80,60]}\n",
    "df1 = pd.DataFrame(d1)\n",
    "\n",
    "# 학생 정보 DF\n",
    "i1 = {'id':[100,200,300], 'names':['kim', 'lee', 'park']}\n",
    "in1 = pd.DataFrame(i1)\n",
    "\n",
    "# 과목 정보 DF\n",
    "i2 = {'code':['C1', 'C2','C3'],'subject':['kor', 'eng', 'math']}\n",
    "in2 = pd.DataFrame(i2)\n",
    "\n",
    "# 학생별 과제 제출한 과목과 일자 DF\n",
    "d2 = {'id':[100,200,300], 'code':['C1','C1','C2'],'hw_date':['05-01','05-03','05-05']}\n",
    "df2 = pd.DataFrame(d2)"
   ]
  },
  {
   "cell_type": "code",
   "execution_count": null,
   "metadata": {},
   "outputs": [],
   "source": [
    "# [1]\n",
    "\n",
    "exam_df = df1.merge(in1).merge(in2)\n",
    "disp('df1', 'in1', 'in2'); exam_df"
   ]
  },
  {
   "cell_type": "code",
   "execution_count": null,
   "metadata": {},
   "outputs": [],
   "source": [
    "# [2]\n",
    "\n",
    "hw_df = df1.merge(df2, how='right')\n",
    "disp('df1', 'df4', 'hw_df')"
   ]
  }
 ],
 "metadata": {
  "kernelspec": {
   "display_name": "Python 3",
   "language": "python",
   "name": "python3"
  },
  "language_info": {
   "codemirror_mode": {
    "name": "ipython",
    "version": 3
   },
   "file_extension": ".py",
   "mimetype": "text/x-python",
   "name": "python",
   "nbconvert_exporter": "python",
   "pygments_lexer": "ipython3",
   "version": "3.8.3"
  }
 },
 "nbformat": 4,
 "nbformat_minor": 2
}
