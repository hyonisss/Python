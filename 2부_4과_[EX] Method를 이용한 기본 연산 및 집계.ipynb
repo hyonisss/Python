{
 "cells": [
  {
   "cell_type": "code",
   "execution_count": null,
   "metadata": {},
   "outputs": [],
   "source": [
    "from IPython.core.interactiveshell import InteractiveShell\n",
    "InteractiveShell.ast_node_interactivity = \"all\"\n",
    "\n",
    "def prt(*pVPK) :\n",
    "    print(*pVPK, sep = '\\n\\n', end = '\\n\\n')\n",
    "    \n",
    "import numpy as np\n",
    "import pandas as pd    "
   ]
  },
  {
   "cell_type": "markdown",
   "metadata": {},
   "source": [
    "### [예제1] 차원 유지 기본 이항 연산 메서드"
   ]
  },
  {
   "cell_type": "code",
   "execution_count": null,
   "metadata": {},
   "outputs": [],
   "source": [
    "import pandas as pd\n",
    "import numpy as np\n",
    "\n",
    "a = np.arange(12).reshape(4,3)\n",
    "df = pd.DataFrame(a, index=list('ABCD'), columns=list('XYZ'))\n",
    "df['X']['A'] = np.nan\n",
    "df\n",
    "\n",
    "df1 = df.add(1)\n",
    "df1"
   ]
  },
  {
   "cell_type": "code",
   "execution_count": null,
   "metadata": {},
   "outputs": [],
   "source": [
    "import pandas as pd\n",
    "import numpy as np\n",
    "\n",
    "a = np.arange(12).reshape(4,3)\n",
    "df = pd.DataFrame(a, index=list('ABCD'), columns=list('XYZ'))\n",
    "df['X']['A'] = np.nan\n",
    "df\n",
    "\n",
    "df2 = df.pow([2,3,4])\n",
    "df2 = pow(df, [2,3,4])\n",
    "df2 = pd.DataFrame.__pow__(df, [2,3,4])\n",
    "df2"
   ]
  },
  {
   "cell_type": "code",
   "execution_count": null,
   "metadata": {},
   "outputs": [],
   "source": [
    "import pandas as pd\n",
    "import numpy as np\n",
    "\n",
    "a = np.arange(12).reshape(4,3)\n",
    "df = pd.DataFrame(a, index=list('ABCD'), columns=list('XYZ'))\n",
    "df['X']['A'] = np.nan\n",
    "df\n",
    "\n",
    "df3 = df.mul([-1,-2,-3,-4], axis = 0, fill_value = 10)\n",
    "df3"
   ]
  },
  {
   "cell_type": "code",
   "execution_count": null,
   "metadata": {},
   "outputs": [],
   "source": [
    "import pandas as pd\n",
    "import numpy as np\n",
    "\n",
    "a = np.arange(12).reshape(4,3)\n",
    "df = pd.DataFrame(a, index=list('ABCD'), columns=list('XYZ'))\n",
    "sr = pd.Series(1, index=list('WXY'))\n",
    "df['X']['A'] = np.nan\n",
    "df; sr\n",
    "\n",
    "df4 = df.sub(sr)\n",
    "df5 = df - sr #축지정 불가\n",
    "df4; df5"
   ]
  },
  {
   "cell_type": "code",
   "execution_count": null,
   "metadata": {},
   "outputs": [],
   "source": [
    "import pandas as pd\n",
    "import numpy as np\n",
    "\n",
    "a = np.arange(12).reshape(4,3)\n",
    "df = pd.DataFrame(a, index=list('ABCD'), columns=list('XYZ'))\n",
    "df0 = pd.DataFrame(7, index=list('CDE'), columns=list('WXY'))\n",
    "df['X']['A'] = np.nan\n",
    "df; df0\n",
    "\n",
    "df6 = df.lt(df0)\n",
    "df7 = df < df0 #Error\n",
    "df6"
   ]
  },
  {
   "cell_type": "markdown",
   "metadata": {},
   "source": [
    "### [예제2] 차원 유지 기본 연산 메서드"
   ]
  },
  {
   "cell_type": "code",
   "execution_count": null,
   "metadata": {},
   "outputs": [],
   "source": [
    "import pandas as pd\n",
    "\n",
    "df = pd.DataFrame([[-1.11,-2.22],[3.33,4.44],[-5.54,6.65]])\n",
    "df\n",
    "\n",
    "df1 = df.round(1).abs()\n",
    "df1"
   ]
  },
  {
   "cell_type": "code",
   "execution_count": null,
   "metadata": {},
   "outputs": [],
   "source": [
    "import pandas as pd\n",
    "\n",
    "df = pd.DataFrame([[-1.11,-2.22],[3.33,4.44],[-5.54,6.65]])\n",
    "df\n",
    "\n",
    "df2 = df.clip(-1,4)\n",
    "df2"
   ]
  },
  {
   "cell_type": "code",
   "execution_count": null,
   "metadata": {},
   "outputs": [],
   "source": [
    "import pandas as pd\n",
    "\n",
    "df = pd.DataFrame([[-1.11,-2.22],[3.33,4.44],[-5.54,6.65]])\n",
    "df\n",
    "\n",
    "df3 = df.cummax()\n",
    "df3"
   ]
  },
  {
   "cell_type": "code",
   "execution_count": null,
   "metadata": {},
   "outputs": [],
   "source": [
    "import pandas as pd\n",
    "\n",
    "df = pd.DataFrame([[-1.11,-2.22],[3.33,4.44],[-5.54,6.65]])\n",
    "df\n",
    "\n",
    "df4 = df.cumsum(axis = 1)\n",
    "df5 = df.cumsum()\n",
    "df4; df5"
   ]
  },
  {
   "cell_type": "code",
   "execution_count": null,
   "metadata": {},
   "outputs": [],
   "source": [
    "import pandas as pd\n",
    "\n",
    "s = pd.Series([90,91,90,100])\n",
    "s\n",
    "\n",
    "s1 = s.diff()\n",
    "s2 = s.diff(periods = 2)\n",
    "s1; s2"
   ]
  },
  {
   "cell_type": "code",
   "execution_count": null,
   "metadata": {},
   "outputs": [],
   "source": [
    "import pandas as pd\n",
    "\n",
    "s = pd.Series([90,91,90,100])\n",
    "s\n",
    "\n",
    "s3 = s.pct_change()\n",
    "s3"
   ]
  },
  {
   "cell_type": "code",
   "execution_count": null,
   "metadata": {},
   "outputs": [],
   "source": [
    "import pandas as pd\n",
    "\n",
    "s = pd.Series([90,91,90,100])\n",
    "s\n",
    "\n",
    "s4 = s.between(91, 100)\n",
    "s5 = s.between(90, 100, inclusive = False)\n",
    "s4; s5"
   ]
  },
  {
   "cell_type": "markdown",
   "metadata": {},
   "source": [
    "### [예제3] 이항 연산자를 사용한 연산"
   ]
  },
  {
   "cell_type": "code",
   "execution_count": null,
   "metadata": {},
   "outputs": [],
   "source": [
    "import pandas as pd\n",
    "\n",
    "df = pd.read_csv('data/02_04_01.csv', index_col = 0)\n",
    "df\n",
    "\n",
    "df['kor'] = df['kor'] + 5\n",
    "df['sum'] = df['kor'] + df['eng'] + df['mat']"
   ]
  },
  {
   "cell_type": "code",
   "execution_count": null,
   "metadata": {},
   "outputs": [],
   "source": [
    "import pandas as pd\n",
    "\n",
    "df = pd.read_csv('data/02_04_01.csv', index_col = 0)\n",
    "df\n",
    "\n",
    "df1 = df.loc[:,'kor':'mat'] * [0.9, 0.95, 1]\n",
    "df1"
   ]
  },
  {
   "cell_type": "markdown",
   "metadata": {},
   "source": [
    "### [예제4] Pandas 연산 vs. Numpy 연산"
   ]
  },
  {
   "cell_type": "code",
   "execution_count": null,
   "metadata": {
    "scrolled": true
   },
   "outputs": [],
   "source": [
    "import pandas as pd\n",
    "\n",
    "s1 = pd.Series(range(100)).repeat(10)\n",
    "s2 = pd.Series(range(100)).repeat(10)\n",
    "\n",
    "%timeit s1.add(s2)\n",
    "%timeit s1 + s2\n",
    "%timeit s1.values + s2.values"
   ]
  },
  {
   "cell_type": "markdown",
   "metadata": {},
   "source": [
    "### [예제5] 차원 축소 기본 집계 메서드"
   ]
  },
  {
   "cell_type": "code",
   "execution_count": null,
   "metadata": {},
   "outputs": [],
   "source": [
    "import pandas as pd\n",
    "import numpy as np\n",
    "\n",
    "df = pd.read_csv('data/02_04_01.csv', index_col = 0)\n",
    "df.loc['kim','kor'] = np.nan\n",
    "df\n",
    "\n",
    "r1 = df.sum()\n",
    "r1"
   ]
  },
  {
   "cell_type": "code",
   "execution_count": null,
   "metadata": {},
   "outputs": [],
   "source": [
    "import pandas as pd\n",
    "import numpy as np\n",
    "\n",
    "df = pd.read_csv('data/02_04_01.csv', index_col = 0)\n",
    "df.loc['kim','kor'] = np.nan\n",
    "df\n",
    "\n",
    "r2 = df.nunique()\n",
    "r2"
   ]
  },
  {
   "cell_type": "code",
   "execution_count": null,
   "metadata": {},
   "outputs": [],
   "source": [
    "import pandas as pd\n",
    "import numpy as np\n",
    "\n",
    "df = pd.read_csv('data/02_04_01.csv', index_col = 0)\n",
    "df.loc['kim','kor'] = np.nan\n",
    "df\n",
    "\n",
    "r3 = df.count(numeric_only=True, axis=1)\n",
    "r4 = df.size\n",
    "r3; r4"
   ]
  },
  {
   "cell_type": "code",
   "execution_count": null,
   "metadata": {},
   "outputs": [],
   "source": [
    "import pandas as pd\n",
    "import numpy as np\n",
    "\n",
    "df = pd.read_csv('data/02_04_01.csv', index_col = 0)\n",
    "df.loc['kim','kor'] = np.nan\n",
    "df\n",
    "\n",
    "r5 = df.max(axis=1)\n",
    "r5"
   ]
  },
  {
   "cell_type": "code",
   "execution_count": null,
   "metadata": {},
   "outputs": [],
   "source": [
    "import pandas as pd\n",
    "import numpy as np\n",
    "\n",
    "df = pd.read_csv('data/02_04_01.csv', index_col = 0)\n",
    "df.loc['kim','kor'] = np.nan\n",
    "df\n",
    "\n",
    "r6 = df.median()\n",
    "r6"
   ]
  },
  {
   "cell_type": "code",
   "execution_count": null,
   "metadata": {},
   "outputs": [],
   "source": [
    "import pandas as pd\n",
    "import numpy as np\n",
    "\n",
    "df = pd.read_csv('data/02_04_01.csv', index_col = 0)\n",
    "df.loc['kim','kor'] = np.nan\n",
    "df\n",
    "\n",
    "r7 = df.mean().round(1)\n",
    "r7"
   ]
  },
  {
   "cell_type": "code",
   "execution_count": null,
   "metadata": {},
   "outputs": [],
   "source": [
    "import pandas as pd\n",
    "import numpy as np\n",
    "\n",
    "df = pd.read_csv('data/02_04_01.csv', index_col = 0)\n",
    "df.loc['kim','kor'] = np.nan\n",
    "df\n",
    "\n",
    "r8 = df.prod()\n",
    "r8"
   ]
  },
  {
   "cell_type": "code",
   "execution_count": null,
   "metadata": {},
   "outputs": [],
   "source": [
    "import pandas as pd\n",
    "import numpy as np\n",
    "\n",
    "df = pd.read_csv('data/02_04_01.csv', index_col = 0)\n",
    "df.loc['kim','kor'] = np.nan\n",
    "df\n",
    "\n",
    "r9 = df.loc[:,'kor':'mat'].idxmax(axis=1)\n",
    "r9"
   ]
  },
  {
   "cell_type": "code",
   "execution_count": null,
   "metadata": {},
   "outputs": [],
   "source": [
    "import pandas as pd\n",
    "import numpy as np\n",
    "\n",
    "df = pd.read_csv('data/02_04_01.csv', index_col = 0)\n",
    "df.loc['kim','kor'] = np.nan\n",
    "df\n",
    "\n",
    "r10 = df['kor'].idxmin()\n",
    "r10"
   ]
  },
  {
   "cell_type": "markdown",
   "metadata": {},
   "source": [
    "### [예제6] 기본 집계 메서드 활용 예"
   ]
  },
  {
   "cell_type": "code",
   "execution_count": null,
   "metadata": {},
   "outputs": [],
   "source": [
    "import pandas as pd\n",
    "\n",
    "df = pd.read_csv('data/02_04_01.csv', index_col = 0)\n",
    "df.drop('mat', axis = 1, inplace= True)\n",
    "df.drop(['park','ki','song'], inplace= True)\n",
    "df\n",
    "\n",
    "r1 = df.select_dtypes(exclude=object).gt(80).all(axis=1)\n",
    "r2 = df.select_dtypes(exclude=object).lt(80).any(axis=1)\n",
    "r1; r2"
   ]
  },
  {
   "cell_type": "code",
   "execution_count": null,
   "metadata": {
    "scrolled": true
   },
   "outputs": [],
   "source": [
    "import pandas as pd\n",
    "import numpy as np\n",
    "\n",
    "df = pd.read_csv('data/02_04_01.csv', index_col = 0)\n",
    "df.drop('mat', axis = 1, inplace= True)\n",
    "df.drop(['park','ki','song'], inplace= True)\n",
    "df\n",
    "\n",
    "df['tot'] = df.sum(axis=1)\n",
    "df['avg'] = df.mean(axis=1).round()\n",
    "\n",
    "df.loc['tot2'] = df.sum(numeric_only=True)\n",
    "df.loc['avg2'] = df.iloc[:2, 1:].mean().round()\n",
    "df.loc['max2'] = df.select_dtypes(include=np.number).loc[:'lee'].max()\n",
    "df"
   ]
  },
  {
   "cell_type": "markdown",
   "metadata": {},
   "source": [
    "### [예제7] unique() 이해 "
   ]
  },
  {
   "cell_type": "code",
   "execution_count": null,
   "metadata": {},
   "outputs": [],
   "source": [
    "import pandas as pd\n",
    "\n",
    "s = pd.Series([90,91,90,100], index = ['A','A','C','D'])\n",
    "s\n",
    "\n",
    "r1 = s.unique()\n",
    "r2 = s.index.unique()\n",
    "r1; r2"
   ]
  },
  {
   "cell_type": "markdown",
   "metadata": {},
   "source": [
    "### [예제8] rank() 이해"
   ]
  },
  {
   "cell_type": "code",
   "execution_count": null,
   "metadata": {},
   "outputs": [],
   "source": [
    "import pandas as pd\n",
    "\n",
    "s = pd.Series([90,95,90,90,100], index=list('ABCDE'))\n",
    "s\n",
    "\n",
    "r1 = s.rank() #average\n",
    "r1"
   ]
  },
  {
   "cell_type": "code",
   "execution_count": null,
   "metadata": {},
   "outputs": [],
   "source": [
    "import pandas as pd\n",
    "\n",
    "s = pd.Series([90,95,90,90,100], index=list('ABCDE'))\n",
    "s\n",
    "\n",
    "r2 = s.rank(pct=True)\n",
    "r2"
   ]
  },
  {
   "cell_type": "code",
   "execution_count": null,
   "metadata": {},
   "outputs": [],
   "source": [
    "import pandas as pd\n",
    "\n",
    "s = pd.Series([90,95,90,90,100], index=list('ABCDE'))\n",
    "s\n",
    "\n",
    "r3 = s.rank(method='min')\n",
    "r3"
   ]
  },
  {
   "cell_type": "code",
   "execution_count": null,
   "metadata": {},
   "outputs": [],
   "source": [
    "import pandas as pd\n",
    "\n",
    "s = pd.Series([90,95,90,90,100], index=list('ABCDE'))\n",
    "s\n",
    "\n",
    "r4 = s.rank(method='max', ascending=False)\n",
    "r4"
   ]
  },
  {
   "cell_type": "code",
   "execution_count": null,
   "metadata": {},
   "outputs": [],
   "source": [
    "import pandas as pd\n",
    "\n",
    "s = pd.Series([90,95,90,90,100], index=list('ABCDE'))\n",
    "s\n",
    "\n",
    "r5 = s.rank(method='first')\n",
    "r5"
   ]
  },
  {
   "cell_type": "code",
   "execution_count": null,
   "metadata": {},
   "outputs": [],
   "source": [
    "import pandas as pd\n",
    "\n",
    "s = pd.Series([90,95,90,90,100], index=list('ABCDE'))\n",
    "s\n",
    "\n",
    "r6 = s.rank(method='dense')\n",
    "r6"
   ]
  },
  {
   "cell_type": "code",
   "execution_count": null,
   "metadata": {},
   "outputs": [],
   "source": [
    "import pandas as pd\n",
    "\n",
    "df = pd.read_csv('data/02_04_01.csv', index_col = 0, nrows=3)\n",
    "df\n",
    "\n",
    "df1 = df.rank(method='first', axis=1, numeric_only=True)\n",
    "df1"
   ]
  },
  {
   "cell_type": "markdown",
   "metadata": {},
   "source": [
    "### [예제9] describe() 동작"
   ]
  },
  {
   "cell_type": "code",
   "execution_count": null,
   "metadata": {},
   "outputs": [],
   "source": [
    "import pandas as pd\n",
    "\n",
    "df = pd.read_csv('data/02_04_01.csv', index_col = 0)\n",
    "df\n",
    "\n",
    "r1 = df.describe()\n",
    "r1"
   ]
  },
  {
   "cell_type": "code",
   "execution_count": null,
   "metadata": {},
   "outputs": [],
   "source": [
    "import pandas as pd\n",
    "\n",
    "df = pd.read_csv('data/02_04_01.csv', index_col = 0)\n",
    "df\n",
    "\n",
    "r2 = df['kor'].describe()\n",
    "r2"
   ]
  },
  {
   "cell_type": "code",
   "execution_count": null,
   "metadata": {},
   "outputs": [],
   "source": [
    "import pandas as pd\n",
    "import numpy as np\n",
    "\n",
    "df = pd.read_csv('data/02_04_01.csv', index_col = 0)\n",
    "df\n",
    "\n",
    "r3 = df.describe(include=[np.object])\n",
    "r3"
   ]
  },
  {
   "cell_type": "code",
   "execution_count": null,
   "metadata": {},
   "outputs": [],
   "source": [
    "import pandas as pd\n",
    "\n",
    "df = pd.read_csv('data/02_04_01.csv', index_col = 0)\n",
    "df\n",
    "\n",
    "r4 = df['kor'].describe([.2, .4, .6])\n",
    "r4"
   ]
  },
  {
   "cell_type": "markdown",
   "metadata": {},
   "source": [
    "### [예제10] value_counts() 동작"
   ]
  },
  {
   "cell_type": "code",
   "execution_count": null,
   "metadata": {},
   "outputs": [],
   "source": [
    "import pandas as pd\n",
    "\n",
    "sr = pd.Series([60,70,60,50,60,90,50])\n",
    "sr\n",
    "\n",
    "r1 = sr.value_counts(ascending=True)\n",
    "r1"
   ]
  },
  {
   "cell_type": "code",
   "execution_count": null,
   "metadata": {},
   "outputs": [],
   "source": [
    "import pandas as pd\n",
    "\n",
    "sr = pd.Series([60,70,60,50,60,90,50])\n",
    "sr\n",
    "\n",
    "r2 = sr.value_counts(normalize=True)\n",
    "r2"
   ]
  },
  {
   "cell_type": "code",
   "execution_count": null,
   "metadata": {},
   "outputs": [],
   "source": [
    "import pandas as pd\n",
    "\n",
    "sr = pd.Series([60,70,60,50,60,90,50])\n",
    "sr\n",
    "\n",
    "r3 = sr.value_counts(sort=False)\n",
    "r3"
   ]
  },
  {
   "cell_type": "code",
   "execution_count": null,
   "metadata": {},
   "outputs": [],
   "source": [
    "import pandas as pd\n",
    "\n",
    "sr = pd.Series([60,70,60,50,60,90,50])\n",
    "sr\n",
    "\n",
    "r4 = sr.value_counts(bins=3)\n",
    "r4"
   ]
  },
  {
   "cell_type": "code",
   "execution_count": null,
   "metadata": {},
   "outputs": [],
   "source": [
    "import pandas as pd\n",
    "\n",
    "sr = pd.Series([60,70,60,50,60,90,50])\n",
    "sr\n",
    "\n",
    "r5 = sr.value_counts().sort_index()\n",
    "r5"
   ]
  }
 ],
 "metadata": {
  "kernelspec": {
   "display_name": "Python 3",
   "language": "python",
   "name": "python3"
  },
  "language_info": {
   "codemirror_mode": {
    "name": "ipython",
    "version": 3
   },
   "file_extension": ".py",
   "mimetype": "text/x-python",
   "name": "python",
   "nbconvert_exporter": "python",
   "pygments_lexer": "ipython3",
   "version": "3.8.3"
  }
 },
 "nbformat": 4,
 "nbformat_minor": 2
}
