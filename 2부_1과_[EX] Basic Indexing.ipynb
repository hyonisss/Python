{
 "cells": [
  {
   "cell_type": "code",
   "execution_count": null,
   "metadata": {},
   "outputs": [],
   "source": [
    "from IPython.core.interactiveshell import InteractiveShell\n",
    "InteractiveShell.ast_node_interactivity = \"all\"\n",
    "\n",
    "def prt(*pVPK) :\n",
    "    print(*pVPK, sep = '\\n\\n', end = '\\n\\n')"
   ]
  },
  {
   "cell_type": "markdown",
   "metadata": {},
   "source": [
    "### [예제1] [] 연산 indexing:  DataFrame"
   ]
  },
  {
   "cell_type": "code",
   "execution_count": null,
   "metadata": {},
   "outputs": [],
   "source": [
    "import pandas as pd\n",
    "import numpy as np\n",
    "\n",
    "a = np.arange(12).reshape(4,3)\n",
    "df = pd.DataFrame(a, index=list('ABCD'), columns=list('XYZ'))\n",
    "df\n",
    "\n",
    "s1 = df['X']\n",
    "prt(type(s1))\n",
    "s1"
   ]
  },
  {
   "cell_type": "code",
   "execution_count": null,
   "metadata": {},
   "outputs": [],
   "source": [
    "import pandas as pd\n",
    "import numpy as np\n",
    "\n",
    "a = np.arange(12).reshape(4,3)\n",
    "df = pd.DataFrame(a, index=list('ABCD'), columns=list('XYZ'))\n",
    "df\n",
    "\n",
    "d1 = df[['X']]\n",
    "prt(type(d1))\n",
    "d1\n",
    "\n",
    "d2 = df[['X','Y']]\n",
    "d2"
   ]
  },
  {
   "cell_type": "code",
   "execution_count": null,
   "metadata": {},
   "outputs": [],
   "source": [
    "import pandas as pd\n",
    "import numpy as np\n",
    "\n",
    "a = np.arange(12).reshape(4,3)\n",
    "df = pd.DataFrame(a, index=list('ABCD'), columns=list('XYZ'))\n",
    "df\n",
    "\n",
    "d3 = df['C':'D']\n",
    "d4 = df[2:4]\n",
    "d5 = df[2:]\n",
    "d3; d4; d5"
   ]
  },
  {
   "cell_type": "code",
   "execution_count": null,
   "metadata": {},
   "outputs": [],
   "source": [
    "import pandas as pd\n",
    "import numpy as np\n",
    "\n",
    "a = np.arange(12).reshape(4,3)\n",
    "df = pd.DataFrame(a, index=list('ABCD'), columns=list('XYZ'))\n",
    "df\n",
    "\n",
    "d6 = df['A':'D':2]\n",
    "d7 = df[0:4:2]\n",
    "d8 = df[::-2]\n",
    "d6; d7; d8"
   ]
  },
  {
   "cell_type": "markdown",
   "metadata": {},
   "source": [
    "### [예제2] [] 연산 indexing:  Series"
   ]
  },
  {
   "cell_type": "code",
   "execution_count": null,
   "metadata": {},
   "outputs": [],
   "source": [
    "import pandas as pd\n",
    "import numpy as np\n",
    "\n",
    "sr = pd.Series([10,20,30,40], index=list('ABCD'))\n",
    "sr\n",
    "\n",
    "r1 = sr['A']\n",
    "r2 = sr[['C', 'A']]\n",
    "r3 = sr['A':'D':2]\n",
    "r4 = sr[1:3]\n",
    "r5 = sr[::-2]\n",
    "r1; r2; r3; r4; r5"
   ]
  },
  {
   "cell_type": "markdown",
   "metadata": {},
   "source": [
    "### [예제3] [] 연산 indexing: 숫자형 label"
   ]
  },
  {
   "cell_type": "code",
   "execution_count": null,
   "metadata": {},
   "outputs": [],
   "source": [
    "import pandas as pd\n",
    "import numpy as np\n",
    "\n",
    "a = np.arange(12).reshape(4,3)\n",
    "df = pd.DataFrame(a, index=range(1,5), columns=range(6,9))\n",
    "df\n",
    "\n",
    "s1 = df[0] #error\n",
    "s2 = df['6'] #error\n",
    "s3 = df[6]\n",
    "d1 = df[[8, 6]]\n",
    "s3; d1"
   ]
  },
  {
   "cell_type": "code",
   "execution_count": null,
   "metadata": {},
   "outputs": [],
   "source": [
    "import pandas as pd\n",
    "import numpy as np\n",
    "\n",
    "a = np.arange(12).reshape(4,3)\n",
    "df = pd.DataFrame(a, index=range(1,5), columns=range(6,9))\n",
    "df\n",
    "\n",
    "d2 = df[1:3]\n",
    "d3 = df[0:2]\n",
    "d4 = df[::-1] \n",
    "d2; d3; d4"
   ]
  },
  {
   "cell_type": "code",
   "execution_count": null,
   "metadata": {},
   "outputs": [],
   "source": [
    "import pandas as pd\n",
    "import numpy as np\n",
    "\n",
    "a = np.arange(12).reshape(4,3)\n",
    "df = pd.DataFrame(a, index=range(1,5), columns=range(6,9))\n",
    "df\n",
    "\n",
    "r1 = df[6][1]\n",
    "r2 = df[6][1:3]\n",
    "r3 = df[6][0:3]\n",
    "r1; r2; r3"
   ]
  },
  {
   "cell_type": "markdown",
   "metadata": {},
   "source": [
    "### [예제4] .loc과 .iloc을 이용한 indexing"
   ]
  },
  {
   "cell_type": "code",
   "execution_count": null,
   "metadata": {},
   "outputs": [],
   "source": [
    "import pandas as pd\n",
    "import numpy as np\n",
    "\n",
    "a = np.arange(12).reshape(4,3)\n",
    "df = pd.DataFrame(a, index=list('ABCD'), columns=list('XYZ'))\n",
    "df\n",
    "\n",
    "r1 = df.loc['A']\n",
    "r2 = df.loc[['A','C'],:]\n",
    "r3 = df.loc['A':'D':2,:]\n",
    "r1; r2; r3"
   ]
  },
  {
   "cell_type": "code",
   "execution_count": null,
   "metadata": {},
   "outputs": [],
   "source": [
    "import pandas as pd\n",
    "import numpy as np\n",
    "\n",
    "a = np.arange(12).reshape(4,3)\n",
    "df = pd.DataFrame(a, index=list('ABCD'), columns=list('XYZ'))\n",
    "df\n",
    "\n",
    "r4 = df.loc[:,'X']\n",
    "r5 = df.loc[:,['X','Z']]\n",
    "r6 = df.loc[:,'X':'Z':2]\n",
    "r4; r5; r6"
   ]
  },
  {
   "cell_type": "code",
   "execution_count": null,
   "metadata": {},
   "outputs": [],
   "source": [
    "import pandas as pd\n",
    "import numpy as np\n",
    "\n",
    "a = np.arange(12).reshape(4,3)\n",
    "df = pd.DataFrame(a, index=list('ABCD'), columns=list('XYZ'))\n",
    "df\n",
    "\n",
    "r7 = df.loc['B','Y']\n",
    "r8 = df.loc[['A','C'], 'X']\n",
    "r9 = df.loc['A':'D':2, ['X','Z']]\n",
    "r7; r8; r9"
   ]
  },
  {
   "cell_type": "code",
   "execution_count": null,
   "metadata": {},
   "outputs": [],
   "source": [
    "import pandas as pd\n",
    "import numpy as np\n",
    "\n",
    "a = np.arange(12).reshape(4,3)\n",
    "df = pd.DataFrame(a, index=list('ABCD'), columns=list('XYZ'))\n",
    "df\n",
    "\n",
    "r1 = df.iloc[0]\n",
    "r2 = df.iloc[[0,2],:]\n",
    "r3 = df.iloc[0::2,:]\n",
    "r1; r2; r3"
   ]
  },
  {
   "cell_type": "code",
   "execution_count": null,
   "metadata": {},
   "outputs": [],
   "source": [
    "import pandas as pd\n",
    "import numpy as np\n",
    "\n",
    "a = np.arange(12).reshape(4,3)\n",
    "df = pd.DataFrame(a, index=list('ABCD'), columns=list('XYZ'))\n",
    "df\n",
    "\n",
    "r4 = df.iloc[:,0]\n",
    "r5 = df.iloc[:,[0,2]]\n",
    "r6 = df.iloc[:,0:3:2]\n",
    "r4; r5; r6"
   ]
  },
  {
   "cell_type": "code",
   "execution_count": null,
   "metadata": {},
   "outputs": [],
   "source": [
    "import pandas as pd\n",
    "import numpy as np\n",
    "\n",
    "a = np.arange(12).reshape(4,3)\n",
    "df = pd.DataFrame(a, index=list('ABCD'), columns=list('XYZ'))\n",
    "df\n",
    "\n",
    "r7 = df.iloc[1,1]\n",
    "r8 = df.iloc[[0,2], 0]\n",
    "r9 = df.iloc[0:3:2, [0,2]]\n",
    "r7; r8; r9"
   ]
  },
  {
   "cell_type": "markdown",
   "metadata": {},
   "source": [
    "### [예제5] .at, .iat에 의한 indexing"
   ]
  },
  {
   "cell_type": "code",
   "execution_count": null,
   "metadata": {},
   "outputs": [],
   "source": [
    "import pandas as pd\n",
    "import numpy as np\n",
    "\n",
    "a = np.arange(12).reshape(4,3)\n",
    "df = pd.DataFrame(a, index=list('ABCD'), columns=list('XYZ'))\n",
    "df\n",
    "\n",
    "v1 = df.at['A', 'Y']\n",
    "v2 = df.loc['A'].at['Y']\n",
    "v3 = df['Y'].at['A']\n",
    "v1; v2; v3"
   ]
  },
  {
   "cell_type": "code",
   "execution_count": null,
   "metadata": {},
   "outputs": [],
   "source": [
    "import pandas as pd\n",
    "import numpy as np\n",
    "\n",
    "a = np.arange(12).reshape(4,3)\n",
    "df = pd.DataFrame(a, index=list('ABCD'), columns=list('XYZ'))\n",
    "df\n",
    "\n",
    "v4 = df.iat[0, 1]\n",
    "v5 = df.loc['A'].iat[1]\n",
    "v6 = df['Y'].iat[0]\n",
    "v4; v5; v6"
   ]
  },
  {
   "cell_type": "markdown",
   "metadata": {},
   "source": [
    "### [예제6] .연산을 이용한 indexing"
   ]
  },
  {
   "cell_type": "code",
   "execution_count": null,
   "metadata": {},
   "outputs": [],
   "source": [
    "import pandas as pd\n",
    "import numpy as np\n",
    "\n",
    "cl = ['index','price','class']\n",
    "rl = ['1st','lambda','three','4']\n",
    "df = pd.DataFrame(np.arange(4*3).reshape(4,3), columns=cl, index=rl)\n",
    "df\n",
    "\n",
    "prt(df.price)\n",
    "prt(df.index)\n",
    "prt(df.class) #error\n",
    "prt(df['class'])\n",
    "\n",
    "prt(df.price.three)\n",
    "prt(df.price.1st) #error\n",
    "prt(df.price.lambda) #error"
   ]
  },
  {
   "cell_type": "markdown",
   "metadata": {},
   "source": [
    "### [예제7] Indexing에 의한 value 편집"
   ]
  },
  {
   "cell_type": "code",
   "execution_count": null,
   "metadata": {},
   "outputs": [],
   "source": [
    "import pandas as pd\n",
    "import numpy as np\n",
    "\n",
    "a = np.arange(6).reshape(2,3)\n",
    "df = pd.DataFrame(a, index=list('AB'), columns=list('XYZ'))\n",
    "df\n",
    "\n",
    "df.X.A = 100\n",
    "df['Y']['B'] = 200 \n",
    "df.at['B', 'Z'] = 300\n",
    "df"
   ]
  },
  {
   "cell_type": "code",
   "execution_count": null,
   "metadata": {},
   "outputs": [],
   "source": [
    "import pandas as pd\n",
    "import numpy as np\n",
    "\n",
    "a = np.arange(6).reshape(2,3)\n",
    "df = pd.DataFrame(a, index=list('AB'), columns=list('XYZ'))\n",
    "df\n",
    "\n",
    "df.loc['A','X'] = -1\n",
    "df.iloc[1,2] = -2\n",
    "df"
   ]
  },
  {
   "cell_type": "code",
   "execution_count": null,
   "metadata": {},
   "outputs": [],
   "source": [
    "import pandas as pd\n",
    "import numpy as np\n",
    "\n",
    "a = np.arange(6).reshape(2,3)\n",
    "df = pd.DataFrame(a, index=list('AB'), columns=list('XYZ'))\n",
    "df\n",
    "\n",
    "df.loc['A','V'] = -1\n",
    "df.loc['C','A'] = -2\n",
    "df.loc['D','W'] = -3\n",
    "df.dtypes\n",
    "df"
   ]
  },
  {
   "cell_type": "markdown",
   "metadata": {},
   "source": [
    "### [예제8] Indexing에 의한 Series 편집"
   ]
  },
  {
   "cell_type": "code",
   "execution_count": null,
   "metadata": {},
   "outputs": [],
   "source": [
    "import pandas as pd\n",
    "import numpy as np\n",
    "\n",
    "a = np.arange(6).reshape(2,3)\n",
    "df = pd.DataFrame(a, index=list('AB'), columns=list('XYZ'))\n",
    "df\n",
    "\n",
    "df['X'] = -1\n",
    "df.iloc[0] = -2\n",
    "df.loc[:, 'Y'] = df['Z'] + 1\n",
    "df"
   ]
  },
  {
   "cell_type": "code",
   "execution_count": null,
   "metadata": {},
   "outputs": [],
   "source": [
    "import pandas as pd\n",
    "import numpy as np\n",
    "\n",
    "a = np.arange(6).reshape(2,3)\n",
    "df = pd.DataFrame(a, index=list('AB'), columns=list('XYZ'))\n",
    "df\n",
    "\n",
    "df.loc['A'] = ['@', 90, 80]\n",
    "df['Z'] = pd.Series([-10,-20])\n",
    "df"
   ]
  },
  {
   "cell_type": "code",
   "execution_count": null,
   "metadata": {},
   "outputs": [],
   "source": [
    "import pandas as pd\n",
    "import numpy as np\n",
    "\n",
    "a = np.arange(6).reshape(2,3)\n",
    "df = pd.DataFrame(a, index=list('AB'), columns=list('XYZ'))\n",
    "df\n",
    "\n",
    "df['X'] = pd.Series([-10,-20], index=['A','B'])\n",
    "df['Z'] = pd.Series([-30,-40], index=['A','C'])\n",
    "df"
   ]
  },
  {
   "cell_type": "code",
   "execution_count": null,
   "metadata": {},
   "outputs": [],
   "source": [
    "import pandas as pd\n",
    "import numpy as np\n",
    "\n",
    "df = pd.DataFrame([[0,1,2],[3,4,5]], index=list('AB'), columns=list('XYZ'))\n",
    "df\n",
    "\n",
    "df['X2'] = df['X']\n",
    "df['X'] = -1\n",
    "df"
   ]
  },
  {
   "cell_type": "code",
   "execution_count": null,
   "metadata": {},
   "outputs": [],
   "source": [
    "import pandas as pd\n",
    "import numpy as np\n",
    "\n",
    "df = pd.DataFrame([[0,1,2],[3,4,5]], index=list('AB'), columns=list('XYZ'))\n",
    "df\n",
    "\n",
    "back = df['Z']\n",
    "df['Z'] = 0\n",
    "df['Z2'] = back\n",
    "df"
   ]
  },
  {
   "cell_type": "code",
   "execution_count": null,
   "metadata": {
    "scrolled": true
   },
   "outputs": [],
   "source": [
    "import pandas as pd\n",
    "import numpy as np\n",
    "\n",
    "df = pd.DataFrame([[0,1,2],[3,4,5]], index=list('AB'), columns=list('XYZ'))\n",
    "df\n",
    "\n",
    "back = df['Z'].copy()\n",
    "df['Z'] = 0\n",
    "df['Z2'] = back\n",
    "df"
   ]
  },
  {
   "cell_type": "markdown",
   "metadata": {},
   "source": [
    "### [예제9] Indexing에 의한 DataFrame 편집"
   ]
  },
  {
   "cell_type": "code",
   "execution_count": null,
   "metadata": {},
   "outputs": [],
   "source": [
    "import pandas as pd\n",
    "import numpy as np\n",
    "\n",
    "df = pd.DataFrame([[0,1,2],[3,4,5]], index=list('AB'), columns=list('XYZ'))\n",
    "df\n",
    "\n",
    "df.loc[:, 'X':'Y'] = 0\n",
    "df"
   ]
  },
  {
   "cell_type": "code",
   "execution_count": null,
   "metadata": {},
   "outputs": [],
   "source": [
    "import pandas as pd\n",
    "import numpy as np\n",
    "\n",
    "df = pd.DataFrame([[0,1,2],[3,4,5]], index=list('AB'), columns=list('XYZ'))\n",
    "df\n",
    "\n",
    "df[['X','Z']] = [-1,-2]\n",
    "df"
   ]
  },
  {
   "cell_type": "code",
   "execution_count": null,
   "metadata": {},
   "outputs": [],
   "source": [
    "import pandas as pd\n",
    "import numpy as np\n",
    "\n",
    "df = pd.DataFrame([[0,1,2],[3,4,5]], index=list('AB'), columns=list('XYZ'))\n",
    "df\n",
    "\n",
    "df.loc[:, 'Z':'Y':-1] = (('a', -1),('b', -2))\n",
    "df"
   ]
  },
  {
   "cell_type": "code",
   "execution_count": null,
   "metadata": {},
   "outputs": [],
   "source": [
    "import pandas as pd\n",
    "import numpy as np\n",
    "\n",
    "df = pd.DataFrame([[0,1,2],[3,4,5]], index=list('AB'), columns=list('XYZ'))\n",
    "df\n",
    "\n",
    "df[['Y','Z']] = df[['X','Y']] + 0.1\n",
    "df"
   ]
  },
  {
   "cell_type": "code",
   "execution_count": null,
   "metadata": {},
   "outputs": [],
   "source": [
    "import pandas as pd\n",
    "import numpy as np\n",
    "\n",
    "df = pd.DataFrame([[0,1,2],[3,4,5]], index=list('AB'), columns=list('XYZ'))\n",
    "df\n",
    "\n",
    "df1 = pd.DataFrame([[-1,-1,-2],[-3,-4,-5]], index=list('BC'), columns=list('WXY'))\n",
    "df1\n",
    "\n",
    "df.loc[:,:] = df1\n",
    "df"
   ]
  }
 ],
 "metadata": {
  "kernelspec": {
   "display_name": "Python 3",
   "language": "python",
   "name": "python3"
  },
  "language_info": {
   "codemirror_mode": {
    "name": "ipython",
    "version": 3
   },
   "file_extension": ".py",
   "mimetype": "text/x-python",
   "name": "python",
   "nbconvert_exporter": "python",
   "pygments_lexer": "ipython3",
   "version": "3.8.3"
  }
 },
 "nbformat": 4,
 "nbformat_minor": 2
}
