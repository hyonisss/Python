{
 "cells": [
  {
   "cell_type": "code",
   "execution_count": null,
   "metadata": {},
   "outputs": [],
   "source": [
    "from IPython.core.interactiveshell import InteractiveShell\n",
    "InteractiveShell.ast_node_interactivity = \"all\"\n",
    "\n",
    "# html을 이용하여 가로방향으로 여러 DF을 인쇄\n",
    "class disp(object):\n",
    "    template = '<div style=\"float: left;padding:10px;\"> <b>[{0}]</b> {1}</div>'\n",
    "    def __init__(self, *args):\n",
    "        self.args = args\n",
    "        \n",
    "    def _repr_html_(self):\n",
    "        return '\\n'.join(self.template.format(a, eval(a)._repr_html_())\n",
    "                         for a in self.args)\n",
    "\n",
    "import pandas as pd\n",
    "import numpy as np"
   ]
  },
  {
   "cell_type": "markdown",
   "metadata": {},
   "source": [
    "### [예제1] pivot() 함수"
   ]
  },
  {
   "cell_type": "code",
   "execution_count": null,
   "metadata": {},
   "outputs": [],
   "source": [
    "df = pd.DataFrame({'X':list('ABAB'), 'Y':list('TTFF'), 'Z':[10, 20, 30, 40] })\n",
    "r1 = df.pivot(index='X', columns='Y', values='Z')\n",
    "r2 = df.pivot(index='X', columns='Y')\n",
    "disp('df', 'r1', 'r2')"
   ]
  },
  {
   "cell_type": "markdown",
   "metadata": {},
   "source": [
    "### [예제2] melt() 함수"
   ]
  },
  {
   "cell_type": "code",
   "execution_count": null,
   "metadata": {
    "scrolled": false
   },
   "outputs": [],
   "source": [
    "df = pd.DataFrame({'X':list('AB'), 'T':[10,20], 'F':[30,40] })\n",
    "\n",
    "r=df.melt(id_vars='X',value_vars=['T','F'],var_name='Y',value_name='Z')  \n",
    "disp('df', 'r')"
   ]
  },
  {
   "cell_type": "markdown",
   "metadata": {},
   "source": [
    "### [예제3] melt()함수의 활용"
   ]
  },
  {
   "cell_type": "code",
   "execution_count": null,
   "metadata": {},
   "outputs": [],
   "source": [
    "df = pd.DataFrame({'names':['kim','park'],'grade':[1, 2],\n",
    "                   'kor': [91,81],'eng': [73,63]})\n",
    "df2 = pd.DataFrame([[90, 80,70,60],[65,75,85,95]])\n",
    "df2.columns = [['kor','kor','eng','eng'], ['mid','final','mid','final']]\n",
    "df2.insert(0,'names', ['kim','park'])\n",
    "\n",
    "disp('df', 'df2')"
   ]
  },
  {
   "cell_type": "code",
   "execution_count": null,
   "metadata": {
    "scrolled": true
   },
   "outputs": [],
   "source": [
    "# [1-1]\n",
    "\n",
    "r1 = df.melt(value_vars=['kor', 'eng'])\n",
    "disp('df', 'r1')"
   ]
  },
  {
   "cell_type": "code",
   "execution_count": null,
   "metadata": {},
   "outputs": [],
   "source": [
    "# [1-2]\n",
    "\n",
    "r2 = df.melt(id_vars=['names','grade'])\n",
    "disp('df', 'r2')"
   ]
  },
  {
   "cell_type": "code",
   "execution_count": null,
   "metadata": {
    "scrolled": true
   },
   "outputs": [],
   "source": [
    "# [2-1]\n",
    "\n",
    "r3 = df2.melt(id_vars='names', value_vars='kor')\n",
    "disp('df2', 'r3')"
   ]
  },
  {
   "cell_type": "code",
   "execution_count": null,
   "metadata": {},
   "outputs": [],
   "source": [
    "# [2-2]\n",
    "\n",
    "r4 = df2.melt(col_level=1, value_vars='kor')\n",
    "disp('df2', 'r4')"
   ]
  },
  {
   "cell_type": "markdown",
   "metadata": {},
   "source": [
    "### [예제4] stack(), unstack() 메서드"
   ]
  },
  {
   "cell_type": "code",
   "execution_count": null,
   "metadata": {
    "scrolled": true
   },
   "outputs": [],
   "source": [
    "import pandas as pd\n",
    "\n",
    "df = pd.DataFrame([[10,20,30,40],[50,60,70,80]], index=[1,2])\n",
    "df.columns =  [ list('AABB'), list('XYXY')]\n",
    "\n",
    "df2 = df.stack()\n",
    "df3 = df2.unstack()\n",
    "\n",
    "disp('df', 'df2', 'df3')"
   ]
  },
  {
   "cell_type": "markdown",
   "metadata": {},
   "source": [
    "### [예제5] stack(), unstack() 메서드의 이해"
   ]
  },
  {
   "cell_type": "code",
   "execution_count": null,
   "metadata": {},
   "outputs": [],
   "source": [
    "data = pd.DataFrame({'name':list('ABA'), 'sub':['eng','kor', 'kor'], \n",
    "                     'mid':[10, 20, 30], 'final':[40, 50,60] })\n",
    "df = data.pivot(index='name', columns='sub')\n",
    "df2 = df.stack()\n",
    "disp('df', 'df2')"
   ]
  },
  {
   "cell_type": "code",
   "execution_count": null,
   "metadata": {
    "scrolled": true
   },
   "outputs": [],
   "source": [
    "# [1-1]\n",
    "\n",
    "r1 = df.stack()\n",
    "r2 = df.stack('sub')\n",
    "r3 = df.stack(level=1)\n",
    "r4 = df.stack(1)\n",
    "disp('df', 'r1', 'r2');disp('r3', 'r4')"
   ]
  },
  {
   "cell_type": "code",
   "execution_count": null,
   "metadata": {},
   "outputs": [],
   "source": [
    "# [1-2]\n",
    "\n",
    "r5 = df.stack(level=[0,1])\n",
    "df; r5"
   ]
  },
  {
   "cell_type": "code",
   "execution_count": null,
   "metadata": {
    "scrolled": true
   },
   "outputs": [],
   "source": [
    "# [2-1]\n",
    "\n",
    "r6 = df2.unstack()\n",
    "r7 = df2.unstack(fill_value=0)\n",
    "disp('df2'); disp('r6', 'r7')"
   ]
  },
  {
   "cell_type": "code",
   "execution_count": null,
   "metadata": {},
   "outputs": [],
   "source": [
    "# [2-2]\n",
    "\n",
    "r8 = df2.unstack().mean(axis=1, level=1)\n",
    "disp('df2', 'r8')"
   ]
  },
  {
   "cell_type": "markdown",
   "metadata": {},
   "source": [
    "### [예제6] MultiIndex 객체"
   ]
  },
  {
   "cell_type": "code",
   "execution_count": null,
   "metadata": {
    "scrolled": true
   },
   "outputs": [],
   "source": [
    "data = pd.DataFrame({'class':list('ABA'), 'sub':['eng','kor', 'kor'], \n",
    "                     'mid':[10, 20, 30], 'final':[40, 50,60] })\n",
    "df = data.pivot(index='class', columns='sub')"
   ]
  },
  {
   "cell_type": "code",
   "execution_count": null,
   "metadata": {},
   "outputs": [],
   "source": [
    "#r1 = df['eng'] # error\n",
    "r2 = df[('mid', 'eng')]\n",
    "r3 = df['mid']\n",
    "df; r2; r3"
   ]
  },
  {
   "cell_type": "code",
   "execution_count": null,
   "metadata": {},
   "outputs": [],
   "source": [
    "print(df.columns)  "
   ]
  },
  {
   "cell_type": "markdown",
   "metadata": {},
   "source": [
    "### [예제7] xs() 메서드 : MultiIndex 객체 인덱싱"
   ]
  },
  {
   "cell_type": "code",
   "execution_count": null,
   "metadata": {},
   "outputs": [],
   "source": [
    "data = pd.DataFrame({'class':list('ABA'), 'sub':['eng','kor', 'kor'], \n",
    "                     'mid':[10, 20, 30], 'final':[40, 50,60] })\n",
    "df = data.pivot(index='class', columns='sub')\n",
    "df"
   ]
  },
  {
   "cell_type": "code",
   "execution_count": null,
   "metadata": {
    "scrolled": false
   },
   "outputs": [],
   "source": [
    "r1 = df.xs('kor', axis=1, level=1)\n",
    "r2 = df.xs('kor', axis=1, level='sub')\n",
    "r3 = df.xs('kor', axis=1, level=1, drop_level=False)\n",
    "disp('df','r1','r2','r3')"
   ]
  },
  {
   "cell_type": "code",
   "execution_count": null,
   "metadata": {},
   "outputs": [],
   "source": [
    "r4 = df.stack().loc['A'] # ?\n",
    "disp('df', 'df.stack()', 'r4')"
   ]
  },
  {
   "cell_type": "markdown",
   "metadata": {},
   "source": [
    "### [예제8] MultiIndex 활용"
   ]
  },
  {
   "cell_type": "code",
   "execution_count": null,
   "metadata": {},
   "outputs": [],
   "source": [
    "data = pd.DataFrame({'class':list('AABB'), 'subject':['kor','eng','kor','eng'], \n",
    "                     'mid':[50,60,70,90], 'final':[85,45,95,55] })\n",
    "df1 = data.pivot(index='class', columns='subject')\n",
    "df1.columns.names=['term', 'subject']\n",
    "df2 = df1.T\n",
    "disp('df1', 'df2')"
   ]
  },
  {
   "cell_type": "code",
   "execution_count": null,
   "metadata": {},
   "outputs": [],
   "source": [
    "# [1] \n",
    "\n",
    "r1 = df1.sum()\n",
    "r2 = df2.sum(axis=1)\n",
    "r3 = df1.sum(axis=1, level=1)\n",
    "r4 = df2.sum(level=0)\n",
    "\n",
    "r1;r2;r3;r4"
   ]
  },
  {
   "cell_type": "code",
   "execution_count": null,
   "metadata": {
    "scrolled": false
   },
   "outputs": [],
   "source": [
    "# [2-1]\n",
    "\n",
    "r5 = df1.mean(axis=1, level=0)\n",
    "r6 = df1 - r5\n",
    "disp('df1','r5', 'r6')"
   ]
  },
  {
   "cell_type": "code",
   "execution_count": null,
   "metadata": {},
   "outputs": [],
   "source": [
    "# [2-2]\n",
    "\n",
    "r5 = df1.mean(axis=1, level=1) #?\n",
    "r6 = df1 - r5\n",
    "disp('df1','r5', 'r6')"
   ]
  }
 ],
 "metadata": {
  "kernelspec": {
   "display_name": "Python 3",
   "language": "python",
   "name": "python3"
  },
  "language_info": {
   "codemirror_mode": {
    "name": "ipython",
    "version": 3
   },
   "file_extension": ".py",
   "mimetype": "text/x-python",
   "name": "python",
   "nbconvert_exporter": "python",
   "pygments_lexer": "ipython3",
   "version": "3.8.3"
  }
 },
 "nbformat": 4,
 "nbformat_minor": 4
}
