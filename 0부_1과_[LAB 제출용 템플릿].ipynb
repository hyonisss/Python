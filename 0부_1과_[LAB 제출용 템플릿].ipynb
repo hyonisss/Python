{
 "cells": [
  {
   "cell_type": "code",
   "execution_count": null,
   "metadata": {},
   "outputs": [],
   "source": [
    "from IPython.core.interactiveshell import InteractiveShell\n",
    "InteractiveShell.ast_node_interactivity = \"all\"\n",
    "\n",
    "# html을 이용하여 가로방향으로 여러 DF을 인쇄\n",
    "class disp(object):\n",
    "    template = '<div style=\"float: left;padding:10px;\"> <b>[{0}]</b> {1}</div>'\n",
    "    def __init__(self, *args):\n",
    "        self.args = args\n",
    "        \n",
    "    def _repr_html_(self):\n",
    "        return '\\n'.join(self.template.format(a, eval(a)._repr_html_())\n",
    "                         for a in self.args )"
   ]
  },
  {
   "cell_type": "markdown",
   "metadata": {},
   "source": [
    "##### codexpert의 코드를 복사한후 작성하고 제출하시오\n",
    "##### Kernel 메뉴에서 \"Restart & Clear Output\" 수행후 결과 확인 바람"
   ]
  },
  {
   "cell_type": "code",
   "execution_count": 15,
   "metadata": {
    "scrolled": true
   },
   "outputs": [
    {
     "name": "stdout",
     "output_type": "stream",
     "text": [
      "[1] 40\n",
      "[2] ['A' 'M' 60]\n",
      "[3] ['W' 'M' 'W' 'M' 'M']\n",
      "[4] [20 40 60]\n",
      "[5] ['B' 'W' 40]\n",
      "[6] [50 40]\n",
      "[7] [['B' 'M' 20]\n",
      " ['B' 'W' 40]\n",
      " ['A' 'M' 60]]\n",
      "[8] ['kim' 'park' 'moon']\n"
     ]
    }
   ],
   "source": [
    "\n",
    "import pandas as pd\n",
    "\n",
    "d = {'class':list('ABBAB'),'gender':list('WMWMM'),'age':[50,20,40,60,30]}\n",
    "df = pd.DataFrame(d, index = ['kim', 'lee', 'park', 'song', 'moon'])\n",
    "\n",
    "print('[1]', df.loc['park']['age']  )\n",
    "print('[2]', df.loc['song'].values)\n",
    "print('[3]',  df['gender'].values)\n",
    "print('[4]',df.iloc[1:4,2].values )\n",
    "print('[5]', df.loc['park'].values)\n",
    "print('[6]', df.iloc[[0,2],2].values)\n",
    "print('[7]', df.iloc[1:4].values)\n",
    "print('[8]', df.index.values[::2] )\n"
   ]
  },
  {
   "cell_type": "code",
   "execution_count": 23,
   "metadata": {},
   "outputs": [
    {
     "name": "stdout",
     "output_type": "stream",
     "text": [
      "      kor  eng  mat\n",
      "kim    90  100   90\n",
      "lee    90   80   90\n",
      "park   90   80   90\n"
     ]
    }
   ],
   "source": [
    "import pandas as pd\n",
    "\n",
    "i = ['kim','lee','park']\n",
    "c = ['kor','eng','mat']\n",
    "df = pd.DataFrame(0, columns=c, index=i)\n",
    "df.iat[0,1]=100\n",
    "df['kor']=90\n",
    "df.iloc[1:,1]=80\n",
    "df['mat']= df['kor']\n",
    "print(df)"
   ]
  },
  {
   "cell_type": "code",
   "execution_count": 48,
   "metadata": {
    "scrolled": false
   },
   "outputs": [
    {
     "name": "stdout",
     "output_type": "stream",
     "text": [
      "      kor  eng  mat  tot  avg\n",
      "kim    90   80   70  240   80\n",
      "lee    80  100   50  230   76\n",
      "park   70   90  100  260   86\n",
      "song   70   70   70  210   70\n"
     ]
    }
   ],
   "source": [
    "import pandas as pd\n",
    "\n",
    "i = ['kim','lee','park']\n",
    "c = ['kor','eng','mat']\n",
    "arr = [[90,80,70], [80,100,50],[70,90,100]]\n",
    "df = pd.DataFrame(arr, columns=c, index=i)\n",
    "\n",
    "# 코드 작성\n",
    "df.loc['song']=70\n",
    "df['tot']= df['kor']+df['mat']+df['eng']\n",
    "df['avg'] = df['tot']//3\n",
    "print(df)"
   ]
  },
  {
   "cell_type": "code",
   "execution_count": 62,
   "metadata": {},
   "outputs": [
    {
     "name": "stdout",
     "output_type": "stream",
     "text": [
      "      eng  mat\n",
      "kim    81   82\n",
      "park   91   92\n",
      "      eng  mat\n",
      "lee    50   40\n",
      "park   50   40\n",
      "kim    81   82\n"
     ]
    }
   ],
   "source": [
    "import pandas as pd\n",
    "import numpy as np\n",
    "\n",
    "l = [[81,82],[91,92]]\n",
    "sr= pd.Series([90,80,70], index=['park', 'kim', 'moon'])\n",
    "df1= pd.DataFrame({'eng':50, 'mat':40}, index=['lee','park'])\n",
    "d = pd.DataFrame(l, index=['kim','park'],columns=['eng','mat'])\n",
    "print(d)\n",
    "df1.loc['kim']=d.loc['kim']\n",
    "print(df1)"
   ]
  },
  {
   "cell_type": "code",
   "execution_count": 80,
   "metadata": {
    "scrolled": true
   },
   "outputs": [
    {
     "name": "stdout",
     "output_type": "stream",
     "text": [
      "object\n",
      "       MON  TUE  WED\n",
      "Day-0    1    2    3\n",
      "Day-1    4    5    6\n",
      "Day-2    7    8    9\n",
      "Day-3   10   11   12\n"
     ]
    }
   ],
   "source": [
    "import pandas as pd\n",
    "import numpy as np\n",
    "\n",
    "df = pd.DataFrame(np.arange(1,13).reshape(4,3), columns=list('ABC'))\n",
    "\n",
    "# 코드 작성\n",
    "\n",
    "df=df.rename({'A':'MON', 'B':'TUE', 'C':'WED'},axis=1)\n",
    "df=df.rename(lambda x: 'Day-'+str(x))\n",
    "print(df.index.dtype)\n",
    "print(df)"
   ]
  },
  {
   "cell_type": "code",
   "execution_count": 86,
   "metadata": {},
   "outputs": [
    {
     "name": "stdout",
     "output_type": "stream",
     "text": [
      "            year  day week\n",
      "year month                \n",
      "21   1        21   11   MO\n",
      "22   2        22   12   TU\n",
      "23   3        23   13   WE\n"
     ]
    }
   ],
   "source": [
    "import pandas as pd\n",
    "\n",
    "d = {'year':range(21,24),'month':range(1,4),'day':range(11,14),'week':['MO','TU','WE']}\n",
    "df = pd.DataFrame(d)\n",
    "\n",
    "# 코드 작성\n",
    "df1 = df.set_index('year', drop=False).set_index('month', append=True)\n",
    "print(df1)"
   ]
  },
  {
   "cell_type": "code",
   "execution_count": 90,
   "metadata": {
    "scrolled": true
   },
   "outputs": [
    {
     "name": "stdout",
     "output_type": "stream",
     "text": [
      "       day week\n",
      "month          \n",
      "1       11   MO\n",
      "2       12   TU\n",
      "3       13   WE\n"
     ]
    }
   ],
   "source": [
    "import pandas as pd\n",
    "\n",
    "d = {'year':range(21,24),'month':range(1,4),'day':range(11,14),'week':['MO','TU','WE']}\n",
    "df = pd.DataFrame(d).set_index(['year','month'], drop=True)\n",
    "\n",
    "# 코드 작성\n",
    "df1= df.reset_index('year', drop=True)\n",
    "\n",
    "print(df1)"
   ]
  },
  {
   "cell_type": "code",
   "execution_count": 118,
   "metadata": {},
   "outputs": [
    {
     "name": "stdout",
     "output_type": "stream",
     "text": [
      "datetime64[ns]\n",
      "            kim  park\n",
      "2020-01-01    5     5\n",
      "2020-01-02    0     0\n",
      "2020-01-03    5     5\n",
      "2020-01-04    0     0\n",
      "2020-01-05    5     5\n"
     ]
    }
   ],
   "source": [
    "import pandas as pd\n",
    "\n",
    "date = pd.DatetimeIndex(['2020-1-1','2020-1-3','2020-1-5'])\n",
    "df = pd.DataFrame(5, columns=['kim','park'], index = date)\n",
    "# 코드 작성\n",
    "df1=df.reindex(pd.date_range('2020-01-01','2020-01-05'),fill_value=0)\n",
    "print(df1.index.dtype, df1, sep = '\\n')"
   ]
  },
  {
   "cell_type": "code",
   "execution_count": 133,
   "metadata": {
    "scrolled": true
   },
   "outputs": [
    {
     "name": "stdout",
     "output_type": "stream",
     "text": [
      "     names class  score\n",
      "rank                   \n",
      "1      kim     A    100\n",
      "2     park     A    100\n",
      "3      lee     B     90\n",
      "4     song     C     90\n",
      "5     park     A     80\n",
      "6     song     B     70\n",
      "7      lee     B     60\n"
     ]
    }
   ],
   "source": [
    "import pandas as pd\n",
    "\n",
    "names = ['kim', 'lee', 'park', 'song', 'park', 'song', 'lee']\n",
    "score = [100,90,80,70,100,90,60]\n",
    "df = pd.DataFrame({'names':names, 'class':list('ABABACB'), 'score':score})\n",
    "\n",
    "# 코드 작성\n",
    "df1=df.sort_values(['score', 'names'], ascending=[False, True])\n",
    "df1=df1.set_index(pd.RangeIndex(1, len(df.index)+1, name='rank'))\n",
    "print(df1)"
   ]
  },
  {
   "cell_type": "code",
   "execution_count": 135,
   "metadata": {
    "scrolled": true
   },
   "outputs": [
    {
     "name": "stdout",
     "output_type": "stream",
     "text": [
      "       kor  eng   mat\n",
      "kim   80.0    0  82.0\n",
      "lee    0.0    0   0.0\n",
      "park  90.0    0  92.0\n"
     ]
    }
   ],
   "source": [
    "# [1]\n",
    "\n",
    "import pandas as pd\n",
    "\n",
    "df = pd.DataFrame(0, columns=['kor','eng','mat'], index=['kim','lee', 'park'])\n",
    "udf = pd.DataFrame({'kor':[90,80], 'mat':[92,82]}, index=['park', 'kim'])\n",
    "\n",
    "# 코드 작성\n",
    "df.update(udf)\n",
    "print(df)"
   ]
  },
  {
   "cell_type": "code",
   "execution_count": 139,
   "metadata": {
    "scrolled": true
   },
   "outputs": [
    {
     "name": "stdout",
     "output_type": "stream",
     "text": [
      "      grade  kor  eng  mat\n",
      "kim       1    0    0    0\n",
      "lee       1    0    0    0\n",
      "park      1    0    0    0\n"
     ]
    }
   ],
   "source": [
    "# [2]\n",
    "\n",
    "import pandas as pd\n",
    "\n",
    "df = pd.DataFrame(0, columns=['kor','eng','mat'], index=['kim','lee', 'park'])\n",
    "\n",
    "# 코드 작성\n",
    "df.insert(0,'grade',1)\n",
    "print(df)"
   ]
  },
  {
   "cell_type": "code",
   "execution_count": 145,
   "metadata": {
    "scrolled": true
   },
   "outputs": [
    {
     "name": "stdout",
     "output_type": "stream",
     "text": [
      "      kor  eng  mat\n",
      "kim    60   70   80\n",
      "lee    60   70   80\n",
      "park   60   70   80\n"
     ]
    }
   ],
   "source": [
    "# [3]\n",
    "\n",
    "import pandas as pd\n",
    "\n",
    "df = pd.DataFrame(0, columns=['kor','eng','mat'], index=['kim','lee', 'park'])\n",
    "\n",
    "df1 = df.assign(eng=70, kor=lambda x: x['eng']-10, mat=lambda x: x['eng']+10)\n",
    "\n",
    "print(df1)"
   ]
  },
  {
   "cell_type": "code",
   "execution_count": 165,
   "metadata": {},
   "outputs": [
    {
     "name": "stdout",
     "output_type": "stream",
     "text": [
      "  names  new_score\n",
      "0   kim         95\n",
      "3  song         65\n",
      "4  park         95\n",
      "5  song         85\n",
      "6   lee         55\n"
     ]
    }
   ],
   "source": [
    "import pandas as pd\n",
    "\n",
    "names = ['kim', 'lee', 'park', 'song', 'park', 'song', 'lee']\n",
    "score = [100,90,80,70,100,90,60]\n",
    "df = pd.DataFrame({'names':names, 'class':list('ABABACB'), 'score':score})\n",
    "# 코드 작성\n",
    "df1=df.drop_duplicates(subset=['names','class'], keep='last').drop('class',axis=1)\n",
    "df1=df1.assign(new_score = df1.pop('score')-5)\n",
    "print(df1)"
   ]
  },
  {
   "cell_type": "code",
   "execution_count": 166,
   "metadata": {},
   "outputs": [
    {
     "ename": "SyntaxError",
     "evalue": "invalid syntax (<ipython-input-166-8ccdf382b2d3>, line 9)",
     "output_type": "error",
     "traceback": [
      "\u001b[1;36m  File \u001b[1;32m\"<ipython-input-166-8ccdf382b2d3>\"\u001b[1;36m, line \u001b[1;32m9\u001b[0m\n\u001b[1;33m    df['sum'] = # 코드 구현\u001b[0m\n\u001b[1;37m                ^\u001b[0m\n\u001b[1;31mSyntaxError\u001b[0m\u001b[1;31m:\u001b[0m invalid syntax\n"
     ]
    }
   ],
   "source": [
    "import pandas as pd\n",
    "import numpy as np\n",
    "\n",
    "data = [[40,50,10],[np.nan,20,20],[30,40,10],[40,50,15],[15, np.nan, 10]]\n",
    "names = ['kim','lee','park','song','moon']\n",
    "df = pd.DataFrame(data, index=names, columns=['mid','final','hw'])\n",
    "df\n",
    "\n",
    "df['sum'] = # 코드 구현\n",
    "\n",
    "print(df)"
   ]
  }
 ],
 "metadata": {
  "kernelspec": {
   "display_name": "Python 3",
   "language": "python",
   "name": "python3"
  },
  "language_info": {
   "codemirror_mode": {
    "name": "ipython",
    "version": 3
   },
   "file_extension": ".py",
   "mimetype": "text/x-python",
   "name": "python",
   "nbconvert_exporter": "python",
   "pygments_lexer": "ipython3",
   "version": "3.8.3"
  }
 },
 "nbformat": 4,
 "nbformat_minor": 4
}
