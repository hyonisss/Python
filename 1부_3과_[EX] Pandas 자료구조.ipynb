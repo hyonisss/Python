{
 "cells": [
  {
   "cell_type": "code",
   "execution_count": null,
   "metadata": {
    "colab": {
     "base_uri": "https://localhost:8080/",
     "height": 126
    },
    "colab_type": "code",
    "id": "uuZd1bckq4GY",
    "outputId": "96f342f5-df26-41c4-c668-ddf2320b7020"
   },
   "outputs": [],
   "source": [
    "from IPython.core.interactiveshell import InteractiveShell\n",
    "InteractiveShell.ast_node_interactivity = \"all\"\n",
    "\n",
    "class disp(object):\n",
    "    template = '<div style=\"float: left;padding:10px;\"> <b>[{0}]</b> {1}</div>'\n",
    "    def __init__(self, *args):\n",
    "        self.args = args\n",
    "        \n",
    "    def _repr_html_(self):\n",
    "        return '\\n'.join( self.template.format(a, eval(a)._repr_html_()) \n",
    "                        for a in self.args)\n",
    "    \n",
    "def prt(*pVPK) :\n",
    "    print(*pVPK, sep = '\\n\\n', end = '\\n\\n')\n",
    "\n",
    "import pandas as pd\n",
    "import numpy as np  "
   ]
  },
  {
   "cell_type": "markdown",
   "metadata": {},
   "source": [
    "### [예제1] DataFrame의 구성 요소"
   ]
  },
  {
   "cell_type": "code",
   "execution_count": null,
   "metadata": {},
   "outputs": [],
   "source": [
    "# [1]\n",
    "\n",
    "df = pd.read_csv('data/01_03_01.csv')\n",
    "print(df.values)\n",
    "print(type(df.values))\n",
    "print(df.values.shape)\n",
    "print(df.values.dtype)"
   ]
  },
  {
   "cell_type": "code",
   "execution_count": null,
   "metadata": {},
   "outputs": [],
   "source": [
    "# [2]\n",
    "\n",
    "df = pd.read_csv('data/01_03_01.csv')\n",
    "print(df.index)\n",
    "print(type(df.index))\n",
    "print(df.index.dtype)\n",
    "print(df.index.name)\n",
    "print(df.index.values)\n",
    "print(type(df.index.values))    \n",
    "df"
   ]
  },
  {
   "cell_type": "code",
   "execution_count": null,
   "metadata": {},
   "outputs": [],
   "source": [
    "# [3]\n",
    "\n",
    "df = pd.read_csv('data/01_03_01.csv')\n",
    "print(df.columns)\n",
    "print(type(df.columns))\n",
    "print(df.columns.dtype)\n",
    "print(df.columns.name)\n",
    "print(df.columns.values)\n",
    "print(type(df.columns.values))\n",
    "df"
   ]
  },
  {
   "cell_type": "markdown",
   "metadata": {},
   "source": [
    "### [예제2] 파일에서 index를 지정하여 읽기"
   ]
  },
  {
   "cell_type": "code",
   "execution_count": null,
   "metadata": {},
   "outputs": [],
   "source": [
    "\n",
    "df = pd.read_csv('data/01_03_01.csv', skiprows=[0], index_col=1, header=None)\n",
    "print(df.index)\n",
    "print(type(df.index))\n",
    "print(df.index.dtype)\n",
    "print(df.columns)\n",
    "print(type(df.columns))\n",
    "print(df.columns.dtype)\n",
    "df"
   ]
  },
  {
   "cell_type": "markdown",
   "metadata": {},
   "source": [
    "### [예제3] Index 수정\n"
   ]
  },
  {
   "cell_type": "code",
   "execution_count": null,
   "metadata": {},
   "outputs": [],
   "source": [
    "df = pd.read_csv('data/01_03_01.csv')\n",
    "df\n",
    "df.index = ['A','B','C','D']\n",
    "df.index.name = 'XX'\n",
    "df.columns = ('가', '나', '다')\n",
    "df.columns.name = 'YY'\n",
    "df"
   ]
  },
  {
   "cell_type": "markdown",
   "metadata": {},
   "source": [
    "### [예제4] Column Series 객체"
   ]
  },
  {
   "cell_type": "code",
   "execution_count": null,
   "metadata": {},
   "outputs": [],
   "source": [
    "# [1]\n",
    "\n",
    "df = pd.read_csv('data/01_03_01.csv')\n",
    "sr = df['names']\n",
    "print(type(sr))\n",
    "print(sr.name)\n",
    "print(sr.index)\n",
    "print(sr.values)\n",
    "sr; df"
   ]
  },
  {
   "cell_type": "code",
   "execution_count": null,
   "metadata": {
    "scrolled": true
   },
   "outputs": [],
   "source": [
    "# [2]\n",
    "\n",
    "df = pd.read_csv('data/01_03_01.csv')\n",
    "sr = df['names']\n",
    "print(type(sr.index))\n",
    "print(sr.index.values)\n",
    "print(type(sr.values))\n",
    "print(sr.values.dtype)\n",
    "sr;df"
   ]
  },
  {
   "cell_type": "code",
   "execution_count": null,
   "metadata": {},
   "outputs": [],
   "source": [
    "# [3]\n",
    "\n",
    "df = pd.read_csv('data/01_03_01.csv')\n",
    "sr = df['names']\n",
    "sr\n",
    "sr.name = '이름'\n",
    "sr.index = [1,3,5,7]\n",
    "sr.index.name = 'XX'\n",
    "sr"
   ]
  },
  {
   "cell_type": "markdown",
   "metadata": {},
   "source": [
    "### [예제5] Row(Index) Series 객체"
   ]
  },
  {
   "cell_type": "code",
   "execution_count": null,
   "metadata": {},
   "outputs": [],
   "source": [
    "# [1]\n",
    "\n",
    "df = pd.read_csv('data/01_03_01.csv')\n",
    "sr = df.loc[0]\n",
    "print(type(sr))\n",
    "print(sr.name)\n",
    "print(sr.index)\n",
    "print(sr.values)\n",
    "sr; df"
   ]
  },
  {
   "cell_type": "code",
   "execution_count": null,
   "metadata": {},
   "outputs": [],
   "source": [
    "# [2]\n",
    "\n",
    "df = pd.read_csv('data/01_03_01.csv')\n",
    "sr = df.loc[0]\n",
    "print(type(sr.index))\n",
    "print(sr.index.values)\n",
    "print(type(sr.values))\n",
    "print(sr.values.dtype)\n",
    "sr; df"
   ]
  },
  {
   "cell_type": "code",
   "execution_count": null,
   "metadata": {},
   "outputs": [],
   "source": [
    "# [3]\n",
    "\n",
    "df = pd.read_csv('data/01_03_01.csv')\n",
    "sr = df.loc[0]\n",
    "sr\n",
    "sr.name = 'profile'\n",
    "sr.index = ('A','B','C')\n",
    "sr.index.name = 'YY'\n",
    "sr"
   ]
  },
  {
   "cell_type": "markdown",
   "metadata": {},
   "source": [
    "### [예제5]  head(), tail(), nlargest(), nsmallest()"
   ]
  },
  {
   "cell_type": "code",
   "execution_count": null,
   "metadata": {},
   "outputs": [],
   "source": [
    "# [1-1]\n",
    "\n",
    "df = pd.read_csv('data/01_03_02.csv')\n",
    "d1 = df.head()\n",
    "d2 = df.head(2)\n",
    "d3 = df.head(-4)\n",
    "disp('df', 'd1', 'd2', 'd3')"
   ]
  },
  {
   "cell_type": "code",
   "execution_count": null,
   "metadata": {},
   "outputs": [],
   "source": [
    "# [1-2]\n",
    "\n",
    "df = pd.read_csv('data/01_03_02.csv')\n",
    "d4 = df.tail()\n",
    "d5 = df.tail(2)\n",
    "d6 = df.tail(-4)\n",
    "disp('df', 'd4', 'd5', 'd6')"
   ]
  },
  {
   "cell_type": "code",
   "execution_count": null,
   "metadata": {
    "scrolled": true
   },
   "outputs": [],
   "source": [
    "# [2]\n",
    "\n",
    "df = pd.read_csv('data/01_03_02.csv')\n",
    "d7 = df.nlargest(3, 'height')\n",
    "d8 = df.nsmallest(3, 'age')\n",
    "d9 = df.nsmallest(3,['age','height'])\n",
    "disp('df', 'd7', 'd8', 'd9')"
   ]
  },
  {
   "cell_type": "code",
   "execution_count": null,
   "metadata": {},
   "outputs": [],
   "source": [
    "# [3]\n",
    "\n",
    "df = pd.read_csv('data/01_03_02.csv')\n",
    "sr = df['age']\n",
    "s1 = sr.nlargest(3, keep = 'all')\n",
    "s2 = sr.nlargest(3, keep = 'first')\n",
    "s3 = sr.nlargest(3, keep = 'last')\n",
    "sr; s1; s2; s3"
   ]
  },
  {
   "cell_type": "markdown",
   "metadata": {},
   "source": [
    "### [예제6] DataFrame / Serie의 정보 확인"
   ]
  },
  {
   "cell_type": "code",
   "execution_count": null,
   "metadata": {},
   "outputs": [],
   "source": [
    "# [1]\n",
    "\n",
    "df = pd.read_csv('data/01_03_01.csv')\n",
    "df.info()"
   ]
  },
  {
   "cell_type": "code",
   "execution_count": null,
   "metadata": {},
   "outputs": [],
   "source": [
    "# [2]\n",
    "\n",
    "df = pd.read_csv('data/01_03_01.csv')\n",
    "prt(df.dtypes)\n",
    "print(df.ndim)\n",
    "print(df.shape)\n",
    "print(df.size)\n",
    "df"
   ]
  },
  {
   "cell_type": "code",
   "execution_count": null,
   "metadata": {},
   "outputs": [],
   "source": [
    "# [3]\n",
    "\n",
    "df = pd.read_csv('data/01_03_01.csv')\n",
    "sr = df['names']\n",
    "print(sr.dtype)\n",
    "print(sr.ndim)\n",
    "print(sr.shape)\n",
    "print(sr.size)\n",
    "print(sr.nbytes)    \n",
    "sr; df"
   ]
  },
  {
   "cell_type": "markdown",
   "metadata": {},
   "source": [
    "### [예제7] 메모리 사용량 확인"
   ]
  },
  {
   "cell_type": "code",
   "execution_count": null,
   "metadata": {},
   "outputs": [],
   "source": [
    "df = pd.read_csv('data/01_03_01.csv')\n",
    "df\n",
    "prt(df.memory_usage())\n",
    "prt(df.memory_usage(deep = True))"
   ]
  },
  {
   "cell_type": "code",
   "execution_count": null,
   "metadata": {},
   "outputs": [],
   "source": [
    "df = pd.read_csv('data/01_03_01.csv')\n",
    "df\n",
    "prt(df.memory_usage(index = False))\n",
    "prt(df.memory_usage(index = False, deep = True))"
   ]
  },
  {
   "cell_type": "markdown",
   "metadata": {},
   "source": [
    "### [예제8] DataFrame의 모든 컬럼 type변경"
   ]
  },
  {
   "cell_type": "code",
   "execution_count": null,
   "metadata": {
    "scrolled": false
   },
   "outputs": [],
   "source": [
    "df = pd.read_csv('data/01_03_01.csv')\n",
    "\n",
    "prt(df.dtypes)\n",
    "df1 = df.astype(object)\n",
    "#df2 = df.astype(int) #error\n",
    "df3 = df.astype(int, errors = 'ignore')\n",
    "prt(df1.dtypes, df3.dtypes)\n",
    "\n",
    "df"
   ]
  },
  {
   "cell_type": "markdown",
   "metadata": {},
   "source": [
    "### [예제9] DataFrame의 특정 컬럼 type변경"
   ]
  },
  {
   "cell_type": "code",
   "execution_count": null,
   "metadata": {},
   "outputs": [],
   "source": [
    "# [1]\n",
    "\n",
    "df = pd.read_csv('data/01_03_01.csv')\n",
    "r1 = df.dtypes\n",
    "df['age'] = df['age'].astype(int)\n",
    "r2 = df.dtypes\n",
    "prt(r1, r2)\n",
    "df"
   ]
  },
  {
   "cell_type": "code",
   "execution_count": null,
   "metadata": {},
   "outputs": [],
   "source": [
    "# [2]\n",
    "\n",
    "df = pd.read_csv('data/01_03_01.csv')\n",
    "x = {'age':np.int8, 'height': np.int16}\n",
    "df = df.astype(x) \n",
    "r3 = df.dtypes\n",
    "print(r3)"
   ]
  },
  {
   "cell_type": "code",
   "execution_count": null,
   "metadata": {},
   "outputs": [],
   "source": [
    "# [3]\n",
    "\n",
    "df = pd.read_csv('data/01_03_01.csv')\n",
    "print(df.index)\n",
    "print(df.index.dtype)\n",
    "df.index = df.index.astype(int)\n",
    "print(df.index)\n",
    "print(df.index.dtype)"
   ]
  },
  {
   "cell_type": "markdown",
   "metadata": {},
   "source": [
    "### [예제10] data type과 메모리"
   ]
  },
  {
   "cell_type": "code",
   "execution_count": null,
   "metadata": {},
   "outputs": [],
   "source": [
    "# [1]\n",
    "\n",
    "df = pd.read_csv('data/01_03_03.csv')\n",
    "df1 = df.astype(str)\n",
    "df2 = df.astype({'id': 'int32', 'age':'int8', 'weight': 'uint8'})\n",
    "\n",
    "prt(df.memory_usage(deep = False))\n",
    "prt(df1.memory_usage(deep = False))\n",
    "prt(df2.memory_usage(deep = False))"
   ]
  },
  {
   "cell_type": "code",
   "execution_count": null,
   "metadata": {},
   "outputs": [],
   "source": [
    "# [2]\n",
    "\n",
    "df = pd.read_csv('data/01_03_03.csv')\n",
    "df1 = df.astype(str)\n",
    "df2 = df.astype({'id': 'int32', 'age':'int8', 'weight': 'uint8'})\n",
    "\n",
    "prt(df.memory_usage(deep = True))\n",
    "prt(df1.memory_usage(deep = True))\n",
    "prt(df2.memory_usage(deep = True))"
   ]
  }
 ],
 "metadata": {
  "colab": {
   "collapsed_sections": [
    "X9j6NHSVvIB7"
   ],
   "name": "DF_basic_Indexing_kim.ipynb",
   "provenance": []
  },
  "kernelspec": {
   "display_name": "Python 3",
   "language": "python",
   "name": "python3"
  },
  "language_info": {
   "codemirror_mode": {
    "name": "ipython",
    "version": 3
   },
   "file_extension": ".py",
   "mimetype": "text/x-python",
   "name": "python",
   "nbconvert_exporter": "python",
   "pygments_lexer": "ipython3",
   "version": "3.8.3"
  },
  "toc": {
   "base_numbering": 1,
   "nav_menu": {},
   "number_sections": true,
   "sideBar": true,
   "skip_h1_title": false,
   "title_cell": "Table of Contents",
   "title_sidebar": "Contents",
   "toc_cell": false,
   "toc_position": {},
   "toc_section_display": true,
   "toc_window_display": false
  }
 },
 "nbformat": 4,
 "nbformat_minor": 1
}
