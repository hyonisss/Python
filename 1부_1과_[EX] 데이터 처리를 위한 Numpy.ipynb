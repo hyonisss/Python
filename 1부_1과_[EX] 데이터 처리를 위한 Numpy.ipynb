{
 "cells": [
  {
   "cell_type": "code",
   "execution_count": null,
   "metadata": {},
   "outputs": [],
   "source": [
    "from IPython.core.interactiveshell import InteractiveShell\n",
    "InteractiveShell.ast_node_interactivity = \"all\"\n",
    "\n",
    "def prt(*pVPK) :\n",
    "    print(*pVPK, sep = '\\n\\n', end = '\\n\\n')\n",
    "    \n",
    "import numpy as np\n",
    "import datetime, sys    "
   ]
  },
  {
   "cell_type": "markdown",
   "metadata": {},
   "source": [
    "### [예제1] Python List 와 NumPy 배열"
   ]
  },
  {
   "cell_type": "code",
   "execution_count": null,
   "metadata": {
    "scrolled": true
   },
   "outputs": [],
   "source": [
    "# [1]\n",
    "\n",
    "start = datetime.datetime.now()\n",
    "l = list(range(20000000))\n",
    "a = [i+2 for i in l]\n",
    "end = datetime.datetime.now()\n",
    "print('time: ', end - start)\n",
    "print('size: ', sys.getsizeof(l))"
   ]
  },
  {
   "cell_type": "code",
   "execution_count": null,
   "metadata": {},
   "outputs": [],
   "source": [
    "# [2]\n",
    "\n",
    "start = datetime.datetime.now()\n",
    "a = np.arange(20000000)\n",
    "a = a + 2\n",
    "end = datetime.datetime.now()\n",
    "print('time: ', end - start)\n",
    "print('size: ', sys.getsizeof(a))"
   ]
  },
  {
   "cell_type": "markdown",
   "metadata": {},
   "source": [
    "### [예제2] ndarry 생성"
   ]
  },
  {
   "cell_type": "code",
   "execution_count": null,
   "metadata": {
    "scrolled": true
   },
   "outputs": [],
   "source": [
    "# [1-1] \n",
    "\n",
    "a1 = np.array([1,2,3])\n",
    "a2 = np.array([[1,2,3],[4,5,6],[7,8,9],[10,11,12]])\n",
    "a3 = np.array([a2, a2])\n",
    "print(type(a1), a1.ndim, a1.shape, a1.dtype)\n",
    "print(type(a2), a2.ndim, a2.shape)\n",
    "print(type(a3), a3.ndim, a3.shape)"
   ]
  },
  {
   "cell_type": "code",
   "execution_count": null,
   "metadata": {},
   "outputs": [],
   "source": [
    "# [1-2] \n",
    "\n",
    "a1 = np.array([1,2,3])\n",
    "a2 = np.array([[1,2,3],[4,5,6],[7,8,9],[10,11,12]])\n",
    "a3 = np.array([a2, a2])\n",
    "print(a1[1], a1[1:], a2[1][2], a2[1,2])\n",
    "print(a2[0:2][1:])\n",
    "print(a2[0:2, 1:])    "
   ]
  },
  {
   "cell_type": "code",
   "execution_count": null,
   "metadata": {
    "scrolled": false
   },
   "outputs": [],
   "source": [
    "# [2-1] \n",
    "\n",
    "a = np.array((1,2,3,4))\n",
    "b = np.array(range(0,10), dtype = float)\n",
    "c = np.array(a, dtype = float)\n",
    "d = np.arange(5)\n",
    "print(a, a.dtype)\n",
    "print(b, b.dtype)\n",
    "print(c, c.dtype)\n",
    "print(d, d.dtype)"
   ]
  },
  {
   "cell_type": "code",
   "execution_count": null,
   "metadata": {},
   "outputs": [],
   "source": [
    "# [2-2] \n",
    "\n",
    "e = np.arange(5.9)\n",
    "f = np.arange(2, 7, dtype = float)\n",
    "g = np.arange(2, 7, 2)\n",
    "h = np.arange(2, 3, 0.2)   \n",
    "print(e, e.dtype)\n",
    "print(f, f.dtype)\n",
    "print(g, g.dtype)\n",
    "print(h, h.dtype)"
   ]
  },
  {
   "cell_type": "markdown",
   "metadata": {},
   "source": [
    "### [예제3] reshape 메서드"
   ]
  },
  {
   "cell_type": "code",
   "execution_count": null,
   "metadata": {},
   "outputs": [],
   "source": [
    "# [1] \n",
    "\n",
    "r1 = np.arange(12).reshape(3,4)\n",
    "r2 = np.arange(12).reshape(4,3)\n",
    "print(r1)\n",
    "print(r2)"
   ]
  },
  {
   "cell_type": "code",
   "execution_count": null,
   "metadata": {},
   "outputs": [],
   "source": [
    "# [2] \n",
    "\n",
    "a = np.array([[1,2,3],[4,5,6]])\n",
    "r3 = a.reshape(-1,3)\n",
    "r4 = a.reshape(3, -3768743)\n",
    "r5 = a.reshape(-1)\n",
    "print(r3, r3.shape)\n",
    "print(r4, r4.shape)\n",
    "print(r5, r5.shape)"
   ]
  },
  {
   "cell_type": "markdown",
   "metadata": {},
   "source": [
    "### [예제4] ndarry 연산"
   ]
  },
  {
   "cell_type": "code",
   "execution_count": null,
   "metadata": {},
   "outputs": [],
   "source": [
    "# [1]\n",
    "\n",
    "a1 = np.array([1,2,3,4])\n",
    "a2 = np.array([5,6,7,8])\n",
    "r1 = a1 + a2\n",
    "prt(r1)"
   ]
  },
  {
   "cell_type": "code",
   "execution_count": null,
   "metadata": {},
   "outputs": [],
   "source": [
    "# [2] \n",
    "\n",
    "a1 = np.array([1,2,3,4])\n",
    "a3 = np.arange(12).reshape(3,4)\n",
    "r2 = a3 + 1\n",
    "r3 = a3 + a1\n",
    "prt(a1, a3, r2, r3)"
   ]
  },
  {
   "cell_type": "code",
   "execution_count": null,
   "metadata": {},
   "outputs": [],
   "source": [
    "# [3] \n",
    "\n",
    "a3 = np.arange(12).reshape(3,4)\n",
    "r4 = a3 > 2\n",
    "prt(r4)"
   ]
  },
  {
   "cell_type": "code",
   "execution_count": null,
   "metadata": {},
   "outputs": [],
   "source": [
    "# [4] \n",
    "\n",
    "a4 = np.array([1,2])\n",
    "a5 = np.array([1.0,2.0])\n",
    "r5 = a4 * a5\n",
    "prt(a4, a5, r5)"
   ]
  },
  {
   "cell_type": "markdown",
   "metadata": {},
   "source": [
    "### [예제5] dtype 생성과 지정"
   ]
  },
  {
   "cell_type": "code",
   "execution_count": null,
   "metadata": {
    "scrolled": true
   },
   "outputs": [],
   "source": [
    "t1 = np.dtype('>i2')\n",
    "a1 = np.array([1,2,3], dtype = t1)\n",
    "print(a1.dtype)\n",
    "print(np.dtype('<f'))\n",
    "print(np.dtype(int))\n",
    "print(np.dtype(float))\n",
    "print(np.dtype(bytes))\n",
    "print(np.dtype(str))\n",
    "print(np.dtype(object))"
   ]
  },
  {
   "cell_type": "markdown",
   "metadata": {},
   "source": [
    "### [예제6] Structured Array"
   ]
  },
  {
   "cell_type": "code",
   "execution_count": null,
   "metadata": {
    "scrolled": true
   },
   "outputs": [],
   "source": [
    "# [1] \n",
    "\n",
    "dt1 = np.dtype('i4, <f, U4')\n",
    "dt1.fields\n",
    "print(dt1.names)\n",
    "print(dt1[0], dt1[1], dt1[2])"
   ]
  },
  {
   "cell_type": "code",
   "execution_count": null,
   "metadata": {},
   "outputs": [],
   "source": [
    "# [2]\n",
    "\n",
    "a = np.array([(1,2.0,'kim'),(4,5.0,'song')],dtype = dt1)\n",
    "print(a);   print(a[0]['f0'], a[1]['f1'], a[1]['f2'])"
   ]
  },
  {
   "cell_type": "code",
   "execution_count": null,
   "metadata": {
    "scrolled": true
   },
   "outputs": [],
   "source": [
    "# [3] \n",
    "\n",
    "dt2 = np.dtype([('name', np.str_, 10),('grade', np.int)])\n",
    "dt2.fields;   print(dt2.names)"
   ]
  },
  {
   "cell_type": "code",
   "execution_count": null,
   "metadata": {},
   "outputs": [],
   "source": [
    "# [4]\n",
    "\n",
    "b = np.array([(\"kim\",3),(\"Lee\",\"4\"),(\"Song\",\"6\")], dtype=dt2)\n",
    "print(b);   print(b[0][\"name\"], b[1]['grade'])"
   ]
  }
 ],
 "metadata": {
  "kernelspec": {
   "display_name": "Python 3",
   "language": "python",
   "name": "python3"
  },
  "language_info": {
   "codemirror_mode": {
    "name": "ipython",
    "version": 3
   },
   "file_extension": ".py",
   "mimetype": "text/x-python",
   "name": "python",
   "nbconvert_exporter": "python",
   "pygments_lexer": "ipython3",
   "version": "3.8.3"
  }
 },
 "nbformat": 4,
 "nbformat_minor": 4
}
