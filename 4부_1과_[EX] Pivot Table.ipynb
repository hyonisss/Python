{
 "cells": [
  {
   "cell_type": "code",
   "execution_count": null,
   "metadata": {},
   "outputs": [],
   "source": [
    "from IPython.core.interactiveshell import InteractiveShell\n",
    "InteractiveShell.ast_node_interactivity = \"all\"\n",
    "\n",
    "# html을 이용하여 가로방향으로 여러 DF을 인쇄\n",
    "class disp(object):\n",
    "    template = '<div style=\"float: left;padding:10px;\"> <b>[{0}]</b> {1}</div>'\n",
    "    def __init__(self, *args):\n",
    "        self.args = args\n",
    "        \n",
    "    def _repr_html_(self):\n",
    "        return '\\n'.join(self.template.format(a, eval(a)._repr_html_())\n",
    "                         for a in self.args)\n",
    "\n",
    "import pandas as pd\n",
    "import numpy as np    "
   ]
  },
  {
   "cell_type": "markdown",
   "metadata": {},
   "source": [
    "### [예제1] Pivot Table 구현 예"
   ]
  },
  {
   "cell_type": "code",
   "execution_count": null,
   "metadata": {},
   "outputs": [],
   "source": [
    "df = pd.DataFrame({'grade':[1,1,1,2,2], 'class':list('ABBAA'), \n",
    "                   'name':['kim', 'lee', 'park', 'song', 'lew'], \n",
    "                   'kor':[60, 90, 60, 40, 30], 'eng':[50, 60, 100, 60, 70]})\n",
    "\n",
    "g = df['grade'].unique()\n",
    "s = {x: df.loc[df['grade']==x, ('kor','eng')].mean() for x in g}\n",
    "df2 = pd.DataFrame(s).T\n",
    "\n",
    "disp('df', 'df2')"
   ]
  },
  {
   "cell_type": "markdown",
   "metadata": {},
   "source": [
    "### [예제2] pivot_table()의 이해"
   ]
  },
  {
   "cell_type": "code",
   "execution_count": null,
   "metadata": {},
   "outputs": [],
   "source": [
    "df = pd.DataFrame({'grade':[1,1,1,2,2], 'class':list('ABBAA'), \n",
    "                   'name':['kim', 'lee', 'park', 'song', 'lew'], \n",
    "                   'kor':[60, 90, 60, 40, 30], 'eng':[50, 60, 100, 60, 70]})\n",
    "df"
   ]
  },
  {
   "cell_type": "code",
   "execution_count": null,
   "metadata": {},
   "outputs": [],
   "source": [
    "# [1-1]\n",
    "\n",
    "r1 = pd.pivot_table(df,index='grade',columns='class',values='eng',aggfunc=np.mean)\n",
    "r2 = pd.pivot_table(df, 'eng', 'grade', 'class', fill_value=0, margins=True)\n",
    "disp('df', 'r1','r2')"
   ]
  },
  {
   "cell_type": "code",
   "execution_count": null,
   "metadata": {},
   "outputs": [],
   "source": [
    "# [1-2]\n",
    "\n",
    "r3 = pd.pivot_table(df, index='grade', columns='class')\n",
    "r4 = pd.pivot_table(df, index=['grade', 'class'])\n",
    "r5 = pd.pivot_table(df, columns='grade')\n",
    "disp('r3', 'r4', 'r5')"
   ]
  },
  {
   "cell_type": "markdown",
   "metadata": {},
   "source": [
    "### [예제3] pivot_table()의 agg_func 옵션"
   ]
  },
  {
   "cell_type": "code",
   "execution_count": null,
   "metadata": {
    "scrolled": true
   },
   "outputs": [],
   "source": [
    "df = pd.DataFrame({'grade':[1,1,1,2,2], 'class':list('ABBAA'), \n",
    "                   'name':['kim', 'lee', 'park', 'song', 'lew'], \n",
    "                   'kor':[60, 90, 60, 40, 30], 'eng':[50, 60, 100, 60, 70]})"
   ]
  },
  {
   "cell_type": "code",
   "execution_count": null,
   "metadata": {},
   "outputs": [],
   "source": [
    "# [1-1]\n",
    "\n",
    "r1 = pd.pivot_table(df, index='grade', aggfunc=[sum, np.mean])\n",
    "disp('df', 'r1')"
   ]
  },
  {
   "cell_type": "code",
   "execution_count": null,
   "metadata": {},
   "outputs": [],
   "source": [
    "# [1-2]\n",
    "\n",
    "r2 = pd.pivot_table(df, index='grade', aggfunc={'kor':min,'eng':max})  \n",
    "r3 = pd.pivot_table(df, index='grade', aggfunc= {'kor':['max','min']})  \n",
    "disp('df','r2', 'r3')"
   ]
  },
  {
   "cell_type": "code",
   "execution_count": null,
   "metadata": {
    "scrolled": true
   },
   "outputs": [],
   "source": [
    "# [2]\n",
    "\n",
    "r4 = pd.pivot_table(df, index=['grade', 'class'],\\\n",
    "            aggfunc={'kor':[max, min],'eng':[max,min]})\n",
    "\n",
    "disp('df', 'r4')"
   ]
  },
  {
   "cell_type": "markdown",
   "metadata": {},
   "source": [
    "### [예제4] Pivot Table로 시각화"
   ]
  },
  {
   "cell_type": "code",
   "execution_count": null,
   "metadata": {},
   "outputs": [],
   "source": [
    "df = pd.DataFrame({'grade':[1,1,1,2,2], 'name':list('ABCDE'), 'sex':list('WWMMM')})\n",
    "\n",
    "df2 = df.pivot_table(index='grade', columns='sex', values='name',\n",
    "                   aggfunc = 'count', fill_value=0)\n",
    "df3 = df.pivot_table(index='sex', values='name', aggfunc='count')\n",
    "df2.plot.bar();  df3.plot.pie(y='name')\n",
    "\n",
    "disp('df', 'df2', 'df3')"
   ]
  }
 ],
 "metadata": {
  "kernelspec": {
   "display_name": "Python 3",
   "language": "python",
   "name": "python3"
  },
  "language_info": {
   "codemirror_mode": {
    "name": "ipython",
    "version": 3
   },
   "file_extension": ".py",
   "mimetype": "text/x-python",
   "name": "python",
   "nbconvert_exporter": "python",
   "pygments_lexer": "ipython3",
   "version": "3.8.3"
  }
 },
 "nbformat": 4,
 "nbformat_minor": 2
}
