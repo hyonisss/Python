{
 "cells": [
  {
   "cell_type": "code",
   "execution_count": null,
   "metadata": {
    "scrolled": true
   },
   "outputs": [],
   "source": [
    "from IPython.core.interactiveshell import InteractiveShell\n",
    "InteractiveShell.ast_node_interactivity = \"all\"\n",
    "\n",
    "# html을 이용하여 가로방향으로 여러 DF을 인쇄\n",
    "class disp(object):\n",
    "    template = '<div style=\"float: left;padding:10px;\"> <b>[{0}]</b> {1}</div>'\n",
    "    def __init__(self, *args):\n",
    "        self.args = args\n",
    "        \n",
    "    def _repr_html_(self):\n",
    "        return '\\n'.join(self.template.format(a, eval(a)._repr_html_())\n",
    "                         for a in self.args )\n",
    "\n",
    "import pandas as pd\n",
    "import seaborn as sns   "
   ]
  },
  {
   "cell_type": "markdown",
   "metadata": {},
   "source": [
    "### [예제1] category Type의 이해"
   ]
  },
  {
   "cell_type": "code",
   "execution_count": null,
   "metadata": {},
   "outputs": [],
   "source": [
    "# [1] \n",
    "\n",
    "df = pd.DataFrame({'major':['kor', 'eng','eng','kor', 'math'],\n",
    "                   'exam':[90,40,100,70,60],\n",
    "                   'names':['kim','lee','park','song','lew']}).set_index('names')\n",
    "\n",
    "df['major'] = df['major'].astype('category')\n",
    "r1 = df['major']\n",
    "r2 = df['major'].cat.codes\n",
    "\n",
    "r1;r2"
   ]
  },
  {
   "cell_type": "code",
   "execution_count": null,
   "metadata": {},
   "outputs": [],
   "source": [
    "# [2] \n",
    "df = pd.DataFrame({'major':['kor', 'eng','eng','kor', 'math'],\n",
    "                   'exam':[90,40,100,70,60],\n",
    "                   'names':['kim','lee','park','song','lew']}).set_index('names')\n",
    "\n",
    "r3 = df['major'].repeat(10)\n",
    "r4 = df['major'].repeat(10).astype('category')\n",
    "\n",
    "print(r3.dtype, r3.memory_usage(deep=True))\n",
    "print(r4.dtype, r4.memory_usage(deep=True))    "
   ]
  },
  {
   "cell_type": "markdown",
   "metadata": {},
   "source": [
    "### [예제2] categorical 데이터 추가, 수정"
   ]
  },
  {
   "cell_type": "code",
   "execution_count": null,
   "metadata": {},
   "outputs": [],
   "source": [
    "# [1-1]\n",
    "\n",
    "df = pd.DataFrame({'major':['kor', 'eng','eng','kor', 'math'],\n",
    "                   'exam':[90,40,100,70,60],\n",
    "                   'names':['kim','lee','park','song','lew']}).set_index('names')\n",
    "\n",
    "df['major'] = df['major'].astype('category')\n",
    "r1 = df['major'].cat.set_categories(['eng', 'kor'])\n",
    "r2 = r1.cat.codes\n",
    "r1;r2"
   ]
  },
  {
   "cell_type": "code",
   "execution_count": null,
   "metadata": {},
   "outputs": [],
   "source": [
    "# [1-2]\n",
    "\n",
    "df = pd.DataFrame({'major':['kor', 'eng','eng','kor', 'math'],\n",
    "                   'exam':[90,40,100,70,60],\n",
    "                   'names':['kim','lee','park','song','lew']}).set_index('names')\n",
    "\n",
    "df['major'] = df['major'].astype('category')\n",
    "r3 = df['major'].cat.set_categories(['eng','kor','math','art'])\n",
    "r4 = df['major'].cat.reorder_categories(['math','kor','eng'])\n",
    "r3;r4"
   ]
  },
  {
   "cell_type": "code",
   "execution_count": null,
   "metadata": {
    "scrolled": true
   },
   "outputs": [],
   "source": [
    "# [2] \n",
    "\n",
    "df = pd.DataFrame({'major':['kor', 'eng','eng','kor', 'math'],\n",
    "                   'exam':[90,40,100,70,60],\n",
    "                   'names':['kim','lee','park','song','lew']}).set_index('names')\n",
    "\n",
    "df['major'] = df['major'].astype('category')\n",
    "df['major'].cat.categories = ['MJ1', 'MJ2', 'MJ3'] \n",
    "r5 = df['major'].cat.categories\n",
    "\n",
    "r5; df"
   ]
  },
  {
   "cell_type": "markdown",
   "metadata": {},
   "source": [
    "### [예제3] categorical 데이터 재정렬 및 비교 연산"
   ]
  },
  {
   "cell_type": "code",
   "execution_count": null,
   "metadata": {},
   "outputs": [],
   "source": [
    "df = pd.DataFrame({'major':['kor', 'eng','eng','kor', 'math'],\n",
    "                   'exam':[90,40,100,70,60],\n",
    "                    'names':['kim','lee','park','song','lew']}).set_index('names')\n",
    "\n",
    "li = ['math', 'eng','kor']\n",
    "df['major'] = df['major'].astype('category')\n",
    "cat1 = df['major'].cat.set_categories(li)\n",
    "cat2 = df['major'].cat.set_categories(li,ordered=True)\n",
    "r1 = cat1.sort_values()\n",
    "r2 = cat1.max() #error\n",
    "r3 = cat2.max() \n",
    "r4 = cat2 > 'eng'\n",
    "\n",
    "cat1; cat2; r1; r3; r4"
   ]
  },
  {
   "cell_type": "markdown",
   "metadata": {},
   "source": [
    "### [예제4] Categorical 객체 생성"
   ]
  },
  {
   "cell_type": "code",
   "execution_count": null,
   "metadata": {
    "scrolled": true
   },
   "outputs": [],
   "source": [
    "# [1-1] \n",
    "\n",
    "data = ['A', 'B', 'C', 'B']\n",
    "cat = pd.Categorical(data, categories=['C','A','B'], ordered=True)\n",
    "sr1 = pd.Series(cat)\n",
    "r1 = sr1.sort_values()\n",
    "    \n",
    "sr1; r1"
   ]
  },
  {
   "cell_type": "code",
   "execution_count": null,
   "metadata": {},
   "outputs": [],
   "source": [
    "# [1-2] \n",
    "\n",
    "data = ['A', 'B', 'C', 'B']\n",
    "cat = pd.Categorical(data, categories=['C','A','B'], ordered=True)\n",
    "sr2 = pd.Series(data, dtype='category')\n",
    "r2 = sr2.sort_values()\n",
    "    \n",
    "sr2; r2"
   ]
  },
  {
   "cell_type": "markdown",
   "metadata": {},
   "source": [
    "### [예제5] cut()메서드"
   ]
  },
  {
   "cell_type": "code",
   "execution_count": null,
   "metadata": {},
   "outputs": [],
   "source": [
    "df = pd.DataFrame({'names':['kim','lee','park','song','lew'], \n",
    "                   'exam':[95,87,55,77,100]}).set_index('names')\n",
    "\n",
    "li = ['bad','good','best']\n",
    "df['bins'] = pd.cut( df['exam'], bins=3)\n",
    "df['eval'] = pd.cut( df['exam'], bins=3, labels=li)\n",
    "r1 = df['bins'].cat.codes\n",
    "r2 = df['bins'].cat.categories\n",
    "\n",
    "r1;r2;df"
   ]
  },
  {
   "cell_type": "markdown",
   "metadata": {},
   "source": [
    "### [예제6] cut()메서드 활용 예"
   ]
  },
  {
   "cell_type": "code",
   "execution_count": null,
   "metadata": {},
   "outputs": [],
   "source": [
    "# [1-1]\n",
    "df = pd.DataFrame({'names':['kim','lee','park','song','lew'], \n",
    "                   'exam':[95,87,55,77,100]}).set_index('names')\n",
    "\n",
    "l = list('FDCBA')\n",
    "b = [-1,59,69,79,89,100]\n",
    "df['eval'] = pd.cut(df['exam'], bins=b, labels=l)\n",
    "r1 = df['eval']\n",
    "r1; df"
   ]
  },
  {
   "cell_type": "code",
   "execution_count": null,
   "metadata": {
    "scrolled": true
   },
   "outputs": [],
   "source": [
    "# [1-2]\n",
    "df = pd.DataFrame({'names':['kim','lee','park','song','lew'], \n",
    "                   'exam':[95,87,55,77,100]}).set_index('names')\n",
    "\n",
    "l = list('FDCBA')\n",
    "b = [-1,59,69,79,89,100]\n",
    "df['eval'] = pd.cut(df['exam'], bins=b, labels=l)\n",
    "r2 = df.sort_values('eval')\n",
    "disp('df', 'r2')"
   ]
  },
  {
   "cell_type": "code",
   "execution_count": null,
   "metadata": {},
   "outputs": [],
   "source": [
    "# [1-3]\n",
    "df = pd.DataFrame({'names':['kim','lee','park','song','lew'], \n",
    "                   'exam':[95,87,55,77,100]}).set_index('names')\n",
    "\n",
    "l = list('FDCBA')\n",
    "b = [-1,59,69,79,89,100]\n",
    "df['eval'] = pd.cut(df['exam'], bins=b, labels=l)\n",
    "r3 = df.groupby('eval').count()\n",
    "disp('df', 'r3')"
   ]
  },
  {
   "cell_type": "code",
   "execution_count": null,
   "metadata": {},
   "outputs": [],
   "source": [
    "# [1-4]\n",
    "\n",
    "df = pd.DataFrame({'names':['kim','lee','park','song','lew'], \n",
    "                   'exam':[95,87,55,77,100]}).set_index('names')\n",
    "\n",
    "l = list('FDCBA')\n",
    "b = [-1,59,69,79,89,100]\n",
    "df['eval'] = pd.cut(df['exam'], bins=b, labels=l)\n",
    "df['eval'] = df['eval'].cat.set_categories(l[::-1])\n",
    "r4 = df.sort_values('eval')\n",
    "\n",
    "disp('df', 'r4')"
   ]
  },
  {
   "cell_type": "markdown",
   "metadata": {},
   "source": [
    "### [예제7] qcut() 메서드"
   ]
  },
  {
   "cell_type": "code",
   "execution_count": null,
   "metadata": {},
   "outputs": [],
   "source": [
    "df = pd.DataFrame({'names':['kim','lee','park','song','lew'], \n",
    "                   'exam':[95,80,55,77,100]}).set_index('names')\n",
    "\n",
    "li = ['bad','good','best']\n",
    "df['bins'] = pd.qcut(df['exam'], 3)\n",
    "df['eval'] = pd.qcut(df['exam'], 3, labels=li)\n",
    "r = df['bins'].cat.categories\n",
    "    \n",
    "r; df"
   ]
  },
  {
   "cell_type": "markdown",
   "metadata": {},
   "source": [
    "### [예제8] closstab() 메서드"
   ]
  },
  {
   "cell_type": "code",
   "execution_count": null,
   "metadata": {},
   "outputs": [],
   "source": [
    "df = pd.DataFrame({'grade':[1,2,1,2,1], 'class':list('AABAA'),'sex':list('MMWWM'),\n",
    "                  'names':['kim','lee','park','song','lew']}).set_index('names')\n",
    "\n",
    "r1 = pd.crosstab(index=df['grade'], columns=df['class']) \n",
    "r2 = pd.crosstab(df['grade'], [df['class'], df['sex']])  \n",
    "r3=pd.crosstab(df['grade'],columns=df['class'],margins=True)\n",
    "\n",
    "disp('df', 'r1','r2','r3')"
   ]
  },
  {
   "cell_type": "markdown",
   "metadata": {},
   "source": [
    "### [예제 9] Category 활용 : titanic  "
   ]
  },
  {
   "cell_type": "code",
   "execution_count": null,
   "metadata": {},
   "outputs": [],
   "source": [
    "df = sns.load_dataset('titanic')[['class', 'survived', 'age']]\n",
    "df.dropna(inplace=True)\n",
    "df.info()\n",
    "df.head()"
   ]
  },
  {
   "cell_type": "code",
   "execution_count": null,
   "metadata": {},
   "outputs": [],
   "source": [
    "# [1] \n",
    "\n",
    "l = ['child', 'junior', 'adult', 'senior']\n",
    "b = [0, 12, 18, 60, 100]\n",
    "cut = pd.cut(df['age'], bins=b, labels=l)\n",
    "r1 = df['age'].groupby(cut).agg(['count', 'min', 'max'])\n",
    "\n",
    "r1"
   ]
  },
  {
   "cell_type": "code",
   "execution_count": null,
   "metadata": {},
   "outputs": [],
   "source": [
    "# [2]\n",
    "\n",
    "cut2 = pd.cut(df['age'], bins=range(0,101,10), labels=range(0,100,10))\n",
    "r2 = df.groupby([cut2, 'survived'])['survived'].count().unstack(0)\n",
    "\n",
    "r2"
   ]
  }
 ],
 "metadata": {
  "kernelspec": {
   "display_name": "Python 3",
   "language": "python",
   "name": "python3"
  },
  "language_info": {
   "codemirror_mode": {
    "name": "ipython",
    "version": 3
   },
   "file_extension": ".py",
   "mimetype": "text/x-python",
   "name": "python",
   "nbconvert_exporter": "python",
   "pygments_lexer": "ipython3",
   "version": "3.8.3"
  },
  "toc": {
   "base_numbering": 1,
   "nav_menu": {},
   "number_sections": true,
   "sideBar": true,
   "skip_h1_title": true,
   "title_cell": "",
   "title_sidebar": "Contents",
   "toc_cell": false,
   "toc_position": {
    "height": "calc(100% - 180px)",
    "left": "10px",
    "top": "150px",
    "width": "359.275px"
   },
   "toc_section_display": true,
   "toc_window_display": false
  }
 },
 "nbformat": 4,
 "nbformat_minor": 2
}
