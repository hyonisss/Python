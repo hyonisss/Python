{
 "cells": [
  {
   "cell_type": "code",
   "execution_count": null,
   "metadata": {
    "scrolled": true
   },
   "outputs": [],
   "source": [
    "from IPython.core.interactiveshell import InteractiveShell\n",
    "InteractiveShell.ast_node_interactivity = \"all\"\n",
    "\n",
    "class disp(object):\n",
    "    template = '<div style=\"float: left;padding:10px;\"> <b>[{0}]</b> {1}</div>'\n",
    "    def __init__(self, *args):\n",
    "        self.args = args\n",
    "        \n",
    "    def _repr_html_(self):\n",
    "        return '\\n'.join(self.template.format(a, eval(a)._repr_html_())\n",
    "                         for a in self.args)\n",
    "\n",
    "import pandas as pd  \n",
    "import numpy as np"
   ]
  },
  {
   "cell_type": "markdown",
   "metadata": {},
   "source": [
    "### [예제1] query() 메서드 이해"
   ]
  },
  {
   "cell_type": "code",
   "execution_count": null,
   "metadata": {},
   "outputs": [],
   "source": [
    "df = pd.DataFrame({'name':['kim','lee','park','song'], 'age':[20, 40, 35, 25]})"
   ]
  },
  {
   "cell_type": "code",
   "execution_count": null,
   "metadata": {},
   "outputs": [],
   "source": [
    "# [1]\n",
    "\n",
    "df1 = df[df['age'] >= 20 and df['age'] <= 30] #error\n",
    "df2 = df[20 <= df['age'] <= 30] #error\n",
    "df3 = df[(df['age'] >= 20) & (df['age'] <= 30)]\n",
    "    \n",
    "disp('df', 'df3')"
   ]
  },
  {
   "cell_type": "code",
   "execution_count": null,
   "metadata": {},
   "outputs": [],
   "source": [
    "# [2]\n",
    "\n",
    "df4 = df.query('age >= 20 & age <= 30') \n",
    "df5 = df.query('age >= 20 and age <= 30')\n",
    "df6 = df.query('20 <= age <= 30')\n",
    "disp('df4', 'df5', 'df6')"
   ]
  },
  {
   "cell_type": "code",
   "execution_count": null,
   "metadata": {
    "scrolled": true
   },
   "outputs": [],
   "source": [
    "# [3]\n",
    "\n",
    "df7 = df[df['name'] in ['kim', 'park']] #error\n",
    "df8 = df[(df['name'] == 'kim')|(df['name'] == 'park')]\n",
    "df9 = df[df['name'].isin(['kim', 'park'])]\n",
    "disp('df8', 'df9')"
   ]
  },
  {
   "cell_type": "code",
   "execution_count": null,
   "metadata": {},
   "outputs": [],
   "source": [
    "# [4]\n",
    "\n",
    "df10 = df.query('name in [\"kim\", \"park\"]')\n",
    "df11 = df.query('name == [\"kim\", \"park\"]')\n",
    "df12 = df.query('name.isin([\"kim\", \"park\"])', engine='python')\n",
    "disp('df10', 'df11', 'df12')"
   ]
  },
  {
   "cell_type": "markdown",
   "metadata": {},
   "source": [
    "### [예제2] query() 메서드 이해2"
   ]
  },
  {
   "cell_type": "code",
   "execution_count": null,
   "metadata": {},
   "outputs": [],
   "source": [
    "df = pd.DataFrame({'names':['kim','lee','park','song'], 'class':list('ABAC'),\n",
    "                   'exam':[80,50,90,60]}).set_index('names')"
   ]
  },
  {
   "cell_type": "code",
   "execution_count": null,
   "metadata": {},
   "outputs": [],
   "source": [
    "# [1]\n",
    "\n",
    "df1 = df[df['names']=='kim'] #error\n",
    "df2 = df.query('names==\"kim\"')\n",
    "df3 = df.query('index==\"kim\"')\n",
    "    \n",
    "disp('df', 'df2', 'df3')"
   ]
  },
  {
   "cell_type": "code",
   "execution_count": null,
   "metadata": {
    "scrolled": true
   },
   "outputs": [],
   "source": [
    "# [2]\n",
    "\n",
    "x, y = df['class'], 'A'\n",
    "df4 = df.query('class == \"A\"') #error\n",
    "df5 = df.query('`class` == \"A\"')\n",
    "df6 = df.query('@x == @y')\n",
    "\n",
    "disp('df5', 'df6')"
   ]
  },
  {
   "cell_type": "code",
   "execution_count": null,
   "metadata": {
    "scrolled": true
   },
   "outputs": [],
   "source": [
    "# [3]\n",
    "\n",
    "x = df['exam'].mean()\n",
    "y = ['A', 'C']\n",
    "df7 = df.query('exam <= @x')\n",
    "v1 = df.query('`class` in @y ')['exam'].max()\n",
    "disp('df','df7')\n",
    "v1"
   ]
  },
  {
   "cell_type": "markdown",
   "metadata": {},
   "source": [
    "### [예제3] filter() 메서드 이해"
   ]
  },
  {
   "cell_type": "code",
   "execution_count": null,
   "metadata": {},
   "outputs": [],
   "source": [
    "df = pd.DataFrame({'name':['kim','lee','park','ki'], \n",
    "                   'kor':[80,50,90,60], 'eng':[70,100,80,50]}).set_index('name')"
   ]
  },
  {
   "cell_type": "code",
   "execution_count": null,
   "metadata": {},
   "outputs": [],
   "source": [
    "# [1]\n",
    "\n",
    "df1 = df.filter(items = ['kor'])\n",
    "df2 = df.filter(like = 'k')\n",
    "disp('df', 'df1', 'df2')"
   ]
  },
  {
   "cell_type": "code",
   "execution_count": null,
   "metadata": {
    "scrolled": true
   },
   "outputs": [],
   "source": [
    "# [2]\n",
    "\n",
    "df3 = df.filter(items = ['kim', 'ki'], axis=0)\n",
    "df4 = df.filter(regex = '^k', axis=0) \n",
    "df5 = df.loc[df.index.isin(['kim', 'ki'])]\n",
    "df6 = df[ df.index.str.startswith('k') ]\n",
    "\n",
    "disp('df', 'df3', 'df4', 'df5', 'df6')"
   ]
  },
  {
   "cell_type": "code",
   "execution_count": null,
   "metadata": {},
   "outputs": [],
   "source": [
    "# [3]\n",
    "\n",
    "df6 = df.filter(regex='a$', like='K', axis=0) #error    "
   ]
  },
  {
   "cell_type": "markdown",
   "metadata": {},
   "source": [
    "### [예제4] sr.apply() 이해"
   ]
  },
  {
   "cell_type": "code",
   "execution_count": null,
   "metadata": {},
   "outputs": [],
   "source": [
    "import pandas as pd\n",
    "import numpy as np\n",
    "\n",
    "df = pd.DataFrame({'A': [2, 5, 9], 'B':[10.5, 20.5, 15.5]})\n",
    "df"
   ]
  },
  {
   "cell_type": "code",
   "execution_count": null,
   "metadata": {},
   "outputs": [],
   "source": [
    "# [1]\n",
    "\n",
    "r1 = df['B'].round()\n",
    "r2 = df['B'].apply(round)\n",
    "r3 = df['B'].apply('round')\n",
    "r4 = df['B'].apply(np.round)\n",
    "r5 = df['A'].apply(np.square)\n",
    "\n",
    "r1; r2; r3; r4; r5"
   ]
  },
  {
   "cell_type": "code",
   "execution_count": null,
   "metadata": {},
   "outputs": [],
   "source": [
    "# [2]\n",
    "\n",
    "r6 = df['A'].sum()\n",
    "r7 = df['A'].apply('sum')\n",
    "r8 = df['A'].apply(sum) #error\n",
    "\n",
    "r6; r7"
   ]
  },
  {
   "cell_type": "code",
   "execution_count": null,
   "metadata": {},
   "outputs": [],
   "source": [
    "# [3]\n",
    "\n",
    "def func(x):\n",
    "    print(type(x), x)\n",
    "    return x*x\n",
    "\n",
    "r9 = df['A'].apply(func)\n",
    "r9"
   ]
  },
  {
   "cell_type": "markdown",
   "metadata": {},
   "source": [
    "### [예제5] sr.apply() 메서드 이해 2"
   ]
  },
  {
   "cell_type": "code",
   "execution_count": null,
   "metadata": {},
   "outputs": [],
   "source": [
    "df = pd.DataFrame({'model':['TV','PC','HP','AD'],\n",
    "                  'price':[400,200,100,300]})"
   ]
  },
  {
   "cell_type": "code",
   "execution_count": null,
   "metadata": {},
   "outputs": [],
   "source": [
    "# [1]\n",
    "\n",
    "def func(t, x, y, z):\n",
    "    return t * x + y - z\n",
    "\n",
    "sr1 = df['price'].apply(func, x=0.8, y=100, z=10)\n",
    "sr2 = df['price'].apply(func, args=(0.8, 100, 10))\n",
    "sr3 = df['price'].apply(func, args=[0.8, 100], z=10)\n",
    "sr4 = df['price'].apply(func, args=(0.8,), y=100, z=10)\n",
    "\n",
    "df; sr1; sr2; sr3; sr4"
   ]
  },
  {
   "cell_type": "code",
   "execution_count": null,
   "metadata": {
    "scrolled": true
   },
   "outputs": [],
   "source": [
    "# [2]\n",
    "\n",
    "df['sale'] = df['price'].apply(lambda x:x-50 if x<300 else x-100)\n",
    "df"
   ]
  },
  {
   "cell_type": "markdown",
   "metadata": {},
   "source": [
    "### [예제6] sr.apply() 활용 예"
   ]
  },
  {
   "cell_type": "code",
   "execution_count": null,
   "metadata": {},
   "outputs": [],
   "source": [
    "df = pd.DataFrame({'model':['TV','COMPUTER','PHONE','AUDIO'],\n",
    "                  'price':[4000000,2000000,1000000,3000000]})\n",
    "df"
   ]
  },
  {
   "cell_type": "code",
   "execution_count": null,
   "metadata": {},
   "outputs": [],
   "source": [
    "# [1]\n",
    "\n",
    "li1 = [ x if len(x)<=4 else (x[:3]+'~') for x in df['model']]\n",
    "sr1 = df['model'].apply(lambda x: x if len(x)<=4 else (x[:3]+'~'))\n",
    "\n",
    "li1; sr1"
   ]
  },
  {
   "cell_type": "code",
   "execution_count": null,
   "metadata": {
    "scrolled": true
   },
   "outputs": [],
   "source": [
    "# [2]\n",
    "\n",
    "code = {'TV':'TV','COMPUTER':'PC','PHONE':'HP','AUDIO':'AD'}\n",
    "li2 = list(map(code.get, df['model']))\n",
    "sr2 = df['model'].apply(code.get)\n",
    "\n",
    "li2; sr2"
   ]
  },
  {
   "cell_type": "code",
   "execution_count": null,
   "metadata": {},
   "outputs": [],
   "source": [
    "# [3]\n",
    "\n",
    "df['price1'] = list(map(\"{:,}원\".format, df['price']))\n",
    "df['price2'] = df['price'].apply('{:,}원'.format)\n",
    "df"
   ]
  },
  {
   "cell_type": "markdown",
   "metadata": {},
   "source": [
    "### [예제7] df.apply() 이해1"
   ]
  },
  {
   "cell_type": "code",
   "execution_count": null,
   "metadata": {},
   "outputs": [],
   "source": [
    "df = pd.DataFrame({'A': [1, 2, 3], 'B':[4, 5, 6]})\n",
    "\n",
    "def f1(x):\n",
    "    print(x)\n",
    "    return x*x\n",
    "\n",
    "r1 = df.apply(f1)  \n",
    "r1"
   ]
  },
  {
   "cell_type": "markdown",
   "metadata": {},
   "source": [
    "### [예제8] df.apply() 이해2"
   ]
  },
  {
   "cell_type": "code",
   "execution_count": null,
   "metadata": {},
   "outputs": [],
   "source": [
    "df = pd.DataFrame({'A': [1, 2, 3], 'B':[4, 5, 6], 'C':[7, 8, 9]})"
   ]
  },
  {
   "cell_type": "code",
   "execution_count": null,
   "metadata": {
    "scrolled": true
   },
   "outputs": [],
   "source": [
    "# [1]\n",
    "\n",
    "r1 = df.apply(np.sum)\n",
    "r2 = df.apply(np.square)\n",
    "\n",
    "print(r1)\n",
    "disp('df', 'r2')"
   ]
  },
  {
   "cell_type": "code",
   "execution_count": null,
   "metadata": {
    "scrolled": true
   },
   "outputs": [],
   "source": [
    "# [2]\n",
    "\n",
    "r3 = df.apply(np.sum, axis=1)\n",
    "r3"
   ]
  },
  {
   "cell_type": "code",
   "execution_count": null,
   "metadata": {
    "scrolled": true
   },
   "outputs": [],
   "source": [
    "# [3]\n",
    "\n",
    "def func(x):\n",
    "    return [10, 20, 30]\n",
    "\n",
    "r4 = df.apply(func)\n",
    "disp('df', 'r4')"
   ]
  },
  {
   "cell_type": "code",
   "execution_count": null,
   "metadata": {},
   "outputs": [],
   "source": [
    "# [4]\n",
    "\n",
    "r5 = df.apply(lambda x: x['A']*x['B']+x['C'], axis=1)\n",
    "df; r5"
   ]
  },
  {
   "cell_type": "markdown",
   "metadata": {},
   "source": [
    "### [예제9] df.apply(): result_type 옵션"
   ]
  },
  {
   "cell_type": "code",
   "execution_count": null,
   "metadata": {},
   "outputs": [],
   "source": [
    "import pandas as pd\n",
    "import numpy as np\n",
    "\n",
    "df = pd.DataFrame({'A': [1, 2, 3], 'B':[4, 5, 6], 'C':[7, 8, 9]}, index=[1,2,3]) \n",
    "df"
   ]
  },
  {
   "cell_type": "code",
   "execution_count": null,
   "metadata": {},
   "outputs": [],
   "source": [
    "# [1] \n",
    "\n",
    "r1 = df.apply(np.sum, axis=1)\n",
    "r2 = df.apply(np.sum, axis=1, result_type='reduce')\n",
    "r3 = df.apply(np.sum, axis=1, result_type='expand')\n",
    "r4 = df.apply(np.sum, axis=1, result_type='broadcast')\n",
    "\n",
    "r1; r2; r3; r4"
   ]
  },
  {
   "cell_type": "code",
   "execution_count": null,
   "metadata": {
    "scrolled": true
   },
   "outputs": [],
   "source": [
    "# [2]\n",
    "\n",
    "r5 = df.apply(np.unique, axis=1)\n",
    "r6 = df.apply(np.unique, axis=1, result_type='reduce')\n",
    "r7 = df.apply(np.unique, axis=1, result_type='expand')\n",
    "r8 = df.apply(np.unique, axis=1, result_type='broadcast')\n",
    "\n",
    "r5; r6; r7; r8"
   ]
  },
  {
   "cell_type": "markdown",
   "metadata": {},
   "source": [
    "### [예제10] df.apply(): result_type=‘expand’ 옵션"
   ]
  },
  {
   "cell_type": "code",
   "execution_count": null,
   "metadata": {},
   "outputs": [],
   "source": [
    "df = pd.DataFrame({'A': [1, 2, 3], 'B':[4, 5, 6], 'C':[7, 8, 9]}, index=[1,2,3]) \n",
    "df"
   ]
  },
  {
   "cell_type": "code",
   "execution_count": null,
   "metadata": {},
   "outputs": [],
   "source": [
    "# [1]\n",
    "\n",
    "r1 = df.apply(lambda x : 0, axis=1, result_type='expand')\n",
    "r2 = df.apply(lambda x : [1,2], axis=1, result_type='expand')\n",
    "r3 = df.apply(lambda x : [1,2,3,4], axis=1, result_type='expand')\n",
    "\n",
    "r1; r2; r3"
   ]
  },
  {
   "cell_type": "code",
   "execution_count": null,
   "metadata": {
    "scrolled": true
   },
   "outputs": [],
   "source": [
    "# [2]\n",
    "\n",
    "def f(x):\n",
    "    return [ sum(x), sum(x)/len(x) ]\n",
    "\n",
    "df[['sum', 'avg']] = df.apply(f, axis=1, result_type='expand')\n",
    "\n",
    "df"
   ]
  },
  {
   "cell_type": "markdown",
   "metadata": {},
   "source": [
    "### [예제11] applymap()의 이해"
   ]
  },
  {
   "cell_type": "code",
   "execution_count": null,
   "metadata": {},
   "outputs": [],
   "source": [
    "df = pd.DataFrame({'A': [1, 2, 3], 'B':[4, 5, 6], 'C':[7, 8, 9]}, index=[1,2,3]) \n",
    "df\n",
    "\n",
    "r1 = df.applymap(float)\n",
    "r2 = df.applymap(lambda x : 'Odd' if x%2  else 'Even')\n",
    "\n",
    "r1; r2"
   ]
  },
  {
   "cell_type": "markdown",
   "metadata": {},
   "source": [
    "### [예제12] apply() 활용예"
   ]
  },
  {
   "cell_type": "code",
   "execution_count": null,
   "metadata": {},
   "outputs": [],
   "source": [
    "df = pd.DataFrame({'model':['TV', 'PC', 'HP', 'AD'],\n",
    "                  'price':[200,300,150,450]})\n",
    "df"
   ]
  },
  {
   "cell_type": "code",
   "execution_count": null,
   "metadata": {},
   "outputs": [],
   "source": [
    "# [1]\n",
    "\n",
    "def func1(x):\n",
    "    if x>300: return 'high'\n",
    "    elif 200<=x<=300: return 'mid'\n",
    "    else: return 'low'\n",
    "\n",
    "df['class'] = df['price'].apply(func1)\n",
    "df"
   ]
  },
  {
   "cell_type": "code",
   "execution_count": null,
   "metadata": {},
   "outputs": [],
   "source": [
    "# [2]\n",
    "\n",
    "dic = {'HP':0.1, 'TV':0.2, 'PC':0.3, 'AD':0.4}\n",
    "\n",
    "def func2(x):\n",
    "    val = x['price'] * dic.get(x['model'])\n",
    "    return [ x['price'] - val, val ]\n",
    "\n",
    "df[['sale','dis']] = df.apply(func2,axis=1,result_type='expand')\n",
    "df"
   ]
  },
  {
   "cell_type": "code",
   "execution_count": null,
   "metadata": {},
   "outputs": [],
   "source": [
    "# [3] \n",
    "\n",
    "def func3(x):\n",
    "    return '{:,}원'.format(x*10000)\n",
    "\n",
    "df['price2'] = df['price'].apply(func3)\n",
    "df"
   ]
  },
  {
   "cell_type": "markdown",
   "metadata": {},
   "source": [
    "### [예제13] map() 메서드의 이해"
   ]
  },
  {
   "cell_type": "code",
   "execution_count": null,
   "metadata": {},
   "outputs": [],
   "source": [
    "df = pd.DataFrame({'model':['TV', 'PC', 'TV', 'PC'],\n",
    "                  'brand':['A', 'A', 'B', 'C'],\n",
    "                    'price':[200,300,150,450]})\n",
    "df\n",
    "\n",
    "code = {'A':'AAA', 'B':'BBB', 'C':'CCC'}\n",
    "r1 = df['price'].map(lambda x:'high' if x>=300 else'low')\n",
    "r2 = df['price'].map(float)\n",
    "r3 = df['brand'].map(pd.Series(code))\n",
    "r4 = df['brand'].map(code)\n",
    "\n",
    "r1; r2; r3; r4"
   ]
  },
  {
   "cell_type": "markdown",
   "metadata": {},
   "source": [
    "### [예제14] 다양한 mapping 방식 비교"
   ]
  },
  {
   "cell_type": "code",
   "execution_count": null,
   "metadata": {},
   "outputs": [],
   "source": [
    "df = pd.DataFrame({'model':['TV', 'PC', 'TV', 'PC'],\n",
    "                  'brand':['A', 'A', 'B', 'C'],\n",
    "                    'price':[200,300,150,450]})\n",
    "df"
   ]
  },
  {
   "cell_type": "code",
   "execution_count": null,
   "metadata": {},
   "outputs": [],
   "source": [
    "# [1]\n",
    "\n",
    "code = {'A':'AA', 'B':'BB'}\n",
    "r1 = df['brand'].map(code)\n",
    "r2 = df['brand'].replace(code)\n",
    "r3 = df['brand'].apply(code.get)\n",
    "\n",
    "r1; r2; r3"
   ]
  },
  {
   "cell_type": "code",
   "execution_count": null,
   "metadata": {},
   "outputs": [],
   "source": [
    "# [2]\n",
    "\n",
    "df.loc[0, 'price'] = np.nan\n",
    "r4 = df['price'].map('{:,}만원'.format)\n",
    "r5 = df['price'].map('{:,}만원'.format, na_action='ignore')\n",
    "\n",
    "r4; r5"
   ]
  },
  {
   "cell_type": "markdown",
   "metadata": {},
   "source": [
    "### [예제15] where(), mask() 메서드의 이해"
   ]
  },
  {
   "cell_type": "code",
   "execution_count": null,
   "metadata": {},
   "outputs": [],
   "source": [
    "df = pd.DataFrame({'model':['TV', 'PC', 'HP', 'AD'],\n",
    "                    'price':[200,300,150,450]})\n",
    "df"
   ]
  },
  {
   "cell_type": "code",
   "execution_count": null,
   "metadata": {},
   "outputs": [],
   "source": [
    "# [1]\n",
    "\n",
    "r1 = df['price'].where(df['price'] >= 300)\n",
    "r2 = df['price'].where(df['price'] >= 300, 'low')\n",
    "r3 = df['price'].mask(df['price'] >= 300, 'high')\n",
    "r4 = np.where(df['price']>=300, 'high', 'low')\n",
    "\n",
    "r1; r2; r3; r4"
   ]
  },
  {
   "cell_type": "code",
   "execution_count": null,
   "metadata": {},
   "outputs": [],
   "source": [
    "# [2]\n",
    "\n",
    "f1 = lambda x : x['price'] >=200\n",
    "f2 = lambda x : pd.Series(['-','-','-','-'])\n",
    "r5 = df.where(f1, '-', axis=0)\n",
    "r6 = df.where(f1, f2, axis=0)\n",
    "r4; r5"
   ]
  }
 ],
 "metadata": {
  "kernelspec": {
   "display_name": "Python 3",
   "language": "python",
   "name": "python3"
  },
  "language_info": {
   "codemirror_mode": {
    "name": "ipython",
    "version": 3
   },
   "file_extension": ".py",
   "mimetype": "text/x-python",
   "name": "python",
   "nbconvert_exporter": "python",
   "pygments_lexer": "ipython3",
   "version": "3.8.3"
  },
  "toc": {
   "base_numbering": 1,
   "nav_menu": {},
   "number_sections": true,
   "sideBar": true,
   "skip_h1_title": true,
   "title_cell": "Table of Contents",
   "title_sidebar": "Contents",
   "toc_cell": false,
   "toc_position": {
    "height": "calc(100% - 180px)",
    "left": "10px",
    "top": "150px",
    "width": "165px"
   },
   "toc_section_display": true,
   "toc_window_display": false
  }
 },
 "nbformat": 4,
 "nbformat_minor": 2
}
