{
 "cells": [
  {
   "cell_type": "code",
   "execution_count": null,
   "metadata": {},
   "outputs": [],
   "source": [
    "from IPython.core.interactiveshell import InteractiveShell\n",
    "InteractiveShell.ast_node_interactivity = \"all\"\n",
    "\n",
    "class disp(object):\n",
    "    template = '<div style=\"float: left;padding:10px;\"> <b>[{0}]</b> {1}</div>'\n",
    "    def __init__(self, *args):\n",
    "        self.args = args\n",
    "        \n",
    "    def _repr_html_(self):\n",
    "        return '\\n'.join( self.template.format(a, eval(a)._repr_html_()) \n",
    "                        for a in self.args)\n",
    "def prt(*pVPK) :\n",
    "    print(*pVPK, sep = '\\n\\n', end = '\\n\\n')\n",
    "    \n",
    "import pandas as pd\n",
    "import numpy as np    "
   ]
  },
  {
   "cell_type": "markdown",
   "metadata": {},
   "source": [
    "### [예제1] insert() 메서드 활용"
   ]
  },
  {
   "cell_type": "code",
   "execution_count": null,
   "metadata": {},
   "outputs": [],
   "source": [
    "df = pd.read_csv('data/02_02_03.csv', index_col = 1)\n",
    "df\n",
    "\n",
    "df.insert(0,'bc',77)\n",
    "df.insert(2, 'gender', ['w', 'm', 'w', 'm']) \n",
    "df.insert(len(df.columns), 0, range(len(df.index))) \n",
    "#df.insert(0,'eng', df['eng']) # error\n",
    "df.insert(0,'eng', df['eng'], allow_duplicates=True)\n",
    "df"
   ]
  },
  {
   "cell_type": "markdown",
   "metadata": {},
   "source": [
    "### [예제2] assign() 메서드 활용"
   ]
  },
  {
   "cell_type": "code",
   "execution_count": null,
   "metadata": {},
   "outputs": [],
   "source": [
    "df = pd.read_csv('data/02_02_03.csv', index_col = 1)\n",
    "df\n",
    "\n",
    "df = df.assign(art = 50) \n",
    "df = df.assign(grade = 3 , etc = [-1,-2,-3,-4])\n",
    "df = df.assign(**{'grade':2 , 'etc':[-4,-3,-2,-1]})\n",
    "df = df.assign(c = df['names'], kor = df['kor']+5)\n",
    "df = df.assign(x = lambda x: x['names'].str.upper())\n",
    "df = df.assign(tot = (df['kor'] + df['eng']), avg = lambda x : x['tot']/2)\n",
    "df"
   ]
  },
  {
   "cell_type": "markdown",
   "metadata": {},
   "source": [
    "### [예제3] sr.update() 동작"
   ]
  },
  {
   "cell_type": "code",
   "execution_count": null,
   "metadata": {},
   "outputs": [],
   "source": [
    "df = pd.read_csv('data/02_02_01.csv', index_col = 0)\n",
    "df\n",
    "\n",
    "sr1 = pd.Series([10,20,30,40,50])\n",
    "sr2 = pd.Series([55,65,75,85,95], index=df.index)\n",
    "sr3 = pd.Series([np.nan, 100, 100], index=['kim','park','song'])\n",
    "sr1; sr2; sr3\n",
    "\n",
    "df['kor'].update(sr1)\n",
    "df['eng'].update(sr2)\n",
    "df['mat'].update(sr3)\n",
    "df"
   ]
  },
  {
   "cell_type": "markdown",
   "metadata": {},
   "source": [
    "### [예제 4] df.update() 동작"
   ]
  },
  {
   "cell_type": "code",
   "execution_count": null,
   "metadata": {},
   "outputs": [],
   "source": [
    "df = pd.read_csv('data/02_02_01.csv', index_col = 0)\n",
    "df\n",
    "\n",
    "sr1 = pd.Series([1, 2], index=['lee','ki'])\n",
    "sr2 = pd.Series([100, 100, 100], index=['kim','park','song'], name='kor')\n",
    "sr3 = pd.Series(100, index=df.index, name='eng')\n",
    "sr4 = pd.Series([40,55,70,80,100], index=['ha','lee','moon','park','lew'], name='mat')\n",
    "sr1; sr2; sr3; sr4\n",
    "\n",
    "df.update(sr1)\n",
    "df.update(sr2)\n",
    "df.update(sr3)\n",
    "df.update(sr4)\n",
    "df"
   ]
  },
  {
   "cell_type": "markdown",
   "metadata": {},
   "source": [
    "### [예제5] update()의 errors, overwrite 옵션"
   ]
  },
  {
   "cell_type": "code",
   "execution_count": null,
   "metadata": {},
   "outputs": [],
   "source": [
    "d1 = pd.read_csv('data/02_02_04.csv', index_col = 0)\n",
    "df = pd.read_csv('data/02_02_01.csv', index_col = 0)\n",
    "d1; df\n",
    "\n",
    "df.update(d1,errors='raise') # error\n",
    "df.update(d1)\n",
    "df"
   ]
  },
  {
   "cell_type": "code",
   "execution_count": null,
   "metadata": {},
   "outputs": [],
   "source": [
    "d2 = pd.read_csv('data/02_02_05.csv', index_col = 0)\n",
    "df = pd.read_csv('data/02_02_01.csv', index_col = 0)\n",
    "d2; df\n",
    "\n",
    "df.update(d2) #overwrite = True\n",
    "df"
   ]
  },
  {
   "cell_type": "code",
   "execution_count": null,
   "metadata": {
    "scrolled": true
   },
   "outputs": [],
   "source": [
    "d2 = pd.read_csv('data/02_02_05.csv', index_col = 0)\n",
    "df = pd.read_csv('data/02_02_01.csv', index_col = 0)\n",
    "d2; df\n",
    "\n",
    "df.update(d2, overwrite = False)\n",
    "df"
   ]
  },
  {
   "cell_type": "markdown",
   "metadata": {},
   "source": [
    "### [예제6] update()의 filter_func 옵션"
   ]
  },
  {
   "cell_type": "code",
   "execution_count": null,
   "metadata": {},
   "outputs": [],
   "source": [
    "d2 = pd.read_csv('data/02_02_05.csv', index_col = 0)\n",
    "df = pd.read_csv('data/02_02_01.csv', index_col = 0)\n",
    "d2; df\n",
    "\n",
    "def func1(c):\n",
    "    if c.dtype != object : prt(c, c >= 90)\n",
    "    return c.dtype != object and c >= 90\n",
    "    \n",
    "df.update(d2, filter_func = func1, overwrite = False)\n",
    "df"
   ]
  },
  {
   "cell_type": "markdown",
   "metadata": {},
   "source": [
    "### [예제7] drop() 메서드 활용"
   ]
  },
  {
   "cell_type": "code",
   "execution_count": null,
   "metadata": {
    "scrolled": true
   },
   "outputs": [],
   "source": [
    "df = pd.read_csv('data/02_02_01.csv', index_col = 0)\n",
    "\n",
    "df1 = df.drop(labels = 'kim') \n",
    "df1 = df1.drop('ki') \n",
    "df1 = df1.drop('eng', axis = 1) \n",
    "df1 = df1.drop(labels = ['kor', 'mat'], axis = 1) \n",
    "disp('df', 'df1')"
   ]
  },
  {
   "cell_type": "code",
   "execution_count": null,
   "metadata": {},
   "outputs": [],
   "source": [
    "df = pd.read_csv('data/02_02_01.csv', index_col = 0)\n",
    "\n",
    "df2 = df.drop(index ='lee') \n",
    "df2 = df2.drop(columns ='kor') \n",
    "df2 = df2.drop(index = ['kim', 'song'], columns ='mat') \n",
    "disp('df', 'df2')"
   ]
  },
  {
   "cell_type": "code",
   "execution_count": null,
   "metadata": {},
   "outputs": [],
   "source": [
    "df = pd.read_csv('data/02_02_01.csv', index_col = 0)\n",
    "\n",
    "df3 = df.drop('kim' , inplace = True)\n",
    "print(df3)\n",
    "df"
   ]
  },
  {
   "cell_type": "code",
   "execution_count": null,
   "metadata": {
    "scrolled": true
   },
   "outputs": [],
   "source": [
    "df = pd.read_csv('data/02_02_01.csv', index_col = 0)\n",
    "\n",
    "#df4 = df.drop(labels = 'lew') #error\n",
    "l1 = ['kim','lew','ki']\n",
    "l2 = ['kor', 'art','eng']\n",
    "df4 = df.drop(index=l1, columns=l2, errors='ignore')\n",
    "disp('df', 'df4')"
   ]
  },
  {
   "cell_type": "markdown",
   "metadata": {},
   "source": [
    "### [예제8] duplicated() 동작"
   ]
  },
  {
   "cell_type": "code",
   "execution_count": null,
   "metadata": {},
   "outputs": [],
   "source": [
    "df = pd.read_csv('data/02_02_01.csv', index_col = 0)\n",
    "df.loc['ki'] = ['B',79,89,99]\n",
    "df\n",
    "\n",
    "r1 = df.duplicated('class', keep = 'first')\n",
    "r1"
   ]
  },
  {
   "cell_type": "code",
   "execution_count": null,
   "metadata": {},
   "outputs": [],
   "source": [
    "df = pd.read_csv('data/02_02_01.csv', index_col = 0)\n",
    "df.loc['ki'] = ['B',79,89,99]\n",
    "df\n",
    "\n",
    "r2 = df.duplicated(subset = ['class','kor','eng'], keep = 'last')\n",
    "r2"
   ]
  },
  {
   "cell_type": "code",
   "execution_count": null,
   "metadata": {},
   "outputs": [],
   "source": [
    "df = pd.read_csv('data/02_02_01.csv', index_col = 0)\n",
    "df.loc['ki'] = ['B',79,89,99]\n",
    "df\n",
    "\n",
    "r3 = df.duplicated()\n",
    "r3"
   ]
  },
  {
   "cell_type": "code",
   "execution_count": null,
   "metadata": {},
   "outputs": [],
   "source": [
    "df = pd.read_csv('data/02_02_01.csv', index_col = 0)\n",
    "df.loc['ki'] = ['B',79,89,99]\n",
    "df\n",
    "\n",
    "r4 = df['kor'].duplicated()\n",
    "r4"
   ]
  },
  {
   "cell_type": "code",
   "execution_count": null,
   "metadata": {},
   "outputs": [],
   "source": [
    "df = pd.read_csv('data/02_02_01.csv', index_col = 0)\n",
    "df['kor'] = [0,10,80,10,10]\n",
    "df1 = df.set_index('kor')\n",
    "df1\n",
    "\n",
    "r5 = df1.index.duplicated()\n",
    "r5"
   ]
  },
  {
   "cell_type": "markdown",
   "metadata": {},
   "source": [
    "### [예제9] drop_duplicates() 동작"
   ]
  },
  {
   "cell_type": "code",
   "execution_count": null,
   "metadata": {},
   "outputs": [],
   "source": [
    "df = pd.read_csv('data/02_02_01.csv', index_col = 0)\n",
    "df.loc['ki'] = ['B',79,89,99]\n",
    "df\n",
    "\n",
    "df1 = df.drop_duplicates('class', keep = 'first')\n",
    "df1"
   ]
  },
  {
   "cell_type": "code",
   "execution_count": null,
   "metadata": {},
   "outputs": [],
   "source": [
    "import pandas as pd\n",
    "import numpy as np\n",
    "\n",
    "df = pd.read_csv('data/02_02_01.csv', index_col = 0)\n",
    "df.loc['ki'] = ['B',79,89,99]\n",
    "df\n",
    "\n",
    "df2 = df.drop_duplicates(['class'], keep = 'last')\n",
    "df2"
   ]
  },
  {
   "cell_type": "code",
   "execution_count": null,
   "metadata": {},
   "outputs": [],
   "source": [
    "import pandas as pd\n",
    "import numpy as np\n",
    "\n",
    "df = pd.read_csv('data/02_02_01.csv', index_col = 0)\n",
    "df.loc['ki'] = ['B',79,89,99]\n",
    "df\n",
    "\n",
    "df3 = df.drop_duplicates(subset = ['class'], keep = False)\n",
    "df3"
   ]
  },
  {
   "cell_type": "code",
   "execution_count": null,
   "metadata": {},
   "outputs": [],
   "source": [
    "import pandas as pd\n",
    "import numpy as np\n",
    "\n",
    "df = pd.read_csv('data/02_02_01.csv', index_col = 0)\n",
    "df.loc['ki'] = ['B',79,89,99]\n",
    "df\n",
    "\n",
    "df4 = df.drop_duplicates(subset = ['class','kor','eng'], keep = False)\n",
    "df4"
   ]
  },
  {
   "cell_type": "code",
   "execution_count": null,
   "metadata": {},
   "outputs": [],
   "source": [
    "import pandas as pd\n",
    "import numpy as np\n",
    "\n",
    "df = pd.read_csv('data/02_02_01.csv', index_col = 0)\n",
    "df.loc['ki'] = ['B',79,89,99]\n",
    "df\n",
    "\n",
    "df5 = df.drop_duplicates()\n",
    "df5"
   ]
  },
  {
   "cell_type": "markdown",
   "metadata": {},
   "source": [
    "### [예제10] select_dtype() 동작"
   ]
  },
  {
   "cell_type": "code",
   "execution_count": null,
   "metadata": {},
   "outputs": [],
   "source": [
    "df = pd.read_csv('data/02_02_01.csv', index_col = 0)\n",
    "df['class'] = df['class'].astype(str)\n",
    "df['kor'] = df['kor'].astype('float32')\n",
    "df['mat'] = df['mat'].astype(float)\n",
    "df.dtypes"
   ]
  },
  {
   "cell_type": "code",
   "execution_count": null,
   "metadata": {},
   "outputs": [],
   "source": [
    "df = pd.read_csv('data/02_02_01.csv', index_col = 0)\n",
    "df['class'] = df['class'].astype(str)\n",
    "df['kor'] = df['kor'].astype('float32')\n",
    "df['mat'] = df['mat'].astype(float)\n",
    "\n",
    "df1 = df.select_dtypes(include = int)\n",
    "df1"
   ]
  },
  {
   "cell_type": "code",
   "execution_count": null,
   "metadata": {},
   "outputs": [],
   "source": [
    "df = pd.read_csv('data/02_02_01.csv', index_col = 0)\n",
    "df['class'] = df['class'].astype(str)\n",
    "df['kor'] = df['kor'].astype('float32')\n",
    "df['mat'] = df['mat'].astype(float)\n",
    "\n",
    "df2 = df.select_dtypes(include = [int,'int64'])\n",
    "df2"
   ]
  },
  {
   "cell_type": "code",
   "execution_count": null,
   "metadata": {},
   "outputs": [],
   "source": [
    "df = pd.read_csv('data/02_02_01.csv', index_col = 0)\n",
    "df['class'] = df['class'].astype(str)\n",
    "df['kor'] = df['kor'].astype('float32')\n",
    "df['mat'] = df['mat'].astype(float)\n",
    "\n",
    "df3 = df.select_dtypes(include = np.number)\n",
    "df3"
   ]
  },
  {
   "cell_type": "code",
   "execution_count": null,
   "metadata": {},
   "outputs": [],
   "source": [
    "df = pd.read_csv('data/02_02_01.csv', index_col = 0)\n",
    "df['class'] = df['class'].astype(str)\n",
    "df['kor'] = df['kor'].astype('float32')\n",
    "df['mat'] = df['mat'].astype(float)\n",
    "\n",
    "df4 = df.select_dtypes(include = np.number, exclude = [int,'int64'])\n",
    "df4"
   ]
  },
  {
   "cell_type": "code",
   "execution_count": null,
   "metadata": {},
   "outputs": [],
   "source": [
    "df = pd.read_csv('data/02_02_01.csv', index_col = 0)\n",
    "df['class'] = df['class'].astype(str)\n",
    "df['kor'] = df['kor'].astype('float32')\n",
    "df['mat'] = df['mat'].astype(float)\n",
    "\n",
    "df5 = df.select_dtypes(include = np.floating)\n",
    "df5"
   ]
  },
  {
   "cell_type": "code",
   "execution_count": null,
   "metadata": {},
   "outputs": [],
   "source": [
    "df = pd.read_csv('data/02_02_01.csv', index_col = 0)\n",
    "df['class'] = df['class'].astype(str)\n",
    "df['kor'] = df['kor'].astype('float32')\n",
    "df['mat'] = df['mat'].astype(float)\n",
    "\n",
    "df6 = df.select_dtypes(include = object)\n",
    "df6"
   ]
  },
  {
   "cell_type": "markdown",
   "metadata": {},
   "source": [
    "### [예제11] pop() 동작"
   ]
  },
  {
   "cell_type": "code",
   "execution_count": null,
   "metadata": {},
   "outputs": [],
   "source": [
    "df = pd.read_csv('data/02_02_01.csv', index_col = 0)\n",
    "df\n",
    "\n",
    "sr = df['kor'].copy()\n",
    "v = sr.pop('kim')\n",
    "prt(sr, v)"
   ]
  },
  {
   "cell_type": "code",
   "execution_count": null,
   "metadata": {},
   "outputs": [],
   "source": [
    "import pandas as pd\n",
    "import numpy as np\n",
    "\n",
    "df = pd.read_csv('data/02_02_01.csv', index_col = 0)\n",
    "df\n",
    "\n",
    "sr1 = df.pop('mat')\n",
    "sr1\n",
    "df"
   ]
  },
  {
   "cell_type": "code",
   "execution_count": null,
   "metadata": {},
   "outputs": [],
   "source": [
    "import pandas as pd\n",
    "import numpy as np\n",
    "\n",
    "df = pd.read_csv('data/02_02_01.csv', index_col = 0)\n",
    "df\n",
    "\n",
    "df.insert(2, 'kor2', df.pop('kor')-5 )\n",
    "df"
   ]
  }
 ],
 "metadata": {
  "kernelspec": {
   "display_name": "Python 3",
   "language": "python",
   "name": "python3"
  },
  "language_info": {
   "codemirror_mode": {
    "name": "ipython",
    "version": 3
   },
   "file_extension": ".py",
   "mimetype": "text/x-python",
   "name": "python",
   "nbconvert_exporter": "python",
   "pygments_lexer": "ipython3",
   "version": "3.8.3"
  },
  "toc": {
   "base_numbering": 1,
   "nav_menu": {},
   "number_sections": true,
   "sideBar": true,
   "skip_h1_title": false,
   "title_cell": "Table of Contents",
   "title_sidebar": "Contents",
   "toc_cell": false,
   "toc_position": {},
   "toc_section_display": true,
   "toc_window_display": false
  }
 },
 "nbformat": 4,
 "nbformat_minor": 2
}
