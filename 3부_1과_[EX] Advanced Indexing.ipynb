{
 "cells": [
  {
   "cell_type": "code",
   "execution_count": null,
   "metadata": {
    "scrolled": true
   },
   "outputs": [],
   "source": [
    "from IPython.core.interactiveshell import InteractiveShell\n",
    "InteractiveShell.ast_node_interactivity = \"all\"\n",
    "\n",
    "class disp(object):\n",
    "    template = '<div style=\"float: left;padding:10px;\"> <b>[{0}]</b> {1}</div>'\n",
    "    def __init__(self, *args):\n",
    "        self.args = args\n",
    "        \n",
    "    def _repr_html_(self):\n",
    "        return '\\n'.join( self.template.format(a, eval(a)._repr_html_()) \n",
    "                        for a in self.args)\n",
    "\n",
    "import pandas as pd\n",
    "import numpy as np"
   ]
  },
  {
   "cell_type": "markdown",
   "metadata": {},
   "source": [
    "### [예제1] 조건에 맞는 데이터 indexing"
   ]
  },
  {
   "cell_type": "code",
   "execution_count": null,
   "metadata": {},
   "outputs": [],
   "source": [
    "df = pd.DataFrame({'name':['kim','lee','park','song','lew'], 'sex':list('WMWMW')})"
   ]
  },
  {
   "cell_type": "code",
   "execution_count": null,
   "metadata": {},
   "outputs": [],
   "source": [
    "# [1]\n",
    "\n",
    "df1 = df[[False, True, False, True, False]]\n",
    "disp('df', 'df1')"
   ]
  },
  {
   "cell_type": "code",
   "execution_count": null,
   "metadata": {
    "scrolled": true
   },
   "outputs": [],
   "source": [
    "# [2]\n",
    "\n",
    "df2 = df[ df['sex'] == 'M' ]\n",
    "print(df['sex'] == 'M')\n",
    "disp('df', 'df2')"
   ]
  },
  {
   "cell_type": "code",
   "execution_count": null,
   "metadata": {},
   "outputs": [],
   "source": [
    "# [3]\n",
    "\n",
    "df3 = df.loc[ lambda x:x['sex']=='M' ]\n",
    "disp('df', 'df3')"
   ]
  },
  {
   "cell_type": "markdown",
   "metadata": {},
   "source": [
    "### [예제2] Boolean vector : list, ndarray"
   ]
  },
  {
   "cell_type": "code",
   "execution_count": null,
   "metadata": {},
   "outputs": [],
   "source": [
    "df = pd.DataFrame({'name':['kim','lee','park','song'], 'sex':list('WMWM'),\n",
    "                  'age':[20, 40, 35, 25]})\n",
    "df"
   ]
  },
  {
   "cell_type": "code",
   "execution_count": null,
   "metadata": {},
   "outputs": [],
   "source": [
    "# [1] \n",
    "\n",
    "row = [False, True, False, True]\n",
    "df1 = df[row]\n",
    "sr1 = df['name'][row]\n",
    "disp('df', 'df1'); sr1"
   ]
  },
  {
   "cell_type": "code",
   "execution_count": null,
   "metadata": {},
   "outputs": [],
   "source": [
    "# [2] \n",
    "\n",
    "row = [False, True, False, True]\n",
    "df2 = df.loc[row]\n",
    "sr2 = df.loc[row, 'name']\n",
    "sr3 = df.iloc[row, 0]\n",
    "disp('df', 'df2'); sr2; sr3"
   ]
  },
  {
   "cell_type": "code",
   "execution_count": null,
   "metadata": {},
   "outputs": [],
   "source": [
    "# [3] \n",
    "\n",
    "row = [False, True, False, True]\n",
    "col = np.array([True, False, True])\n",
    "df3 = df.loc[:, col]\n",
    "df4 = df.loc[row, col]\n",
    "disp('df', 'df3', 'df4')"
   ]
  },
  {
   "cell_type": "markdown",
   "metadata": {},
   "source": [
    "### [예제3] Boolean vector : Series, DataFrame "
   ]
  },
  {
   "cell_type": "code",
   "execution_count": null,
   "metadata": {},
   "outputs": [],
   "source": [
    "df = pd.DataFrame({'name':['kim','lee','park'], 'sex':list('WMW'),\n",
    "                  'age':[20, 40, 30]}).set_index('name')\n",
    "df"
   ]
  },
  {
   "cell_type": "code",
   "execution_count": null,
   "metadata": {},
   "outputs": [],
   "source": [
    "# [1-1] \n",
    "\n",
    "barr = [True,False,True]\n",
    "mask1 = pd.Series(barr, index=['kim','lee','park'])\n",
    "df1 = df[mask1]\n",
    "sr1 = df['sex'][mask1]\n",
    "mask1; disp('df', 'df1'); sr1"
   ]
  },
  {
   "cell_type": "code",
   "execution_count": null,
   "metadata": {},
   "outputs": [],
   "source": [
    "# [1-2] \n",
    "\n",
    "barr = [True,False,True]\n",
    "mask2 = pd.Series(barr, index=['park','lee','kim'])\n",
    "sr2 = df['sex'][mask2]\n",
    "df; mask2; sr2"
   ]
  },
  {
   "cell_type": "code",
   "execution_count": null,
   "metadata": {},
   "outputs": [],
   "source": [
    "# [1-3]\n",
    "\n",
    "barr = [True, False, True]\n",
    "mask3 = pd.Series(barr, index = ['kim','lee','song'])\n",
    "sr3 = df['sex'][mask3] #error    "
   ]
  },
  {
   "cell_type": "code",
   "execution_count": null,
   "metadata": {},
   "outputs": [],
   "source": [
    "# [2]\n",
    "\n",
    "barr2 = [[True, False], [False, True], [True, True]]\n",
    "idx, col = ['kim', 'lee', 'song'], ['sex','age']\n",
    "mask4 = pd.DataFrame(barr2,index=idx, columns=col)\n",
    "df2 = df[mask4]      \n",
    "disp('df', 'mask4', 'df2')"
   ]
  },
  {
   "cell_type": "markdown",
   "metadata": {},
   "source": [
    "### [예제4] DataFrame / Series의 비교 및 논리연산"
   ]
  },
  {
   "cell_type": "code",
   "execution_count": null,
   "metadata": {},
   "outputs": [],
   "source": [
    "df = pd.DataFrame({'sex':list('WMWM'),'kor':[70,80,100,50], 'eng':[80,30,60,90]}\n",
    "                 , index=['kim','lee','park','song'])\n",
    "df"
   ]
  },
  {
   "cell_type": "code",
   "execution_count": null,
   "metadata": {
    "scrolled": true
   },
   "outputs": [],
   "source": [
    "# [1-1] \n",
    "\n",
    "sr1 = df['kor'] >= 80\n",
    "sr2 = df['kor'].ge(df['kor'].mean())\n",
    "df; sr1; sr2"
   ]
  },
  {
   "cell_type": "code",
   "execution_count": null,
   "metadata": {},
   "outputs": [],
   "source": [
    "# [1-2]\n",
    "\n",
    "sr3 = df['sex'].eq('W')\n",
    "sr4 = ~(df['sex']=='M')   \n",
    "df; sr3; sr4"
   ]
  },
  {
   "cell_type": "code",
   "execution_count": null,
   "metadata": {},
   "outputs": [],
   "source": [
    "# [1-3] \n",
    "\n",
    "df5 = df[['kor', 'eng']] >=80\n",
    "df6 = df >= 80  #error\n",
    "disp('df', 'df5')   "
   ]
  },
  {
   "cell_type": "code",
   "execution_count": null,
   "metadata": {},
   "outputs": [],
   "source": [
    "# [2] \n",
    "\n",
    "sr7 = (df['sex']=='W') & (df['kor']>=80)\n",
    "sr8 = (df['sex']=='W') and (df['kor']>=80) #error   \n",
    "df; sr7"
   ]
  },
  {
   "cell_type": "markdown",
   "metadata": {},
   "source": [
    "### [예제5]  Boolean Vector : 조건식"
   ]
  },
  {
   "cell_type": "code",
   "execution_count": null,
   "metadata": {},
   "outputs": [],
   "source": [
    "df = pd.DataFrame({'name':['kim','lee','park','song'], 'sex':list('WMWM'),\n",
    "                  'age':[20, 40, 35, 30]}).set_index('name')\n",
    "df"
   ]
  },
  {
   "cell_type": "code",
   "execution_count": null,
   "metadata": {},
   "outputs": [],
   "source": [
    "# [1]\n",
    "\n",
    "mask = df['sex']=='W'\n",
    "df1 = df[mask]\n",
    "df2 = df.loc[mask]\n",
    "df3 = df.iloc[mask] #error\n",
    "df4 = df.iloc[mask.to_list()]\n",
    "mask; disp('df', 'df1', 'df2', 'df4')"
   ]
  },
  {
   "cell_type": "code",
   "execution_count": null,
   "metadata": {
    "scrolled": true
   },
   "outputs": [],
   "source": [
    "# [2]\n",
    "\n",
    "df5 = df[df.index=='park']\n",
    "disp('df', 'df5')"
   ]
  },
  {
   "cell_type": "code",
   "execution_count": null,
   "metadata": {},
   "outputs": [],
   "source": [
    "# [3]\n",
    "df = pd.DataFrame({'name':['kim','lee','park','song'], 'sex':list('WMWM'),\n",
    "                  'age':[20, 40, 35, 30]}).set_index('name')\n",
    "\n",
    "df.loc[df['age']>30, 'age2'] = 'high'\n",
    "df.loc[df['age']<=30, 'age2'] = 'low'  \n",
    "df6 = df.loc[df['age2']=='high']\n",
    "\n",
    "disp('df', 'df6')"
   ]
  },
  {
   "cell_type": "markdown",
   "metadata": {},
   "source": [
    "### [예제6] 사용자 함수에 의한 Indexing"
   ]
  },
  {
   "cell_type": "code",
   "execution_count": null,
   "metadata": {},
   "outputs": [],
   "source": [
    "# [1-1]\n",
    "\n",
    "df = pd.DataFrame({'name':['kim','lee','park','song'],'kor':[80,30,50,90],\n",
    "                  'eng':[90,100,70,50]}).set_index('name')\n",
    "df\n",
    "\n",
    "def f1(x): \n",
    "    print(type(x))\n",
    "    print(x)\n",
    "    return 'kor'\n",
    "\n",
    "v1 = df.loc['kim'][f1]\n",
    "v1"
   ]
  },
  {
   "cell_type": "code",
   "execution_count": null,
   "metadata": {},
   "outputs": [],
   "source": [
    "# [1-2]\n",
    "\n",
    "df = pd.DataFrame({'name':['kim','lee','park','song'],'kor':[80,30,50,90],\n",
    "                  'eng':[90,100,70,50]}).set_index('name')\n",
    "df\n",
    "\n",
    "def f1(x): \n",
    "    print(type(x))\n",
    "    print(x)\n",
    "    return 'kor'\n",
    "\n",
    "sr1 = df[f1]\n",
    "sr1"
   ]
  },
  {
   "cell_type": "code",
   "execution_count": null,
   "metadata": {},
   "outputs": [],
   "source": [
    "# [2] \n",
    "\n",
    "df = pd.DataFrame({'name':['kim','lee','park','song'],'kor':[80,30,50,90],\n",
    "                  'eng':[90,100,70,50]}).set_index('name')\n",
    "\n",
    "def f2(x) :\n",
    "    x['avg'] = (x['kor'] + x['eng'] )//2\n",
    "    return x['avg'] >= 70\n",
    "\n",
    "df1 = df[f2] \n",
    "disp('df', 'df1')"
   ]
  },
  {
   "cell_type": "markdown",
   "metadata": {},
   "source": [
    "### [예제7] Series의 .str accessor"
   ]
  },
  {
   "cell_type": "code",
   "execution_count": null,
   "metadata": {
    "scrolled": true
   },
   "outputs": [],
   "source": [
    "df = pd.DataFrame({'name':['kim','lee','ki','song'], 'sex':list('WMWM')})\n",
    "\n",
    "mask = df['name'].str.contains('a|i') \n",
    "df1 = df[ mask ]  \n",
    "df2 = df[df['name'].str.endswith(('m','i'))]\n",
    "df3 = df[df['name'].str.startswith('k')]\n",
    "mask; disp('df', 'df1', 'df2', 'df3')"
   ]
  },
  {
   "cell_type": "markdown",
   "metadata": {},
   "source": [
    "### [예제8] 조건에 따른 필터링과 집계"
   ]
  },
  {
   "cell_type": "code",
   "execution_count": null,
   "metadata": {},
   "outputs": [],
   "source": [
    "name = ['kim','lee','park','song','lew']\n",
    "ban = list('AABBA')\n",
    "exam = [80,70,90,50,100]\n",
    "df = pd.DataFrame({'class':ban,'name':name,'exam':exam})\n",
    "df"
   ]
  },
  {
   "cell_type": "code",
   "execution_count": null,
   "metadata": {},
   "outputs": [],
   "source": [
    "# [1]\n",
    "\n",
    "r1 = df.loc[ df['class']=='A', 'name' ].count()\n",
    "r1"
   ]
  },
  {
   "cell_type": "code",
   "execution_count": null,
   "metadata": {},
   "outputs": [],
   "source": [
    "# [2]\n",
    "\n",
    "r2 = df.loc[df['exam']>=60,'class'].value_counts()\n",
    "r2"
   ]
  },
  {
   "cell_type": "code",
   "execution_count": null,
   "metadata": {
    "scrolled": true
   },
   "outputs": [],
   "source": [
    "# [3]\n",
    "\n",
    "r3 = df[df['class']=='A'].nlargest(1,['exam'])   \n",
    "r3"
   ]
  },
  {
   "cell_type": "code",
   "execution_count": null,
   "metadata": {},
   "outputs": [],
   "source": [
    "# [4]\n",
    "\n",
    "def func(x):\n",
    "    x['name'] = x['name'].str.upper()\n",
    "    return x['name'].str.startswith(('K', 'P'))  \n",
    "\n",
    "r4 = df.loc[func, ['name','exam']]\n",
    "r4"
   ]
  },
  {
   "cell_type": "markdown",
   "metadata": {},
   "source": [
    "### [예제9] all(), any() 메서드"
   ]
  },
  {
   "cell_type": "code",
   "execution_count": null,
   "metadata": {
    "scrolled": true
   },
   "outputs": [],
   "source": [
    "# [1]\n",
    "\n",
    "mask = [[True, True, False],[True, False, False],[True, False, False]]\n",
    "df = pd.DataFrame(mask, columns=['A','B','C'])\n",
    "sr1 = df.all(axis = 0)\n",
    "sr2 = df.all(axis = 1)\n",
    "df; sr1; sr2"
   ]
  },
  {
   "cell_type": "code",
   "execution_count": null,
   "metadata": {},
   "outputs": [],
   "source": [
    "# [2]\n",
    "\n",
    "mask = [[True, True, False],[True, False, False],[True, False, False]]\n",
    "df = pd.DataFrame(mask, columns=['A','B','C'])\n",
    "sr3 = df.any(axis = 0)\n",
    "sr4 = df.any(axis = 1)  \n",
    "df; sr3; sr4"
   ]
  },
  {
   "cell_type": "markdown",
   "metadata": {},
   "source": [
    "### [예제10] isin() 메서드 1"
   ]
  },
  {
   "cell_type": "code",
   "execution_count": null,
   "metadata": {},
   "outputs": [],
   "source": [
    "df = pd.DataFrame({'name':['kim','lee','park'],\n",
    "                   'kor':[100, 50, 80],\n",
    "                  'eng':[70, 100, 90]}).set_index('name')"
   ]
  },
  {
   "cell_type": "code",
   "execution_count": null,
   "metadata": {
    "scrolled": true
   },
   "outputs": [],
   "source": [
    "m1 = df.isin([50, 100])\n",
    "df1 = df[m1]\n",
    "disp('df', 'm1', 'df1')"
   ]
  },
  {
   "cell_type": "code",
   "execution_count": null,
   "metadata": {},
   "outputs": [],
   "source": [
    "m2 = df.isin(100) #error\n",
    "m3 = df.isin([100])\n",
    "m4 = df['kor'].isin([100])\n",
    "m3; m4"
   ]
  },
  {
   "cell_type": "markdown",
   "metadata": {},
   "source": [
    "### [예제11] isin() 메서드 2"
   ]
  },
  {
   "cell_type": "code",
   "execution_count": null,
   "metadata": {},
   "outputs": [],
   "source": [
    "df = pd.DataFrame({'name':['kim','lee','park'], 'sex':list('MWM'),\n",
    "                   'age':[30,40,50]}).set_index('name')"
   ]
  },
  {
   "cell_type": "code",
   "execution_count": null,
   "metadata": {
    "scrolled": true
   },
   "outputs": [],
   "source": [
    "# [1-1]\n",
    "\n",
    "m1 = df.isin(['M', 30, 40])\n",
    "m2 = df.isin({'sex':['M'],'age':[30,40]})    \n",
    "disp('df', 'm1', 'm2')"
   ]
  },
  {
   "cell_type": "code",
   "execution_count": null,
   "metadata": {
    "scrolled": true
   },
   "outputs": [],
   "source": [
    "# [1-2]\n",
    "\n",
    "m3 = df.isin(pd.Series([50,40,30], index=df.index))\n",
    "m4 = df.isin(pd.DataFrame({'sex':'M','age':30}, index=df.index))\n",
    "disp('df', 'm3', 'm4')"
   ]
  },
  {
   "cell_type": "code",
   "execution_count": null,
   "metadata": {},
   "outputs": [],
   "source": [
    "# [2-1]\n",
    "\n",
    "m4 = df.isin(pd.DataFrame({'sex':'M','age':30}, index=df.index))\n",
    "m5 = m4.any(axis=1)\n",
    "df1 = df[m5]\n",
    "m4; m5; disp('df', 'df1')"
   ]
  },
  {
   "cell_type": "code",
   "execution_count": null,
   "metadata": {},
   "outputs": [],
   "source": [
    "# [2-2]\n",
    "\n",
    "m4 = df.isin(pd.DataFrame({'sex':'M','age':30}, index=df.index))\n",
    "m6 = m4.all(axis=1)\n",
    "df2 = df[m6]\n",
    "m4; m6; disp('df', 'df2')"
   ]
  },
  {
   "cell_type": "markdown",
   "metadata": {},
   "source": [
    "### [예제12] isin() 메서드 활용"
   ]
  },
  {
   "cell_type": "code",
   "execution_count": null,
   "metadata": {},
   "outputs": [],
   "source": [
    "df = pd.DataFrame({'name':['kim','lee','park','song'], \n",
    "                   'sex':list('WMWM'),\n",
    "                   'age':[30,40,40,50],\n",
    "                  'id':[1,2,3,4]}).set_index('name')"
   ]
  },
  {
   "cell_type": "code",
   "execution_count": null,
   "metadata": {},
   "outputs": [],
   "source": [
    "# [1]\n",
    "\n",
    "m1 = (df['sex']=='M') | (df['age']>=40)\n",
    "m2 = ~(df['sex']=='W') & (df['age']>=40)\n",
    "df1, df2 = df[m1], df[m2]\n",
    "m1; m2; disp('df', 'df1', 'df2')"
   ]
  },
  {
   "cell_type": "code",
   "execution_count": null,
   "metadata": {
    "scrolled": true
   },
   "outputs": [],
   "source": [
    "# [2-1]\n",
    "\n",
    "dic = {'sex':['M'],'age':[40]}\n",
    "m3 = df.isin(dic).any(axis=1)\n",
    "df3 = df[m3]\n",
    "m3; disp('df','df3')"
   ]
  },
  {
   "cell_type": "code",
   "execution_count": null,
   "metadata": {
    "scrolled": true
   },
   "outputs": [],
   "source": [
    "# [2-2]\n",
    "\n",
    "dic = {'sex':['M'],'age':[40]}\n",
    "m4 = df.isin(dic).all(axis=1) #?\n",
    "df4 = df[m4]\n",
    "m4; disp('df', 'df4')"
   ]
  },
  {
   "cell_type": "code",
   "execution_count": null,
   "metadata": {},
   "outputs": [],
   "source": [
    "# [2-3]\n",
    "\n",
    "dic = {'sex':['M'],'age':[40]}\n",
    "m5 = df[['sex','age']].isin(dic).all(axis=1)\n",
    "df5 = df[m5]\n",
    "m5; disp('df', 'df5')"
   ]
  },
  {
   "cell_type": "markdown",
   "metadata": {},
   "source": [
    "### [예제13] duplicated() 메서드 이해 1"
   ]
  },
  {
   "cell_type": "code",
   "execution_count": null,
   "metadata": {},
   "outputs": [],
   "source": [
    "df = pd.DataFrame({'name':['kim','lee','park','kim'],\n",
    "                   'id':[10, 15, 20, 10]})"
   ]
  },
  {
   "cell_type": "code",
   "execution_count": null,
   "metadata": {},
   "outputs": [],
   "source": [
    "# [1]\n",
    "\n",
    "m1 = df.duplicated()\n",
    "df1 = df[m1]\n",
    "m1; disp('df', 'df1')"
   ]
  },
  {
   "cell_type": "code",
   "execution_count": null,
   "metadata": {},
   "outputs": [],
   "source": [
    "# [2]\n",
    "\n",
    "m2 = ~df.duplicated()\n",
    "df2 = df[m2]\n",
    "m2; disp('df', 'df2')"
   ]
  },
  {
   "cell_type": "markdown",
   "metadata": {},
   "source": [
    "### [예제14] duplicated() 메서드 이해 2"
   ]
  },
  {
   "cell_type": "code",
   "execution_count": null,
   "metadata": {},
   "outputs": [],
   "source": [
    "df = pd.DataFrame({'name':['kim','lee','park','kim'],\n",
    "                   'id':[10, 15, 20, 10]})"
   ]
  },
  {
   "cell_type": "code",
   "execution_count": null,
   "metadata": {},
   "outputs": [],
   "source": [
    "# [1]\n",
    "\n",
    "m1 = df.duplicated(keep = 'last')\n",
    "df1 = df[~m1]\n",
    "m1; disp('df', 'df1')"
   ]
  },
  {
   "cell_type": "code",
   "execution_count": null,
   "metadata": {},
   "outputs": [],
   "source": [
    "# [2]\n",
    "\n",
    "m2 = df.duplicated(keep = False)\n",
    "df2 = df[~m2]\n",
    "m2; disp('df', 'df2')"
   ]
  },
  {
   "cell_type": "code",
   "execution_count": null,
   "metadata": {
    "scrolled": true
   },
   "outputs": [],
   "source": [
    "# [3]\n",
    "\n",
    "m3 = df.duplicated(['name'])\n",
    "m4 = df['name'].duplicated()\n",
    "df3, df4 = df[~m3], df[~m4]\n",
    "m3; m4; disp('df', 'df3', 'df4')"
   ]
  },
  {
   "cell_type": "code",
   "execution_count": null,
   "metadata": {},
   "outputs": [],
   "source": [
    "# [4]\n",
    "df = pd.DataFrame({'name':['kim','lee','park','kim'],\n",
    "                   'id':[10, 15, 20, 10]})\n",
    "\n",
    "df = df.set_index('name')\n",
    "m5 = df.index.duplicated()\n",
    "df5 = df[~m5]\n",
    "m5; disp('df', 'df5')"
   ]
  },
  {
   "cell_type": "markdown",
   "metadata": {},
   "source": [
    "### [예제15] 조건에 따른 필터링 활용"
   ]
  },
  {
   "cell_type": "code",
   "execution_count": null,
   "metadata": {},
   "outputs": [],
   "source": [
    "grade=[1,1,2,1,2]\n",
    "names = ['kim','lee','park','song','lew']\n",
    "major = ['math','kor','com','kor','eng']\n",
    "exam = [80, np.nan, 90, 100,np.nan]\n",
    "d = {'grade':grade,'major':major,'exam':exam}\n",
    "df = pd.DataFrame(d,index=names)\n",
    "df"
   ]
  },
  {
   "cell_type": "code",
   "execution_count": null,
   "metadata": {},
   "outputs": [],
   "source": [
    "# [1]\n",
    "\n",
    "r1 = df[df['major'].isin(['kor', 'math'])]\n",
    "r1"
   ]
  },
  {
   "cell_type": "code",
   "execution_count": null,
   "metadata": {},
   "outputs": [],
   "source": [
    "# [2]\n",
    "\n",
    "dic = {'grade':[1],'major':['kor', 'math']}\n",
    "r2 = df[ df[['grade','major']].isin(dic).all(axis=1) ]\n",
    "r2"
   ]
  },
  {
   "cell_type": "code",
   "execution_count": null,
   "metadata": {
    "scrolled": true
   },
   "outputs": [],
   "source": [
    "# [3]\n",
    "\n",
    "r3 = df[ df['exam'].isna()]\n",
    "r4 = df[ df['exam'].isin([np.nan])]\n",
    "r3; r4"
   ]
  },
  {
   "cell_type": "code",
   "execution_count": null,
   "metadata": {},
   "outputs": [],
   "source": [
    "# [4]\n",
    "\n",
    "df.loc[df['exam'].isna(), 'YN'] = 'NO'\n",
    "df.loc[df['exam'].notna(), 'YN'] = 'YES'\n",
    "df"
   ]
  }
 ],
 "metadata": {
  "kernelspec": {
   "display_name": "Python 3",
   "language": "python",
   "name": "python3"
  },
  "language_info": {
   "codemirror_mode": {
    "name": "ipython",
    "version": 3
   },
   "file_extension": ".py",
   "mimetype": "text/x-python",
   "name": "python",
   "nbconvert_exporter": "python",
   "pygments_lexer": "ipython3",
   "version": "3.8.3"
  },
  "toc": {
   "base_numbering": 1,
   "nav_menu": {},
   "number_sections": true,
   "sideBar": true,
   "skip_h1_title": true,
   "title_cell": "Table of Contents",
   "title_sidebar": "Contents",
   "toc_cell": false,
   "toc_position": {
    "height": "calc(100% - 180px)",
    "left": "10px",
    "top": "150px",
    "width": "165px"
   },
   "toc_section_display": true,
   "toc_window_display": false
  }
 },
 "nbformat": 4,
 "nbformat_minor": 2
}
